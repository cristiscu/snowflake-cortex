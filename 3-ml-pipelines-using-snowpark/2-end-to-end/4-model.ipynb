{
 "cells": [
  {
   "cell_type": "markdown",
   "metadata": {},
   "source": [
    "Connect to Snowflake"
   ]
  },
  {
   "cell_type": "code",
   "execution_count": null,
   "metadata": {},
   "outputs": [],
   "source": [
    "import os, configparser\n",
    "parser = configparser.ConfigParser()\n",
    "parser.read(os.path.join(os.path.expanduser('~'), \".snowsql/config\"))\n",
    "section = \"connections.test_conn\"\n",
    "pars = {\n",
    "    \"account\": parser.get(section, \"accountname\"),\n",
    "    \"user\": parser.get(section, \"username\"),\n",
    "    \"password\": parser.get(section, \"password\"),\n",
    "    \"database\": parser.get(section, \"database\"),\n",
    "    \"schema\": parser.get(section, \"schema\")}\n",
    "\n",
    "from snowflake.snowpark import Session\n",
    "session = Session.builder.configs(pars).create()\n",
    "print(session.sql('select current_warehouse(), current_database(), current_schema()').collect())"
   ]
  },
  {
   "cell_type": "markdown",
   "metadata": {},
   "source": [
    "Save model in internal named stage"
   ]
  },
  {
   "cell_type": "code",
   "execution_count": null,
   "metadata": {},
   "outputs": [],
   "source": [
    "def save_model(session, model, stage_name, stage_path, model_file):\n",
    "    import io, joblib\n",
    "\n",
    "    input_stream = io.BytesIO()\n",
    "    input_stream.name = model_file\n",
    "    joblib.dump(model, input_stream)\n",
    "\n",
    "    model_path = f'{stage_name}/{stage_path}/{model_file}'\n",
    "    session.file.put_stream(input_stream, model_path, overwrite=True)\n",
    "    return model_path"
   ]
  },
  {
   "cell_type": "markdown",
   "metadata": {},
   "source": [
    "Read model from stage"
   ]
  },
  {
   "cell_type": "code",
   "execution_count": null,
   "metadata": {},
   "outputs": [],
   "source": [
    "session.clear_imports()\n",
    "session.clear_packages()\n",
    "\n",
    "import cachetools\n",
    "@cachetools.cached(cache={})\n",
    "def read_model(model_file):\n",
    "    import sys, os, joblib\n",
    "    \n",
    "    import_dir = sys._xoptions.get(\"snowflake_import_directory\")\n",
    "    if import_dir:\n",
    "        with open(os.path.join(import_dir, model_file), 'rb') as file:\n",
    "            m = joblib.load(file)\n",
    "            return m"
   ]
  }
 ],
 "metadata": {
  "kernelspec": {
   "display_name": "Python 3",
   "language": "python",
   "name": "python3"
  },
  "language_info": {
   "codemirror_mode": {
    "name": "ipython",
    "version": 3
   },
   "file_extension": ".py",
   "mimetype": "text/x-python",
   "name": "python",
   "nbconvert_exporter": "python",
   "pygments_lexer": "ipython3",
   "version": "3.9.6"
  }
 },
 "nbformat": 4,
 "nbformat_minor": 2
}
