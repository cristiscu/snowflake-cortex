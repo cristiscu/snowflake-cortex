{
 "cells": [
  {
   "cell_type": "code",
   "execution_count": 6,
   "id": "268fd956",
   "metadata": {},
   "outputs": [
    {
     "name": "stdout",
     "output_type": "stream",
     "text": [
      "---------------------------------------------------------------------------------------\n",
      "|\"REVIEW\"                                            |\"SENTIMENT\"  |\"SENTIMENT_FLAG\"  |\n",
      "---------------------------------------------------------------------------------------\n",
      "|aking this film into a monumental success simpl...  |negative     |2                 |\n",
      "|\"I remember seeing this film years ago on, I th...  |positive     |1                 |\n",
      "|\"A truly masterful piece of filmmaking. It mana...  |negative     |2                 |\n",
      "|\"Terrible. There's no way to get around it. A s...  |negative     |2                 |\n",
      "|\"Take a few dark and stormy nights, fog coming ...  |negative     |2                 |\n",
      "|\"I enjoyed the beautiful scenery in this movie ...  |negative     |2                 |\n",
      "|\"*********Ten out of Ten Stars********* <br /><...  |positive     |1                 |\n",
      "|\"This film was total rubbish. I was sitting wat...  |negative     |2                 |\n",
      "|\"Lady and the Tramp II: Scamp's Adventure is a ...  |positive     |1                 |\n",
      "|\"I saw this film before two weeks. It's kitsch,...  |negative     |2                 |\n",
      "---------------------------------------------------------------------------------------\n",
      "\n"
     ]
    }
   ],
   "source": [
    "import cachetools\n",
    "from snowflake.snowpark import functions as fn\n",
    "from snowflake.snowpark.functions import col, udf\n",
    "from snowflake.snowpark.session import Session\n",
    "from snowflake.ml.utils.connection_params import SnowflakeLoginOptions\n",
    "\n",
    "pars = SnowflakeLoginOptions(\"test_conn\")\n",
    "pars[\"database\"] = \"IMDB\"\n",
    "session = Session.builder.configs(pars).create()\n",
    "\n",
    "test_dataset = session.table(\"TEST_DATASET\")\n",
    "df = test_dataset.withColumn(\"SENTIMENT_FLAG\",\n",
    "    fn.when(test_dataset.SENTIMENT == \"positive\", 1).otherwise(2))\n",
    "df.show()"
   ]
  },
  {
   "cell_type": "markdown",
   "id": "565788c0",
   "metadata": {},
   "source": [
    "Load model from stage."
   ]
  },
  {
   "cell_type": "code",
   "execution_count": 2,
   "id": "0757dbca",
   "metadata": {},
   "outputs": [
    {
     "name": "stderr",
     "output_type": "stream",
     "text": [
      "WARNING:snowflake.snowpark.session:The version of package 'snowflake-snowpark-python' in the local environment is 1.14.0, which does not fit the criteria for the requirement 'snowflake-snowpark-python'. Your UDF might not work when the package version is different between the server and your local environment.\n",
      "WARNING:snowflake.snowpark.session:The version of package 'scikit-learn' in the local environment is 1.3.2, which does not fit the criteria for the requirement 'scikit-learn'. Your UDF might not work when the package version is different between the server and your local environment.\n",
      "WARNING:snowflake.snowpark.session:The version of package 'joblib' in the local environment is 1.3.2, which does not fit the criteria for the requirement 'joblib'. Your UDF might not work when the package version is different between the server and your local environment.\n",
      "WARNING:snowflake.snowpark.session:The version of package 'cachetools' in the local environment is 5.3.3, which does not fit the criteria for the requirement 'cachetools'. Your UDF might not work when the package version is different between the server and your local environment.\n"
     ]
    }
   ],
   "source": [
    "session.clear_imports()\n",
    "session.add_import(\"@models/model_review.joblib\")\n",
    "session.add_import(\"@models/vect_review.joblib\")\n",
    "\n",
    "session.clear_packages()\n",
    "session.add_packages(\"snowflake-snowpark-python\",\n",
    "    \"scikit-learn\", \"pandas\", \"numpy\", \"nltk\", \"joblib\", \"cachetools\")"
   ]
  },
  {
   "cell_type": "code",
   "execution_count": 3,
   "id": "aa9e1e63",
   "metadata": {},
   "outputs": [],
   "source": [
    "@cachetools.cached(cache={})\n",
    "def load_file(filename):\n",
    "    \n",
    "    import os, sys, joblib\n",
    "    import_dir = sys._xoptions.get(\"snowflake_import_directory\")\n",
    "    if import_dir:\n",
    "        with open(os.path.join(import_dir, filename), 'rb') as file:\n",
    "            return joblib.load(file)"
   ]
  },
  {
   "cell_type": "code",
   "execution_count": 4,
   "id": "e546d34f",
   "metadata": {},
   "outputs": [],
   "source": [
    "@udf(name='predict_review', is_permanent=True, stage_location='@models', replace=True)\n",
    "def predict_review(args: list) -> float:\n",
    "    \n",
    "    import pandas as pd\n",
    "    from joblib import load\n",
    "\n",
    "    features = list([\"REVIEW\", \"SENTIMENT_FLAG\"])\n",
    "    row = pd.DataFrame([args], columns=features)\n",
    "    bowTest = load_file(\"vect_review.joblib\").transform(row.REVIEW.values)\n",
    "    return load_file(\"model_review.joblib\").predict(bowTest)"
   ]
  },
  {
   "cell_type": "code",
   "execution_count": 9,
   "id": "8a3385b6",
   "metadata": {},
   "outputs": [
    {
     "name": "stdout",
     "output_type": "stream",
     "text": [
      "{'queries': ['SELECT \"REVIEW\", \"SENTIMENT\", \"SENTIMENT_FLAG\", predict_review(array_construct(\"REVIEW\", \"SENTIMENT_FLAG\")) AS \"PREDICTED_REVIEW\" FROM ( SELECT \"REVIEW\", \"SENTIMENT\",  CASE  WHEN (\"SENTIMENT\" = \\'positive\\') THEN 1 :: INT ELSE 2 :: INT END  AS \"SENTIMENT_FLAG\" FROM TEST_DATASET)'], 'post_actions': []}\n",
      "------------------------------------------------------------------------------------------------------------\n",
      "|\"REVIEW\"                                            |\"SENTIMENT\"  |\"SENTIMENT_FLAG\"  |\"PREDICTED_REVIEW\"  |\n",
      "------------------------------------------------------------------------------------------------------------\n",
      "|aking this film into a monumental success simpl...  |negative     |2                 |2.0                 |\n",
      "|\"I remember seeing this film years ago on, I th...  |positive     |1                 |1.0                 |\n",
      "|\"A truly masterful piece of filmmaking. It mana...  |negative     |2                 |2.0                 |\n",
      "|\"Terrible. There's no way to get around it. A s...  |negative     |2                 |2.0                 |\n",
      "|\"Take a few dark and stormy nights, fog coming ...  |negative     |2                 |2.0                 |\n",
      "|\"I enjoyed the beautiful scenery in this movie ...  |negative     |2                 |2.0                 |\n",
      "|\"*********Ten out of Ten Stars********* <br /><...  |positive     |1                 |1.0                 |\n",
      "|\"This film was total rubbish. I was sitting wat...  |negative     |2                 |2.0                 |\n",
      "|\"Lady and the Tramp II: Scamp's Adventure is a ...  |positive     |1                 |1.0                 |\n",
      "|\"I saw this film before two weeks. It's kitsch,...  |negative     |2                 |2.0                 |\n",
      "------------------------------------------------------------------------------------------------------------\n",
      "\n"
     ]
    }
   ],
   "source": [
    "query = df.select(df.REVIEW, df.SENTIMENT, df.SENTIMENT_FLAG,\n",
    "      fn.call_udf(\"predict_review\",\n",
    "            fn.array_construct(col(\"REVIEW\"),\n",
    "            col(\"SENTIMENT_FLAG\"))\n",
    "      ).alias('PREDICTED_REVIEW'))\n",
    "print(query.queries)\n",
    "query.show()"
   ]
  },
  {
   "cell_type": "markdown",
   "id": "c8467319",
   "metadata": {},
   "source": []
  }
 ],
 "metadata": {
  "kernelspec": {
   "display_name": "Python 3 (ipykernel)",
   "language": "python",
   "name": "python3"
  },
  "language_info": {
   "codemirror_mode": {
    "name": "ipython",
    "version": 3
   },
   "file_extension": ".py",
   "mimetype": "text/x-python",
   "name": "python",
   "nbconvert_exporter": "python",
   "pygments_lexer": "ipython3",
   "version": "3.9.6"
  }
 },
 "nbformat": 4,
 "nbformat_minor": 5
}
