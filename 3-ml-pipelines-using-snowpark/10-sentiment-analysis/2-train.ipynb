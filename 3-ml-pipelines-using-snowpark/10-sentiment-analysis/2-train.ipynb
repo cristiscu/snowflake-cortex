{
 "cells": [
  {
   "cell_type": "code",
   "execution_count": 1,
   "id": "268fd956",
   "metadata": {},
   "outputs": [
    {
     "name": "stderr",
     "output_type": "stream",
     "text": [
      "SnowflakeLoginOptions() is in private preview since 0.2.0. Do not use it in production. \n"
     ]
    },
    {
     "name": "stdout",
     "output_type": "stream",
     "text": [
      "---------------------------------------------------------------------------------------\n",
      "|\"REVIEW\"                                            |\"SENTIMENT\"  |\"SENTIMENT_FLAG\"  |\n",
      "---------------------------------------------------------------------------------------\n",
      "|\"In Victorian times a father is separated from ...  |positive     |1                 |\n",
      "|\"When this film gets it right it really gets it...  |positive     |1                 |\n",
      "|\"What this film has is its realism , you really...  |negative     |2                 |\n",
      "|\"\"\"Like the first touch of pleasure and guilt, ...  |positive     |1                 |\n",
      "|\"This is a weird and compelling film. The topic...  |positive     |1                 |\n",
      "|\"Although I am not a Michael Jackson fan, I lik...  |positive     |1                 |\n",
      "|\"Tigerland follows the lives of a group of rece...  |positive     |1                 |\n",
      "|\"To all the reviewers on this page, I would hav...  |positive     |1                 |\n",
      "|\"I really should give this stinker more credit ...  |negative     |2                 |\n",
      "|\"Another one for the Babes & Bullets crowd. The...  |positive     |1                 |\n",
      "---------------------------------------------------------------------------------------\n",
      "\n"
     ]
    }
   ],
   "source": [
    "from snowflake.snowpark import functions as fn\n",
    "from snowflake.snowpark.functions import sproc\n",
    "from snowflake.snowpark.session import Session\n",
    "from snowflake.ml.utils.connection_params import SnowflakeLoginOptions\n",
    "from snowflake.snowpark.types import Variant\n",
    "\n",
    "pars = SnowflakeLoginOptions(\"test_conn\")\n",
    "pars[\"database\"] = \"IMDB\"\n",
    "session = Session.builder.configs(pars).create()\n",
    "\n",
    "train_dataset = session.table(\"TRAIN_DATASET\")\n",
    "train_dataset_flag = train_dataset.withColumn(\"SENTIMENT_FLAG\",\n",
    "    fn.when(train_dataset.SENTIMENT == \"positive\", 1).otherwise(2))\n",
    "train_dataset_flag.show()"
   ]
  },
  {
   "cell_type": "code",
   "execution_count": 2,
   "id": "a67dc643",
   "metadata": {},
   "outputs": [
    {
     "name": "stderr",
     "output_type": "stream",
     "text": [
      "WARNING:snowflake.snowpark.session:The version of package 'snowflake-snowpark-python' in the local environment is 1.14.0, which does not fit the criteria for the requirement 'snowflake-snowpark-python'. Your UDF might not work when the package version is different between the server and your local environment.\n",
      "WARNING:snowflake.snowpark.session:The version of package 'scikit-learn' in the local environment is 1.3.2, which does not fit the criteria for the requirement 'scikit-learn'. Your UDF might not work when the package version is different between the server and your local environment.\n",
      "WARNING:snowflake.snowpark.session:The version of package 'joblib' in the local environment is 1.3.2, which does not fit the criteria for the requirement 'joblib'. Your UDF might not work when the package version is different between the server and your local environment.\n",
      "WARNING:snowflake.snowpark.session:The version of package 'cachetools' in the local environment is 5.3.3, which does not fit the criteria for the requirement 'cachetools'. Your UDF might not work when the package version is different between the server and your local environment.\n"
     ]
    }
   ],
   "source": [
    "session.clear_imports()\n",
    "\n",
    "session.clear_packages()\n",
    "session.add_packages(\"snowflake-snowpark-python\",\n",
    "    \"scikit-learn\", \"pandas\", \"numpy\", \"nltk\", \"joblib\", \"cachetools\")"
   ]
  },
  {
   "cell_type": "code",
   "execution_count": 4,
   "id": "e65df16b",
   "metadata": {},
   "outputs": [],
   "source": [
    "# alternative to register a stored proc\n",
    "# @sproc(name='train_model_review_pipline', is_permanent=True, stage_location='@files', replace=True)\n",
    "def train_model_review_pipline(session: Session, train_dataset_name: str) -> Variant:\n",
    "    \n",
    "    import sklearn.feature_extraction.text as txt\n",
    "    from sklearn import svm\n",
    "    from joblib import dump\n",
    "        \n",
    "    data = session.table(train_dataset_name)\n",
    "    flag = data.withColumn(\"SENTIMENT_FLAG\",\n",
    "        fn.when(data.SENTIMENT == \"positive\", 1).otherwise(2))\n",
    "    train_x = flag.toPandas().REVIEW.values\n",
    "    train_y = flag.toPandas().SENTIMENT_FLAG.values\n",
    "    \n",
    "    filename = '/tmp/vect_review.joblib'\n",
    "    print(f'Building Sparse Matrix into {filename}...')\n",
    "    vec = txt.CountVectorizer(\n",
    "        token_pattern=\"[\\\\w']+\\\\w\\\\b\", ngram_range=(1, 2), analyzer='word', \n",
    "        max_df=0.02, min_df=1 * 1./len(train_x), vocabulary=None, binary=True)\n",
    "    bow = vec.fit_transform(train_x)\n",
    "    dump(vec, filename, compress=True)\n",
    "    session.file.put(filename, \"@models\", auto_compress=True, overwrite=True)\n",
    "\n",
    "    filename = '/tmp/model_review.joblib'\n",
    "    print(f'Fitting model into {filename}...')\n",
    "    model = svm.LinearSVC(C=1.8, max_iter=100)\n",
    "    model.fit(bow, train_y)\n",
    "    dump(model, filename, compress=True)\n",
    "    session.file.put(filename, \"@models\", auto_compress=True, overwrite=True)\n",
    "    \n",
    "    return { \"STATUS\": \"SUCCESS\", \"R2 Score Train\": str(model.score(bow, train_y)) }"
   ]
  },
  {
   "cell_type": "markdown",
   "id": "2f76d47c",
   "metadata": {},
   "source": [
    "Register train function as stored proc, test and call."
   ]
  },
  {
   "cell_type": "code",
   "execution_count": 5,
   "id": "6bb2d372",
   "metadata": {},
   "outputs": [
    {
     "name": "stdout",
     "output_type": "stream",
     "text": [
      "Registering stored proc...\n",
      "Executing stored proc...\n"
     ]
    },
    {
     "data": {
      "text/plain": [
       "'{\\n  \"R2 Score Train\": \"1.0\",\\n  \"STATUS\": \"SUCCESS\"\\n}'"
      ]
     },
     "execution_count": 5,
     "metadata": {},
     "output_type": "execute_result"
    }
   ],
   "source": [
    "# print(\"Testing train function...\")\n",
    "# train_model_review_pipline(session, train_dataset_name=\"TRAIN_DATASET\")\n",
    "\n",
    "print(\"Registering stored proc...\")\n",
    "session.sproc.register(\n",
    "    func=train_model_review_pipline, name=\"train_model_review_pipline\",\n",
    "    is_permanent=True, stage_location='@files', replace=True)\n",
    "\n",
    "print(\"Executing stored proc...\")\n",
    "session.call(\n",
    "    \"train_model_review_pipline\",\n",
    "    \"TRAIN_DATASET\")"
   ]
  }
 ],
 "metadata": {
  "kernelspec": {
   "display_name": "Python 3 (ipykernel)",
   "language": "python",
   "name": "python3"
  },
  "language_info": {
   "codemirror_mode": {
    "name": "ipython",
    "version": 3
   },
   "file_extension": ".py",
   "mimetype": "text/x-python",
   "name": "python",
   "nbconvert_exporter": "python",
   "pygments_lexer": "ipython3",
   "version": "3.9.6"
  }
 },
 "nbformat": 4,
 "nbformat_minor": 5
}
