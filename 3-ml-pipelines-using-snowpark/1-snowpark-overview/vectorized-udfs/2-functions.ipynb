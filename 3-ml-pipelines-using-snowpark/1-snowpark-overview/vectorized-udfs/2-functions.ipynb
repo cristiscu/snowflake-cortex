{
 "cells": [
  {
   "cell_type": "markdown",
   "metadata": {},
   "source": [
    "Connect to Snowflake"
   ]
  },
  {
   "cell_type": "code",
   "execution_count": 1,
   "metadata": {},
   "outputs": [
    {
     "name": "stderr",
     "output_type": "stream",
     "text": [
      "SnowflakeLoginOptions() is in private preview since 0.2.0. Do not use it in production. \n"
     ]
    }
   ],
   "source": [
    "import pandas as pd\n",
    "from snowflake.snowpark.functions import call_udf, pandas_udf, col\n",
    "from snowflake.snowpark.types import IntegerType, PandasSeriesType\n",
    "from snowflake.snowpark import Session\n",
    "from snowflake.ml.utils.connection_params import SnowflakeLoginOptions\n",
    "\n",
    "session = Session.builder.configs(SnowflakeLoginOptions(\"test_conn\")).create()\n",
    "session.query_tag = \"vect-udf\""
   ]
  },
  {
   "cell_type": "markdown",
   "metadata": {},
   "source": [
    "Vectorized UDFs"
   ]
  },
  {
   "cell_type": "code",
   "execution_count": 2,
   "metadata": {},
   "outputs": [
    {
     "name": "stdout",
     "output_type": "stream",
     "text": [
      "add_eight: 11, 15\n"
     ]
    }
   ],
   "source": [
    "@pandas_udf(\n",
    "  name=\"add_eight\", replace=True,\n",
    "  input_types=[PandasSeriesType(IntegerType()), PandasSeriesType(IntegerType())],\n",
    "  return_type=PandasSeriesType(IntegerType()))\n",
    "def add_eight(col1: pd.Series, col2: pd.Series) -> pd.Series:\n",
    "    return col1 + col2 + 8\n",
    "\n",
    "df = session.create_dataframe([[1, 2], [3, 4]], schema=[\"a\", \"b\"])\n",
    "ret = df.select(call_udf(\"add_eight\", col(\"a\"), col(\"b\"))).collect()\n",
    "print(f\"add_eight: {ret[0][0]}, {ret[1][0]}\")"
   ]
  },
  {
   "cell_type": "markdown",
   "metadata": {},
   "source": [
    "Generate temp Vectorized UDF\n",
    "\n",
    "```\n",
    "CREATE TEMPORARY FUNCTION add_eight(arg1 INT,arg2 INT)\n",
    "  RETURNS INT\n",
    "  LANGUAGE PYTHON \n",
    "  VOLATILE\n",
    "  RUNTIME_VERSION=3.9\n",
    "  PACKAGES=('cloudpickle==2.0.0','pandas')\n",
    "  HANDLER='compute'\n",
    "AS $$\n",
    "import pickle\n",
    "func = pickle.loads(bytes.fromhex('80059509...652302e'))\n",
    "# ...\n",
    "from threading import RLock\n",
    "lock = RLock()\n",
    "\n",
    "class InvokedFlag:\n",
    "    def __init__(self):\n",
    "        self.invoked = False\n",
    "\n",
    "def lock_function_once(f, flag):\n",
    "    def wrapper(*args, **kwargs):\n",
    "        if not flag.invoked:\n",
    "            with lock:\n",
    "                if not flag.invoked:\n",
    "                    result = f(*args, **kwargs)\n",
    "                    flag.invoked = True\n",
    "                    return result\n",
    "                return f(*args, **kwargs)\n",
    "        return f(*args, **kwargs)\n",
    "    return wrapper\n",
    "\n",
    "invoked = InvokedFlag()\n",
    "def compute(df):\n",
    "    return lock_function_once(func, invoked)(*[df[idx] for idx in range(df.shape[1])])\n",
    "\n",
    "import pandas\n",
    "compute._sf_vectorized_input = pandas.DataFrame\n",
    "$$;\n",
    "\n",
    "SELECT add_eight(\"A\", \"B\")\n",
    "FROM (SELECT $1 AS \"A\", $2 AS \"B\" FROM VALUES (1::INT, 2::INT));\n",
    "```"
   ]
  }
 ],
 "metadata": {
  "kernelspec": {
   "display_name": "Python 3",
   "language": "python",
   "name": "python3"
  },
  "language_info": {
   "codemirror_mode": {
    "name": "ipython",
    "version": 3
   },
   "file_extension": ".py",
   "mimetype": "text/x-python",
   "name": "python",
   "nbconvert_exporter": "python",
   "pygments_lexer": "ipython3",
   "version": "3.9.6"
  }
 },
 "nbformat": 4,
 "nbformat_minor": 2
}
