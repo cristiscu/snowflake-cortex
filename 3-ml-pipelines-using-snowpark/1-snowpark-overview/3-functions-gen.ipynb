{
 "cells": [
  {
   "cell_type": "markdown",
   "metadata": {},
   "source": [
    "Connect to Snowflake with Snowpark session (and SNOWSQL config)"
   ]
  },
  {
   "cell_type": "code",
   "execution_count": 1,
   "metadata": {},
   "outputs": [
    {
     "name": "stderr",
     "output_type": "stream",
     "text": [
      "SnowflakeLoginOptions() is in private preview since 0.2.0. Do not use it in production. \n"
     ]
    }
   ],
   "source": [
    "from snowflake.snowpark.functions import sproc, udf, udtf, call_udf, col, lit\n",
    "from snowflake.snowpark.types import IntegerType, StructType, StructField\n",
    "from snowflake.snowpark import Session\n",
    "from snowflake.ml.utils.connection_params import SnowflakeLoginOptions\n",
    "\n",
    "session = Session.builder.configs(SnowflakeLoginOptions(\"test_conn\")).create()"
   ]
  },
  {
   "cell_type": "markdown",
   "metadata": {},
   "source": [
    "Anonymous Stored Procedure (with lambda)"
   ]
  },
  {
   "cell_type": "code",
   "execution_count": 2,
   "metadata": {},
   "outputs": [
    {
     "name": "stderr",
     "output_type": "stream",
     "text": [
      "WARNING:snowflake.snowpark.session:The version of package 'snowflake-snowpark-python' in the local environment is 1.14.0, which does not fit the criteria for the requirement 'snowflake-snowpark-python'. Your UDF might not work when the package version is different between the server and your local environment.\n"
     ]
    },
    {
     "name": "stdout",
     "output_type": "stream",
     "text": [
      "add_one: 2\n"
     ]
    }
   ],
   "source": [
    "add_one = sproc(\n",
    "  lambda session, x: session.sql(f\"select {x} + 1\").collect()[0][0],\n",
    "  input_types=[IntegerType()], return_type=IntegerType(),\n",
    "  packages=[\"snowflake-snowpark-python==1.13.0\"])\n",
    "\n",
    "ret = add_one(1)\n",
    "print(f\"add_one: {ret}\")"
   ]
  },
  {
   "cell_type": "markdown",
   "metadata": {},
   "source": [
    "Generated temp stored proc:\n",
    "\n",
    "```\n",
    "CREATE TEMPORARY PROCEDURE ...(arg1 INT)\n",
    "  RETURNS INT\n",
    "  LANGUAGE PYTHON \n",
    "  VOLATILE\n",
    "  RUNTIME_VERSION=3.9\n",
    "  PACKAGES=('snowflake-snowpark-python','cloudpickle==2.0.0')\n",
    "  HANDLER='compute'\n",
    "  EXECUTE AS OWNER\n",
    "AS $$\n",
    "import pickle\n",
    "func = pickle.loads(bytes.fromhex('80059...02e'))\n",
    "# ...\n",
    "def compute(session,arg1):\n",
    "  return func(session,arg1)\n",
    "$$\n",
    "\n",
    "CALL ...(1::INT)\n",
    "```\n"
   ]
  },
  {
   "cell_type": "markdown",
   "metadata": {},
   "source": [
    "Named stored procedure (with lambda)"
   ]
  },
  {
   "cell_type": "code",
   "execution_count": null,
   "metadata": {},
   "outputs": [],
   "source": [
    "add_two = sproc(\n",
    "  lambda session, x: session.sql(f\"select {x} + 2\").collect()[0][0],\n",
    "  input_types=[IntegerType()], return_type=IntegerType(),\n",
    "  name=\"add_two_proc\", replace=True,\n",
    "  packages=[\"snowflake-snowpark-python\"])\n",
    "\n",
    "ret = session.call(\"add_two_proc\", 1)\n",
    "print(f\"add_two: {ret}\")"
   ]
  },
  {
   "cell_type": "markdown",
   "metadata": {},
   "source": [
    "Generated temp stored proc:\n",
    "\n",
    "```\n",
    "CREATE OR REPLACE TEMPORARY PROCEDURE add_two_proc(arg1 INT)\n",
    "  RETURNS INT\n",
    "  LANGUAGE PYTHON \n",
    "  VOLATILE\n",
    "  RUNTIME_VERSION=3.9\n",
    "  PACKAGES=('snowflake-snowpark-python','cloudpickle==2.0.0')\n",
    "  HANDLER='compute'\n",
    "  EXECUTE AS OWNER\n",
    "AS $$\n",
    "import pickle\n",
    "func = pickle.loads(bytes.fromhex('800595...948652302e'))\n",
    "# ...\n",
    "def compute(session,arg1):\n",
    "  return func(session,arg1)\n",
    "$$\n",
    "\n",
    "CALL add_two_proc(1::INT)\n",
    "```"
   ]
  },
  {
   "cell_type": "markdown",
   "metadata": {},
   "source": [
    "Registered stored procedure"
   ]
  },
  {
   "cell_type": "code",
   "execution_count": null,
   "metadata": {},
   "outputs": [],
   "source": [
    "@sproc(name=\"add_three\", replace=True,\n",
    "  is_permanent=True, stage_location=\"@int_stage\",\n",
    "  packages=[\"snowflake-snowpark-python\"])\n",
    "def add_three(session: Session, x: int) -> int:\n",
    "  return session.sql(f\"select {x} + 3\").collect()[0][0]\n",
    "\n",
    "ret = session.sql(\"call add_three(1)\").collect()[0][0]\n",
    "print(f\"add_three: {ret}\")"
   ]
  },
  {
   "cell_type": "markdown",
   "metadata": {},
   "source": [
    "Generated stored proc:\n",
    "\n",
    "```\n",
    "CREATE OR REPLACE PROCEDURE add_three(arg1 BIGINT)\n",
    "  RETURNS BIGINT\n",
    "  LANGUAGE PYTHON \n",
    "  VOLATILE\n",
    "  RUNTIME_VERSION=3.9\n",
    "  PACKAGES=('snowflake-snowpark-python','cloudpickle==2.0.0')\n",
    "  HANDLER='compute'\n",
    "  EXECUTE AS OWNER\n",
    "AS $$\n",
    "import pickle\n",
    "func = pickle.loads(bytes.fromhex('8005953d...48652302e'))\n",
    "# ...\n",
    "def compute(session,arg1):\n",
    "  return func(session,arg1)\n",
    "$$\n",
    "\n",
    "call add_three(1)\n",
    "```"
   ]
  },
  {
   "cell_type": "markdown",
   "metadata": {},
   "source": [
    "Anonymous UDF (with lambda)"
   ]
  },
  {
   "cell_type": "code",
   "execution_count": null,
   "metadata": {},
   "outputs": [],
   "source": [
    "add_five = udf(lambda x: x+5,\n",
    "  input_types=[IntegerType()], return_type=IntegerType())\n",
    "\n",
    "df = session.create_dataframe([[1]]).to_df(\"a\")\n",
    "ret = df.select(add_five(col(\"a\"))).collect()[0][0]\n",
    "print(f\"add_five: {ret}\")"
   ]
  },
  {
   "cell_type": "markdown",
   "metadata": {},
   "source": [
    "Generated temp UDF:\n",
    "\n",
    "```\n",
    "CREATE TEMPORARY FUNCTION ...(arg1 INT)\n",
    "  RETURNS INT\n",
    "  LANGUAGE PYTHON \n",
    "  VOLATILE\n",
    "  RUNTIME_VERSION=3.9\n",
    "  PACKAGES=('cloudpickle==2.0.0')\n",
    "  HANDLER='compute'\n",
    "AS $$\n",
    "import pickle\n",
    "func = pickle.loads(bytes.fromhex('800595...2302e'))\n",
    "# ...\n",
    "from threading import RLock\n",
    "lock = RLock()\n",
    "\n",
    "class InvokedFlag:\n",
    "    def __init__(self):\n",
    "        self.invoked = False\n",
    "\n",
    "def lock_function_once(f, flag):\n",
    "    def wrapper(*args, **kwargs):\n",
    "        if not flag.invoked:\n",
    "            with lock:\n",
    "                if not flag.invoked:\n",
    "                    result = f(*args, **kwargs)\n",
    "                    flag.invoked = True\n",
    "                    return result\n",
    "                return f(*args, **kwargs)\n",
    "        return f(*args, **kwargs)\n",
    "    return wrapper\n",
    "\n",
    "invoked = InvokedFlag()\n",
    "def compute(arg1):\n",
    "  return lock_function_once(func, invoked)(arg1)\n",
    "$$;\n",
    "\n",
    "SELECT ...(\"A\")\n",
    "FROM (SELECT \"_1\" AS \"A\"\n",
    "  FROM (SELECT $1 AS \"_1\" FROM VALUES (1::INT)))\n",
    "```"
   ]
  },
  {
   "cell_type": "markdown",
   "metadata": {},
   "source": [
    "Named UDF (with lambda)"
   ]
  },
  {
   "cell_type": "code",
   "execution_count": null,
   "metadata": {},
   "outputs": [],
   "source": [
    "add_six = udf(lambda x: x+6,\n",
    "  input_types=[IntegerType()], return_type=IntegerType(),\n",
    "  name=\"add_six_proc\", replace=True)\n",
    "\n",
    "ret = session.sql(\"select add_six_proc(1)\").collect()[0][0]\n",
    "print(f\"add_six: {ret}\")"
   ]
  },
  {
   "cell_type": "markdown",
   "metadata": {},
   "source": [
    "Generated temp UDF:\n",
    "\n",
    "```\n",
    "CREATE OR REPLACE TEMPORARY FUNCTION add_six_proc(arg1 INT)\n",
    "  RETURNS INT\n",
    "  LANGUAGE PYTHON \n",
    "  VOLATILE\n",
    "  RUNTIME_VERSION=3.9\n",
    "  PACKAGES=('snowflake-snowpark-python','cloudpickle==2.0.0')\n",
    "  HANDLER='compute'\n",
    "AS $$\n",
    "import pickle\n",
    "func = pickle.loads(bytes.fromhex('800595...8652302e'))\n",
    "# ...\n",
    "from threading import RLock\n",
    "lock = RLock()\n",
    "class InvokedFlag:\n",
    "    def __init__(self):\n",
    "        self.invoked = False\n",
    "\n",
    "def lock_function_once(f, flag):\n",
    "    def wrapper(*args, **kwargs):\n",
    "        if not flag.invoked:\n",
    "            with lock:\n",
    "                if not flag.invoked:\n",
    "                    result = f(*args, **kwargs)\n",
    "                    flag.invoked = True\n",
    "                    return result\n",
    "                return f(*args, **kwargs)\n",
    "        return f(*args, **kwargs)\n",
    "    return wrapper\n",
    "\n",
    "invoked = InvokedFlag()\n",
    "def compute(arg1):\n",
    "  return lock_function_once(func, invoked)(arg1)\n",
    "$$\n",
    "\n",
    "select add_six_proc(1)\n",
    "```"
   ]
  },
  {
   "cell_type": "markdown",
   "metadata": {},
   "source": [
    "Registered UDF"
   ]
  },
  {
   "cell_type": "code",
   "execution_count": null,
   "metadata": {},
   "outputs": [],
   "source": [
    "@udf(name=\"add_seven\", replace=True,\n",
    "  is_permanent=True, stage_location=\"@int_stage\")\n",
    "def add_seven(x: int) -> int:\n",
    "  return x+7\n",
    "\n",
    "df = session.create_dataframe([[1]], schema=[\"a\"])\n",
    "ret = df.select(call_udf(\"add_seven\", col(\"a\"))).collect()[0][0]\n",
    "print(f\"add_seven: {ret}\")"
   ]
  },
  {
   "cell_type": "markdown",
   "metadata": {},
   "source": [
    "Generated UDF:\n",
    "\n",
    "```\n",
    "CREATE OR REPLACE FUNCTION add_seven(arg1 BIGINT)\n",
    "  RETURNS BIGINT\n",
    "  LANGUAGE PYTHON \n",
    "  VOLATILE\n",
    "  RUNTIME_VERSION=3.9\n",
    "  PACKAGES=('snowflake-snowpark-python','cloudpickle==2.0.0')\n",
    "  HANDLER='compute'\n",
    "AS $$\n",
    "import pickle\n",
    "func = pickle.loads(bytes.fromhex('800595...652302e'))\n",
    "# ...\n",
    "from threading import RLock\n",
    "lock = RLock()\n",
    "class InvokedFlag:\n",
    "    def __init__(self):\n",
    "        self.invoked = False\n",
    "\n",
    "def lock_function_once(f, flag):\n",
    "    def wrapper(*args, **kwargs):\n",
    "        if not flag.invoked:\n",
    "            with lock:\n",
    "                if not flag.invoked:\n",
    "                    result = f(*args, **kwargs)\n",
    "                    flag.invoked = True\n",
    "                    return result\n",
    "                return f(*args, **kwargs)\n",
    "        return f(*args, **kwargs)\n",
    "    return wrapper\n",
    "\n",
    "invoked = InvokedFlag()\n",
    "def compute(arg1):\n",
    "  return lock_function_once(func, invoked)(arg1)\n",
    "$$;\n",
    "\n",
    "select add_seven(1)\n",
    "```"
   ]
  },
  {
   "cell_type": "markdown",
   "metadata": {},
   "source": [
    "Registered UDTF"
   ]
  },
  {
   "cell_type": "code",
   "execution_count": null,
   "metadata": {},
   "outputs": [],
   "source": [
    "# UDTF implementation class\n",
    "class GetTwo:\n",
    "  def process(self, n):\n",
    "    yield(1, )\n",
    "    yield(n, )\n",
    "\n",
    "get_two = udtf(GetTwo, \n",
    "  output_schema=StructType([StructField(\"number\", IntegerType())]),\n",
    "  input_types=[IntegerType()])\n",
    "\n",
    "ret = session.table_function(get_two(lit(3))).collect()\n",
    "print(f\"get_two: {ret}\")"
   ]
  },
  {
   "cell_type": "markdown",
   "metadata": {},
   "source": [
    "Generated temp UDTF:\n",
    "\n",
    "```\n",
    "CREATE TEMPORARY FUNCTION ...(arg1 INT)\n",
    "  RETURNS TABLE (NUMBER INT)\n",
    "  LANGUAGE PYTHON \n",
    "  VOLATILE\n",
    "  RUNTIME_VERSION=3.9\n",
    "  PACKAGES=('cloudpickle==2.0.0')\n",
    "  HANDLER='compute'\n",
    "AS $$\n",
    "import pickle\n",
    "func = pickle.loads(bytes.fromhex('80059...02e'))\n",
    "\n",
    "from threading import RLock\n",
    "lock = RLock()\n",
    "class InvokedFlag:\n",
    "    def __init__(self):\n",
    "        self.invoked = False\n",
    "\n",
    "def lock_function_once(f, flag):\n",
    "    def wrapper(*args, **kwargs):\n",
    "        if not flag.invoked:\n",
    "            with lock:\n",
    "                if not flag.invoked:\n",
    "                    result = f(*args, **kwargs)\n",
    "                    flag.invoked = True\n",
    "                    return result\n",
    "                return f(*args, **kwargs)\n",
    "        return f(*args, **kwargs)\n",
    "    return wrapper\n",
    "\n",
    "init_invoked = InvokedFlag()\n",
    "process_invoked = InvokedFlag()\n",
    "end_partition_invoked = InvokedFlag()\n",
    "\n",
    "class compute(func):\n",
    "    def __init__(self):\n",
    "        lock_function_once(super().__init__, init_invoked)()\n",
    "    def process(self, arg1):\n",
    "        return lock_function_once(super().process, process_invoked)(arg1)\n",
    "$$;\n",
    "\n",
    "SELECT * FROM TABLE(...(3::INT));\n",
    "```"
   ]
  }
 ],
 "metadata": {
  "kernelspec": {
   "display_name": "Python 3",
   "language": "python",
   "name": "python3"
  },
  "language_info": {
   "codemirror_mode": {
    "name": "ipython",
    "version": 3
   },
   "file_extension": ".py",
   "mimetype": "text/x-python",
   "name": "python",
   "nbconvert_exporter": "python",
   "pygments_lexer": "ipython3",
   "version": "3.9.6"
  }
 },
 "nbformat": 4,
 "nbformat_minor": 2
}
