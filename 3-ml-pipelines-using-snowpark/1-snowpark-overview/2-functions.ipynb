{
 "cells": [
  {
   "cell_type": "markdown",
   "metadata": {},
   "source": [
    "Connect to Snowflake"
   ]
  },
  {
   "cell_type": "code",
   "execution_count": 1,
   "metadata": {},
   "outputs": [
    {
     "name": "stderr",
     "output_type": "stream",
     "text": [
      "SnowflakeLoginOptions() is in private preview since 0.2.0. Do not use it in production. \n"
     ]
    }
   ],
   "source": [
    "from snowflake.snowpark.functions import sproc, udf, udtf, call_udf, col, lit\n",
    "from snowflake.snowpark.types import IntegerType, StructType, StructField\n",
    "from snowflake.snowpark import Session\n",
    "from snowflake.ml.utils.connection_params import SnowflakeLoginOptions\n",
    "\n",
    "session = Session.builder.configs(SnowflakeLoginOptions(\"test_conn\")).create()\n",
    "session.query_tag = \"func-gen\""
   ]
  },
  {
   "cell_type": "markdown",
   "metadata": {},
   "source": [
    "Anonymous Stored Procedure (with lambda)"
   ]
  },
  {
   "cell_type": "code",
   "execution_count": 2,
   "metadata": {},
   "outputs": [
    {
     "name": "stdout",
     "output_type": "stream",
     "text": [
      "add_one: 2\n"
     ]
    }
   ],
   "source": [
    "add_one = sproc(\n",
    "  lambda session, x: session.sql(f\"select {x} + 1\").collect()[0][0],\n",
    "  input_types=[IntegerType()], return_type=IntegerType(),\n",
    "  packages=[\"snowflake-snowpark-python==1.13.0\"])\n",
    "\n",
    "ret = add_one(1)\n",
    "print(f\"add_one: {ret}\")"
   ]
  },
  {
   "cell_type": "markdown",
   "metadata": {},
   "source": [
    "Named stored procedure (with lambda)"
   ]
  },
  {
   "cell_type": "code",
   "execution_count": 3,
   "metadata": {},
   "outputs": [
    {
     "name": "stdout",
     "output_type": "stream",
     "text": [
      "add_two: 3\n"
     ]
    }
   ],
   "source": [
    "add_two = sproc(\n",
    "  lambda session, x: session.sql(f\"select {x} + 2\").collect()[0][0],\n",
    "  name=\"add_two_proc\", replace=True,\n",
    "  input_types=[IntegerType()], return_type=IntegerType(),\n",
    "  packages=[\"snowflake-snowpark-python\"])\n",
    "\n",
    "ret = session.call(\"add_two_proc\", 1)\n",
    "print(f\"add_two: {ret}\")"
   ]
  },
  {
   "cell_type": "markdown",
   "metadata": {},
   "source": [
    "Registered stored procedure"
   ]
  },
  {
   "cell_type": "code",
   "execution_count": 4,
   "metadata": {},
   "outputs": [
    {
     "name": "stdout",
     "output_type": "stream",
     "text": [
      "add_three: 4\n"
     ]
    }
   ],
   "source": [
    "@sproc(\n",
    "  name=\"add_three\", replace=True,\n",
    "  is_permanent=True, stage_location=\"@int_stage\",\n",
    "  packages=[\"snowflake-snowpark-python\"])\n",
    "def add_three(session: Session, x: int) -> int:\n",
    "  return session.sql(f\"select {x} + 3\").collect()[0][0]\n",
    "\n",
    "# alternative\n",
    "# session.sproc.register(\n",
    "#   func=add_three, name=\"add_three\", replace=True,\n",
    "#   is_permanent=True, stage_location=\"@int_stage\",\n",
    "#   packages=[\"snowflake-snowpark-python\"])\n",
    "\n",
    "ret = session.sql(\"call add_three(1)\").collect()[0][0]\n",
    "print(f\"add_three: {ret}\")"
   ]
  },
  {
   "cell_type": "markdown",
   "metadata": {},
   "source": [
    "Anonymous UDF (with lambda)"
   ]
  },
  {
   "cell_type": "code",
   "execution_count": 5,
   "metadata": {},
   "outputs": [
    {
     "name": "stdout",
     "output_type": "stream",
     "text": [
      "add_five: 6\n"
     ]
    }
   ],
   "source": [
    "add_five = udf(lambda x: x+5,\n",
    "  input_types=[IntegerType()], return_type=IntegerType())\n",
    "\n",
    "df = session.create_dataframe([[1]]).to_df(\"a\")\n",
    "ret = df.select(add_five(col(\"a\"))).collect()[0][0]\n",
    "print(f\"add_five: {ret}\")"
   ]
  },
  {
   "cell_type": "markdown",
   "metadata": {},
   "source": [
    "Named UDF (with lambda)"
   ]
  },
  {
   "cell_type": "code",
   "execution_count": 6,
   "metadata": {},
   "outputs": [
    {
     "name": "stdout",
     "output_type": "stream",
     "text": [
      "add_six: 7\n"
     ]
    }
   ],
   "source": [
    "add_six = udf(lambda x: x+6,\n",
    "  name=\"add_six_proc\", replace=True,\n",
    "  input_types=[IntegerType()], return_type=IntegerType())\n",
    "\n",
    "ret = session.sql(\"select add_six_proc(1)\").collect()[0][0]\n",
    "print(f\"add_six: {ret}\")"
   ]
  },
  {
   "cell_type": "markdown",
   "metadata": {},
   "source": [
    "Registered UDF"
   ]
  },
  {
   "cell_type": "code",
   "execution_count": 7,
   "metadata": {},
   "outputs": [
    {
     "name": "stdout",
     "output_type": "stream",
     "text": [
      "add_seven: 8\n"
     ]
    }
   ],
   "source": [
    "@udf(\n",
    "    name=\"add_seven\", replace=True,\n",
    "    is_permanent=True, stage_location=\"@int_stage\")\n",
    "def add_seven(x: int) -> int:\n",
    "    return x+7\n",
    "\n",
    "df = session.create_dataframe([[1]], schema=[\"a\"])\n",
    "ret = df.select(call_udf(\"add_seven\", col(\"a\"))).collect()[0][0]\n",
    "print(f\"add_seven: {ret}\")"
   ]
  },
  {
   "cell_type": "markdown",
   "metadata": {},
   "source": [
    "Registered UDTF"
   ]
  },
  {
   "cell_type": "code",
   "execution_count": 8,
   "metadata": {},
   "outputs": [
    {
     "name": "stdout",
     "output_type": "stream",
     "text": [
      "get_two: [Row(NUMBER=1), Row(NUMBER=3)]\n"
     ]
    }
   ],
   "source": [
    "class GetTwo:\n",
    "  def process(self, n):\n",
    "    yield(1, )\n",
    "    yield(n, )\n",
    "\n",
    "get_two = udtf(GetTwo, \n",
    "  output_schema=StructType([StructField(\"number\", IntegerType())]),\n",
    "  input_types=[IntegerType()])\n",
    "\n",
    "# SELECT * FROM ( TABLE (\"TEST\".\"PUBLIC\".SNOWPARK_TEMP_TABLE_FUNCTION_2PR5R5RI4E(3 :: INT) ))\n",
    "ret = session.table_function(get_two(lit(3))).collect()\n",
    "print(f\"get_two: {ret}\")"
   ]
  }
 ],
 "metadata": {
  "kernelspec": {
   "display_name": "Python 3",
   "language": "python",
   "name": "python3"
  },
  "language_info": {
   "codemirror_mode": {
    "name": "ipython",
    "version": 3
   },
   "file_extension": ".py",
   "mimetype": "text/x-python",
   "name": "python",
   "nbconvert_exporter": "python",
   "pygments_lexer": "ipython3",
   "version": "3.9.6"
  }
 },
 "nbformat": 4,
 "nbformat_minor": 2
}
