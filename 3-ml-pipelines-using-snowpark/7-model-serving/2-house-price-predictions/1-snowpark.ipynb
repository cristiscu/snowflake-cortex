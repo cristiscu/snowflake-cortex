{
 "cells": [
  {
   "cell_type": "markdown",
   "metadata": {},
   "source": [
    "Connect to Snowflake"
   ]
  },
  {
   "cell_type": "code",
   "execution_count": 1,
   "metadata": {},
   "outputs": [
    {
     "name": "stderr",
     "output_type": "stream",
     "text": [
      "SnowflakeLoginOptions() is in private preview since 0.2.0. Do not use it in production. \n"
     ]
    }
   ],
   "source": [
    "# see https://github.com/Snowflake-Labs/sfguide-snowpark-scikit-learn/blob/main/3_snowpark_end_to_end_ml.ipynb\n",
    "\n",
    "from snowflake.snowpark import Session\n",
    "from snowflake.ml.utils.connection_params import SnowflakeLoginOptions\n",
    "session = Session.builder.configs(SnowflakeLoginOptions(\"test_conn\")).create()"
   ]
  },
  {
   "cell_type": "markdown",
   "metadata": {},
   "source": [
    "Read model from stage"
   ]
  },
  {
   "cell_type": "code",
   "execution_count": 2,
   "metadata": {},
   "outputs": [],
   "source": [
    "session.clear_imports()\n",
    "session.clear_packages()\n",
    "\n",
    "import cachetools\n",
    "@cachetools.cached(cache={})\n",
    "def load_file(filename):\n",
    "\n",
    "    import sys, os, joblib\n",
    "    import_dir = sys._xoptions.get(\"snowflake_import_directory\")\n",
    "    if import_dir:\n",
    "        with open(os.path.join(import_dir, filename), 'rb') as file:\n",
    "            return joblib.load(file)"
   ]
  },
  {
   "cell_type": "markdown",
   "metadata": {},
   "source": [
    "Create vectorized UDF to predict house values"
   ]
  },
  {
   "cell_type": "code",
   "execution_count": 3,
   "metadata": {},
   "outputs": [
    {
     "name": "stderr",
     "output_type": "stream",
     "text": [
      "WARNING:snowflake.snowpark.session:The version of package 'scikit-learn' in the local environment is 1.3.2, which does not fit the criteria for the requirement 'scikit-learn'. Your UDF might not work when the package version is different between the server and your local environment.\n",
      "WARNING:snowflake.snowpark.session:The version of package 'joblib' in the local environment is 1.4.0, which does not fit the criteria for the requirement 'joblib'. Your UDF might not work when the package version is different between the server and your local environment.\n",
      "WARNING:snowflake.snowpark.session:The version of package 'cachetools' in the local environment is 5.3.3, which does not fit the criteria for the requirement 'cachetools'. Your UDF might not work when the package version is different between the server and your local environment.\n"
     ]
    }
   ],
   "source": [
    "from snowflake.snowpark import functions as F\n",
    "from snowflake.snowpark import types as T\n",
    "\n",
    "@F.udf(name=\"predict_house_value\", is_permanent=True, replace=True,\n",
    "       stage_location='int_stage/udf/',\n",
    "       imports=['@int_stage/models/2024-04-24-131730/housing_fores_reg.joblib'],\n",
    "       packages=['scikit-learn', 'pandas', 'joblib', 'cachetools'])\n",
    "def predict_house_value(df: T.PandasDataFrame[float, float,\n",
    "       float, float, float, float, float, float, str]) -> T.PandasSeries[float]:\n",
    "\n",
    "       df.columns = ['LONGITUDE', 'LATITUDE', 'HOUSING_MEDIAN_AGE', 'TOTAL_ROOMS',\n",
    "              'TOTAL_BEDROOMS', 'POPULATION', 'HOUSEHOLDS', 'MEDIAN_INCOME', 'OCEAN_PROXIMITY']\n",
    "       m = load_file('housing_fores_reg.joblib')\n",
    "       return m.predict(df)"
   ]
  },
  {
   "cell_type": "markdown",
   "metadata": {},
   "source": [
    "Call the vectorized UDF for all test entries"
   ]
  },
  {
   "cell_type": "code",
   "execution_count": 4,
   "metadata": {},
   "outputs": [
    {
     "name": "stdout",
     "output_type": "stream",
     "text": [
      "------------------------------------------------------------------------------------------------------------------------------------------------------------------------------------------\n",
      "|\"LONGITUDE\"  |\"LATITUDE\"  |\"HOUSING_MEDIAN_AGE\"  |\"TOTAL_ROOMS\"  |\"TOTAL_BEDROOMS\"  |\"POPULATION\"  |\"HOUSEHOLDS\"  |\"MEDIAN_INCOME\"  |\"OCEAN_PROXIMITY\"  |\"PREDICTION\"  |\"ACTUAL_LABEL\"  |\n",
      "------------------------------------------------------------------------------------------------------------------------------------------------------------------------------------------\n",
      "|-122.26      |37.85       |50.0                  |1120.0         |283.0             |697.0         |264.0         |2.1250           |NEAR BAY           |135441.0      |140000.0        |\n",
      "|-122.27      |37.84       |48.0                  |1922.0         |409.0             |1026.0        |335.0         |1.7969           |NEAR BAY           |118197.0      |110400.0        |\n",
      "|-122.26      |37.83       |52.0                  |1470.0         |330.0             |689.0         |309.0         |3.4800           |NEAR BAY           |233106.0      |191400.0        |\n",
      "|-122.26      |37.84       |52.0                  |950.0          |202.0             |467.0         |198.0         |3.9643           |NEAR BAY           |224431.0      |188800.0        |\n",
      "|-122.28      |37.82       |52.0                  |1238.0         |288.0             |622.0         |259.0         |1.5057           |NEAR BAY           |103799.0      |87500.0         |\n",
      "|-122.29      |37.82       |49.0                  |135.0          |29.0              |86.0          |23.0          |6.1183           |NEAR BAY           |355583.11     |75000.0         |\n",
      "|-122.29      |37.81       |49.0                  |844.0          |204.0             |560.0         |152.0         |1.7500           |NEAR BAY           |101761.0      |75000.0         |\n",
      "|-122.28      |37.81       |52.0                  |340.0          |97.0              |200.0         |87.0          |1.5208           |NEAR BAY           |123777.0      |112500.0        |\n",
      "|-122.28      |37.80       |52.0                  |215.0          |87.0              |904.0         |88.0          |0.8668           |NEAR BAY           |217602.24     |137500.0        |\n",
      "|-122.25      |37.81       |29.0                  |4656.0         |1414.0            |2304.0        |1250.0        |2.4912           |NEAR BAY           |228977.05     |257800.0        |\n",
      "------------------------------------------------------------------------------------------------------------------------------------------------------------------------------------------\n",
      "\n"
     ]
    }
   ],
   "source": [
    "df = session.table(\"HOUSING_TEST\")\n",
    "inputs = df.drop(\"MEDIAN_HOUSE_VALUE\")\n",
    "                    \n",
    "df = df.select(*inputs,\n",
    "    F.call_function(\"predict_house_value\", *inputs).alias('PREDICTION'), \n",
    "    (F.col('MEDIAN_HOUSE_VALUE')).alias('ACTUAL_LABEL'))\n",
    "df.show()"
   ]
  }
 ],
 "metadata": {
  "kernelspec": {
   "display_name": "Python 3",
   "language": "python",
   "name": "python3"
  },
  "language_info": {
   "codemirror_mode": {
    "name": "ipython",
    "version": 3
   },
   "file_extension": ".py",
   "mimetype": "text/x-python",
   "name": "python",
   "nbconvert_exporter": "python",
   "pygments_lexer": "ipython3",
   "version": "3.9.6"
  }
 },
 "nbformat": 4,
 "nbformat_minor": 2
}
