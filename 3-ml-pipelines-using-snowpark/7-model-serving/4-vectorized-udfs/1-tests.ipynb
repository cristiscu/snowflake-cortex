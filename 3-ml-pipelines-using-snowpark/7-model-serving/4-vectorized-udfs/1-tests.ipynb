{
 "cells": [
  {
   "cell_type": "markdown",
   "metadata": {},
   "source": [
    "Connect to Snowflake"
   ]
  },
  {
   "cell_type": "code",
   "execution_count": 1,
   "metadata": {},
   "outputs": [
    {
     "name": "stderr",
     "output_type": "stream",
     "text": [
      "SnowflakeLoginOptions() is in private preview since 0.2.0. Do not use it in production. \n"
     ]
    }
   ],
   "source": [
    "# see https://github.com/Snowflake-Labs/sfguide-snowpark-python-top-three-tips-for-optimal-performance/blob/main/lab2_vectorized_udfs.ipynb\n",
    "\n",
    "from snowflake.snowpark import Session\n",
    "from snowflake.ml.utils.connection_params import SnowflakeLoginOptions\n",
    "session = Session.builder.configs(SnowflakeLoginOptions(\"test_conn\")).create()"
   ]
  },
  {
   "cell_type": "markdown",
   "metadata": {},
   "source": [
    "Calculate mean and stddev of account balance field of all customers"
   ]
  },
  {
   "cell_type": "code",
   "execution_count": 2,
   "metadata": {},
   "outputs": [
    {
     "name": "stdout",
     "output_type": "stream",
     "text": [
      "count: 15000000\n",
      "mean: 4498.55193071\n",
      "stddev: 3175.397870825572\n"
     ]
    }
   ],
   "source": [
    "from snowflake.snowpark.functions import avg, stddev, udf\n",
    "from snowflake.snowpark.types import PandasSeries\n",
    "\n",
    "df = session.table(\"SNOWFLAKE_SAMPLE_DATA.TPCH_SF100.CUSTOMER\")\n",
    "print(f\"count: {df.count()}\")\n",
    "\n",
    "df_mean = float(df.agg(avg(\"C_ACCTBAL\")).collect()[0][0])\n",
    "print(f\"mean: {df_mean}\")\n",
    "df_stddev = float(df.agg(stddev(\"C_ACCTBAL\")).collect()[0][0])\n",
    "print(f\"stddev: {df_stddev}\")"
   ]
  },
  {
   "cell_type": "markdown",
   "metadata": {},
   "source": [
    "Create similar regular and vectorized UDFs"
   ]
  },
  {
   "cell_type": "code",
   "execution_count": 3,
   "metadata": {},
   "outputs": [],
   "source": [
    "@udf()\n",
    "def udf_mean_stddev(inp: float) -> float:\n",
    "    return (inp - df_mean + df_stddev) * 10000.0\n",
    "\n",
    "@udf()\n",
    "def udf_mean_stddev_vect(inp: PandasSeries[float]) -> PandasSeries[float]:\n",
    "    return (inp - df_mean + df_stddev) * 10000.0"
   ]
  },
  {
   "cell_type": "markdown",
   "metadata": {},
   "source": [
    "Benchmark previous UDFs"
   ]
  },
  {
   "cell_type": "code",
   "execution_count": 4,
   "metadata": {},
   "outputs": [
    {
     "name": "stdout",
     "output_type": "stream",
     "text": [
      "udf_mean_stddev: 7.045351 seconds\n",
      "udf_mean_stddev_vect: 3.415198 seconds\n"
     ]
    }
   ],
   "source": [
    "from datetime import datetime\n",
    "\n",
    "st = datetime.now()\n",
    "df.select(udf_mean_stddev(\"C_ACCTBAL\").alias(\"bal_from_mean\")).agg(avg(\"bal_from_mean\")).collect()\n",
    "et = datetime.now()\n",
    "print(f\"udf_mean_stddev: {(et - st).total_seconds()} seconds\")\n",
    "\n",
    "st = datetime.now()\n",
    "df.select(udf_mean_stddev_vect(\"C_ACCTBAL\").alias(\"bal_from_mean\")).agg(avg(\"bal_from_mean\")).collect()\n",
    "et = datetime.now()\n",
    "print(f\"udf_mean_stddev_vect: {(et - st).total_seconds()} seconds\")"
   ]
  }
 ],
 "metadata": {
  "kernelspec": {
   "display_name": "venv",
   "language": "python",
   "name": "python3"
  },
  "language_info": {
   "codemirror_mode": {
    "name": "ipython",
    "version": 3
   },
   "file_extension": ".py",
   "mimetype": "text/x-python",
   "name": "python",
   "nbconvert_exporter": "python",
   "pygments_lexer": "ipython3",
   "version": "3.9.6"
  }
 },
 "nbformat": 4,
 "nbformat_minor": 2
}
