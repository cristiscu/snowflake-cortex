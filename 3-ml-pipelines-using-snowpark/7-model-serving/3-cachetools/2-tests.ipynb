{
 "cells": [
  {
   "cell_type": "markdown",
   "metadata": {},
   "source": [
    "Connect to Snowflake"
   ]
  },
  {
   "cell_type": "code",
   "execution_count": 1,
   "metadata": {},
   "outputs": [
    {
     "name": "stderr",
     "output_type": "stream",
     "text": [
      "SnowflakeLoginOptions() is in private preview since 0.2.0. Do not use it in production. \n"
     ]
    }
   ],
   "source": [
    "from snowflake.snowpark import Session\n",
    "from snowflake.ml.utils.connection_params import SnowflakeLoginOptions\n",
    "session = Session.builder.configs(SnowflakeLoginOptions(\"test_conn\")).create()"
   ]
  },
  {
   "cell_type": "markdown",
   "metadata": {},
   "source": [
    "Create test dataframe w/ 10M rows, random entry values between 1..7"
   ]
  },
  {
   "cell_type": "code",
   "execution_count": 2,
   "metadata": {},
   "outputs": [
    {
     "name": "stdout",
     "output_type": "stream",
     "text": [
      "-----------------------------------------\n",
      "|\"invoice_num\"  |\"trx_num\"  |\"weekday\"  |\n",
      "-----------------------------------------\n",
      "|3              |2          |4          |\n",
      "|1              |5          |3          |\n",
      "|1              |4          |5          |\n",
      "|6              |1          |1          |\n",
      "|3              |3          |6          |\n",
      "|6              |5          |5          |\n",
      "|4              |2          |6          |\n",
      "|1              |4          |3          |\n",
      "|3              |4          |6          |\n",
      "|5              |2          |2          |\n",
      "-----------------------------------------\n",
      "\n"
     ]
    }
   ],
   "source": [
    "import pandas as pd\n",
    "import numpy as np\n",
    "from snowflake.snowpark.functions import call_udf\n",
    "\n",
    "df = pd.DataFrame(\n",
    "    np.random.randint(low=1, high=7, size=(10000000, 3)),\n",
    "    columns=['invoice_num', 'trx_num', 'weekday'])\n",
    "df = session.createDataFrame(df,\n",
    "    schema=['invoice_num', 'trx_num', 'weekday'])\n",
    "df.show()"
   ]
  },
  {
   "cell_type": "markdown",
   "metadata": {},
   "source": [
    "Create UDF (no cache), to get the name of a week day by number 1..7"
   ]
  },
  {
   "cell_type": "code",
   "execution_count": 5,
   "metadata": {},
   "outputs": [
    {
     "name": "stderr",
     "output_type": "stream",
     "text": [
      "WARNING:snowflake.snowpark.session:The version of package 'cachetools' in the local environment is 5.3.3, which does not fit the criteria for the requirement 'cachetools'. Your UDF might not work when the package version is different between the server and your local environment.\n"
     ]
    }
   ],
   "source": [
    "import cachetools\n",
    "import pickle, sys\n",
    "from snowflake.snowpark.types import StringType, IntegerType\n",
    "\n",
    "session.add_import(\"@int_stage/alldays.pkl\")\n",
    "\n",
    "@cachetools.cached(cache={})\n",
    "def extract_name() -> dict:\n",
    "    import_dir = sys._xoptions[\"snowflake_import_directory\"]\n",
    "    file_path = f\"{import_dir}alldays.pkl\"\n",
    "    \n",
    "    with open(file_path, 'rb') as file:\n",
    "        dict = pickle.load(file)\n",
    "    return dict\n",
    "\n",
    "def cachetools_test(key:int) -> str:   \n",
    "    return extract_name()[key]\n",
    "\n",
    "session.add_packages(\"cachetools\")\n",
    "udf_nocache = session.udf.register(\n",
    "    func=cachetools_test, name=\"cachetools_test\", stage_location='int_stage',\n",
    "    is_permanent=True, replace=True,\n",
    "    input_types=[IntegerType()], return_type=StringType())"
   ]
  },
  {
   "cell_type": "markdown",
   "metadata": {},
   "source": [
    "Call the UDF 10M times, and saves a table w/ WEEKDAYNAME as last added column"
   ]
  },
  {
   "cell_type": "code",
   "execution_count": 6,
   "metadata": {},
   "outputs": [
    {
     "name": "stdout",
     "output_type": "stream",
     "text": [
      "7.711658 seconds\n"
     ]
    }
   ],
   "source": [
    "from datetime import datetime\n",
    "\n",
    "st = datetime.now()\n",
    "df.withColumn('weekdayname',\n",
    "        call_udf('cachetools_test', df['\"weekday\"'].astype('int'))\n",
    "    ).write.mode('overwrite').save_as_table(\"cachetools_test\")\n",
    "et = datetime.now()\n",
    "print(f\"{(et - st).total_seconds()} seconds\")"
   ]
  }
 ],
 "metadata": {
  "kernelspec": {
   "display_name": "venv",
   "language": "python",
   "name": "python3"
  },
  "language_info": {
   "codemirror_mode": {
    "name": "ipython",
    "version": 3
   },
   "file_extension": ".py",
   "mimetype": "text/x-python",
   "name": "python",
   "nbconvert_exporter": "python",
   "pygments_lexer": "ipython3",
   "version": "3.9.6"
  }
 },
 "nbformat": 4,
 "nbformat_minor": 2
}
