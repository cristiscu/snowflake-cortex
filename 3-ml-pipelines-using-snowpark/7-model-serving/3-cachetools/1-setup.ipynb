{
 "cells": [
  {
   "cell_type": "markdown",
   "metadata": {},
   "source": [
    "Introduction to Cachetools"
   ]
  },
  {
   "cell_type": "code",
   "execution_count": 2,
   "metadata": {},
   "outputs": [],
   "source": [
    "# see https://cachetools.readthedocs.io/en/latest/\n",
    "\n",
    "import cachetools\n",
    "#@cachetools.cached(cache={})\n",
    "def fib(n):\n",
    "    return n if n < 2 else fib(n - 1) + fib(n - 2)\n",
    "\n",
    "fib(42)"
   ]
  },
  {
   "cell_type": "markdown",
   "metadata": {},
   "source": [
    "Create a Pickle file for tests"
   ]
  },
  {
   "cell_type": "code",
   "execution_count": 1,
   "metadata": {},
   "outputs": [
    {
     "name": "stdout",
     "output_type": "stream",
     "text": [
      "{1: 'monday', 2: 'tuesday', 3: 'wednesday', 4: 'thursday', 5: 'friday', 6: 'saturday', 7: 'sunday'}\n",
      "wednesday\n"
     ]
    }
   ],
   "source": [
    "# see https://github.com/Snowflake-Labs/sfguide-snowpark-python-top-three-tips-for-optimal-performance/blob/main/lab3_cachetools_library.ipynb\n",
    "\n",
    "dict = {1:'monday', 2:'tuesday', 3:'wednesday', 4:'thursday', 5:'friday', 6:'saturday', 7:'sunday'}\n",
    "print(dict)\n",
    "\n",
    "import pickle\n",
    "FILE_NAME = '../../../.spool/alldays.pkl'\n",
    "with open(FILE_NAME, 'wb') as file:\n",
    "    pickle.dump(dict, file)\n",
    "\n",
    "with open(FILE_NAME, 'rb') as file:\n",
    "    f = pickle.load(file)\n",
    "    print(f[3])"
   ]
  },
  {
   "cell_type": "markdown",
   "metadata": {},
   "source": [
    "Upload the Pickle file in a named stage"
   ]
  },
  {
   "cell_type": "code",
   "execution_count": 2,
   "metadata": {},
   "outputs": [
    {
     "name": "stderr",
     "output_type": "stream",
     "text": [
      "SnowflakeLoginOptions() is in private preview since 0.2.0. Do not use it in production. \n"
     ]
    },
    {
     "name": "stdout",
     "output_type": "stream",
     "text": [
      "------------------------------------------------------------------------------------------------------------------------------------\n",
      "|\"name\"                                              |\"size\"    |\"md5\"                             |\"last_modified\"                |\n",
      "------------------------------------------------------------------------------------------------------------------------------------\n",
      "|int_stage/alldays.pkl                               |112       |116486eb7cce60863e53f839f2deafb8  |Thu, 25 Apr 2024 20:14:45 GMT  |\n",
      "|int_stage/cachetools_test/udf_py_1530716869.zip     |5216      |486a4c6a81bd6c678a79a4f23ce266da  |Thu, 25 Apr 2024 17:53:05 GMT  |\n",
      "|int_stage/cachetools_test/udf_py_1820062443.zip     |4768      |467c86beb1a8f1d5224d5a3310f19979  |Thu, 25 Apr 2024 17:51:22 GMT  |\n",
      "|int_stage/models/2024-04-24-105611/housing_fore...  |29782096  |529d21b684da3c6ec7fb98cc2effc9cd  |Wed, 24 Apr 2024 17:57:16 GMT  |\n",
      "|int_stage/models/2024-04-24-130752/housing_fore...  |29807616  |03ea5dc86494da92af709af1cac14642  |Wed, 24 Apr 2024 20:08:59 GMT  |\n",
      "|int_stage/models/2024-04-24-131730/housing_fore...  |29782768  |31e68bd29a33dfbb535c1b94ab0a6b73  |Wed, 24 Apr 2024 20:18:34 GMT  |\n",
      "|int_stage/sp//train_house_sp/udf_py_1138029735.zip  |4144      |cc09a5ef65ccd9c203dad8e55f7d63e2  |Wed, 24 Apr 2024 20:07:45 GMT  |\n",
      "|int_stage/sp//train_house_sp/udf_py_1748546857.zip  |4080      |8776c9c3ed43e98b51bdac8f9552833b  |Wed, 24 Apr 2024 17:19:20 GMT  |\n",
      "|int_stage/sp//train_house_sp/udf_py_1945508118.zip  |4080      |c705a1bed2fa2138bc77b795b69382bc  |Wed, 24 Apr 2024 17:21:02 GMT  |\n",
      "|int_stage/sp//train_house_sp/udf_py_409022916.zip   |4144      |a375f3653131f46e156a24e5320fc347  |Wed, 24 Apr 2024 17:56:06 GMT  |\n",
      "------------------------------------------------------------------------------------------------------------------------------------\n",
      "\n"
     ]
    }
   ],
   "source": [
    "from snowflake.snowpark import Session\n",
    "from snowflake.ml.utils.connection_params import SnowflakeLoginOptions\n",
    "\n",
    "session = Session.builder.configs(SnowflakeLoginOptions(\"test_conn\")).create()\n",
    "session.file.put(FILE_NAME, \"int_stage\", auto_compress=False, overwrite=True)\n",
    "session.sql(\"list @int_stage\").show()"
   ]
  }
 ],
 "metadata": {
  "kernelspec": {
   "display_name": "venv",
   "language": "python",
   "name": "python3"
  },
  "language_info": {
   "codemirror_mode": {
    "name": "ipython",
    "version": 3
   },
   "file_extension": ".py",
   "mimetype": "text/x-python",
   "name": "python",
   "nbconvert_exporter": "python",
   "pygments_lexer": "ipython3",
   "version": "3.9.6"
  }
 },
 "nbformat": 4,
 "nbformat_minor": 2
}
