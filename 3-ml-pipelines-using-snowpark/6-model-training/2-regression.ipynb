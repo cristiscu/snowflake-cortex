{
 "cells": [
  {
   "cell_type": "markdown",
   "metadata": {},
   "source": [
    "Connect to Snowflake and get 10% sample data from HOUSING table"
   ]
  },
  {
   "cell_type": "code",
   "execution_count": 8,
   "metadata": {},
   "outputs": [
    {
     "data": {
      "text/plain": [
       "(      LONGITUDE  LATITUDE  HOUSING_MEDIAN_AGE  TOTAL_ROOMS  TOTAL_BEDROOMS  \\\n",
       " 0       -122.24     37.85                52.0       1467.0           190.0   \n",
       " 1       -122.26     37.85                52.0       2202.0           434.0   \n",
       " 2       -122.27     37.84                52.0       1688.0           337.0   \n",
       " 3       -122.27     37.83                51.0       2665.0           574.0   \n",
       " 4       -122.28     37.82                52.0       1170.0           235.0   \n",
       " ...         ...       ...                 ...          ...             ...   \n",
       " 2036    -121.79     38.67                30.0       2602.0           401.0   \n",
       " 2037    -121.57     39.16                33.0       2033.0           375.0   \n",
       " 2038    -121.56     39.10                28.0       2130.0           484.0   \n",
       " 2039    -121.54     39.08                26.0       2276.0           460.0   \n",
       " 2040    -121.44     39.00                20.0        755.0           147.0   \n",
       " \n",
       "       POPULATION  HOUSEHOLDS  MEDIAN_INCOME OCEAN_PROXIMITY  \n",
       " 0          496.0       177.0         7.2574        NEAR BAY  \n",
       " 1          910.0       402.0         3.2031        NEAR BAY  \n",
       " 2          853.0       325.0         2.1806        NEAR BAY  \n",
       " 3         1258.0       536.0         2.7303        NEAR BAY  \n",
       " 4          701.0       233.0         1.6098        NEAR BAY  \n",
       " ...          ...         ...            ...             ...  \n",
       " 2036       981.0       405.0         4.7222          INLAND  \n",
       " 2037       914.0       330.0         2.6964          INLAND  \n",
       " 2038      1195.0       439.0         1.3631          INLAND  \n",
       " 2039      1455.0       474.0         2.4695          INLAND  \n",
       " 2040       457.0       157.0         2.4167          INLAND  \n",
       " \n",
       " [2041 rows x 9 columns],\n",
       " 0       352100.0\n",
       " 1       281500.0\n",
       " 2        99700.0\n",
       " 3       109700.0\n",
       " 4        87500.0\n",
       "           ...   \n",
       " 2036    167200.0\n",
       " 2037     68500.0\n",
       " 2038     45500.0\n",
       " 2039     58000.0\n",
       " 2040     67000.0\n",
       " Name: MEDIAN_HOUSE_VALUE, Length: 2041, dtype: float64)"
      ]
     },
     "execution_count": 8,
     "metadata": {},
     "output_type": "execute_result"
    }
   ],
   "source": [
    "# see https://github.com/Snowflake-Labs/sfguide-snowpark-scikit-learn/blob/main/3_snowpark_end_to_end_ml.ipynb\n",
    "\n",
    "from sklearn.impute import SimpleImputer\n",
    "from sklearn.preprocessing import StandardScaler, OneHotEncoder\n",
    "from sklearn.compose import ColumnTransformer\n",
    "from sklearn.pipeline import Pipeline\n",
    "from sklearn.ensemble import RandomForestRegressor\n",
    "\n",
    "from snowflake.snowpark import Session\n",
    "from snowflake.ml.utils.connection_params import SnowflakeLoginOptions\n",
    "session = Session.builder.configs(SnowflakeLoginOptions(\"test_conn\")).create()\n",
    "\n",
    "df = session.table(\"HOUSING\").sample(frac=0.10).to_pandas()\n",
    "df.shape\n",
    "\n",
    "X = df.loc[:, df.columns != 'MEDIAN_HOUSE_VALUE']\n",
    "y = df['MEDIAN_HOUSE_VALUE']\n",
    "X, y"
   ]
  },
  {
   "cell_type": "markdown",
   "metadata": {},
   "source": [
    "Training function (reused from local test + deployed as @sproc)"
   ]
  },
  {
   "cell_type": "code",
   "execution_count": 9,
   "metadata": {},
   "outputs": [
    {
     "name": "stdout",
     "output_type": "stream",
     "text": [
      "365718.09\n"
     ]
    },
    {
     "data": {
      "text/html": [
       "<style>#sk-container-id-2 {color: black;}#sk-container-id-2 pre{padding: 0;}#sk-container-id-2 div.sk-toggleable {background-color: white;}#sk-container-id-2 label.sk-toggleable__label {cursor: pointer;display: block;width: 100%;margin-bottom: 0;padding: 0.3em;box-sizing: border-box;text-align: center;}#sk-container-id-2 label.sk-toggleable__label-arrow:before {content: \"▸\";float: left;margin-right: 0.25em;color: #696969;}#sk-container-id-2 label.sk-toggleable__label-arrow:hover:before {color: black;}#sk-container-id-2 div.sk-estimator:hover label.sk-toggleable__label-arrow:before {color: black;}#sk-container-id-2 div.sk-toggleable__content {max-height: 0;max-width: 0;overflow: hidden;text-align: left;background-color: #f0f8ff;}#sk-container-id-2 div.sk-toggleable__content pre {margin: 0.2em;color: black;border-radius: 0.25em;background-color: #f0f8ff;}#sk-container-id-2 input.sk-toggleable__control:checked~div.sk-toggleable__content {max-height: 200px;max-width: 100%;overflow: auto;}#sk-container-id-2 input.sk-toggleable__control:checked~label.sk-toggleable__label-arrow:before {content: \"▾\";}#sk-container-id-2 div.sk-estimator input.sk-toggleable__control:checked~label.sk-toggleable__label {background-color: #d4ebff;}#sk-container-id-2 div.sk-label input.sk-toggleable__control:checked~label.sk-toggleable__label {background-color: #d4ebff;}#sk-container-id-2 input.sk-hidden--visually {border: 0;clip: rect(1px 1px 1px 1px);clip: rect(1px, 1px, 1px, 1px);height: 1px;margin: -1px;overflow: hidden;padding: 0;position: absolute;width: 1px;}#sk-container-id-2 div.sk-estimator {font-family: monospace;background-color: #f0f8ff;border: 1px dotted black;border-radius: 0.25em;box-sizing: border-box;margin-bottom: 0.5em;}#sk-container-id-2 div.sk-estimator:hover {background-color: #d4ebff;}#sk-container-id-2 div.sk-parallel-item::after {content: \"\";width: 100%;border-bottom: 1px solid gray;flex-grow: 1;}#sk-container-id-2 div.sk-label:hover label.sk-toggleable__label {background-color: #d4ebff;}#sk-container-id-2 div.sk-serial::before {content: \"\";position: absolute;border-left: 1px solid gray;box-sizing: border-box;top: 0;bottom: 0;left: 50%;z-index: 0;}#sk-container-id-2 div.sk-serial {display: flex;flex-direction: column;align-items: center;background-color: white;padding-right: 0.2em;padding-left: 0.2em;position: relative;}#sk-container-id-2 div.sk-item {position: relative;z-index: 1;}#sk-container-id-2 div.sk-parallel {display: flex;align-items: stretch;justify-content: center;background-color: white;position: relative;}#sk-container-id-2 div.sk-item::before, #sk-container-id-2 div.sk-parallel-item::before {content: \"\";position: absolute;border-left: 1px solid gray;box-sizing: border-box;top: 0;bottom: 0;left: 50%;z-index: -1;}#sk-container-id-2 div.sk-parallel-item {display: flex;flex-direction: column;z-index: 1;position: relative;background-color: white;}#sk-container-id-2 div.sk-parallel-item:first-child::after {align-self: flex-end;width: 50%;}#sk-container-id-2 div.sk-parallel-item:last-child::after {align-self: flex-start;width: 50%;}#sk-container-id-2 div.sk-parallel-item:only-child::after {width: 0;}#sk-container-id-2 div.sk-dashed-wrapped {border: 1px dashed gray;margin: 0 0.4em 0.5em 0.4em;box-sizing: border-box;padding-bottom: 0.4em;background-color: white;}#sk-container-id-2 div.sk-label label {font-family: monospace;font-weight: bold;display: inline-block;line-height: 1.2em;}#sk-container-id-2 div.sk-label-container {text-align: center;}#sk-container-id-2 div.sk-container {/* jupyter's `normalize.less` sets `[hidden] { display: none; }` but bootstrap.min.css set `[hidden] { display: none !important; }` so we also need the `!important` here to be able to override the default hidden behavior on the sphinx rendered scikit-learn.org. See: https://github.com/scikit-learn/scikit-learn/issues/21755 */display: inline-block !important;position: relative;}#sk-container-id-2 div.sk-text-repr-fallback {display: none;}</style><div id=\"sk-container-id-2\" class=\"sk-top-container\"><div class=\"sk-text-repr-fallback\"><pre>Pipeline(steps=[(&#x27;preprocessor&#x27;,\n",
       "                 ColumnTransformer(transformers=[(&#x27;num&#x27;,\n",
       "                                                  Pipeline(steps=[(&#x27;imputer&#x27;,\n",
       "                                                                   SimpleImputer(strategy=&#x27;median&#x27;)),\n",
       "                                                                  (&#x27;std_scaler&#x27;,\n",
       "                                                                   StandardScaler())]),\n",
       "                                                  [&#x27;LONGITUDE&#x27;, &#x27;LATITUDE&#x27;,\n",
       "                                                   &#x27;HOUSING_MEDIAN_AGE&#x27;,\n",
       "                                                   &#x27;TOTAL_ROOMS&#x27;,\n",
       "                                                   &#x27;TOTAL_BEDROOMS&#x27;,\n",
       "                                                   &#x27;POPULATION&#x27;, &#x27;HOUSEHOLDS&#x27;,\n",
       "                                                   &#x27;MEDIAN_INCOME&#x27;]),\n",
       "                                                 (&#x27;cat&#x27;,\n",
       "                                                  Pipeline(steps=[(&#x27;imputer&#x27;,\n",
       "                                                                   SimpleImputer(strategy=&#x27;most_frequent&#x27;)),\n",
       "                                                                  (&#x27;onehot&#x27;,\n",
       "                                                                   OneHotEncoder(handle_unknown=&#x27;ignore&#x27;))]),\n",
       "                                                  [&#x27;OCEAN_PROXIMITY&#x27;])])),\n",
       "                (&#x27;model&#x27;, RandomForestRegressor(n_jobs=-1, random_state=42))])</pre><b>In a Jupyter environment, please rerun this cell to show the HTML representation or trust the notebook. <br />On GitHub, the HTML representation is unable to render, please try loading this page with nbviewer.org.</b></div><div class=\"sk-container\" hidden><div class=\"sk-item sk-dashed-wrapped\"><div class=\"sk-label-container\"><div class=\"sk-label sk-toggleable\"><input class=\"sk-toggleable__control sk-hidden--visually\" id=\"sk-estimator-id-10\" type=\"checkbox\" ><label for=\"sk-estimator-id-10\" class=\"sk-toggleable__label sk-toggleable__label-arrow\">Pipeline</label><div class=\"sk-toggleable__content\"><pre>Pipeline(steps=[(&#x27;preprocessor&#x27;,\n",
       "                 ColumnTransformer(transformers=[(&#x27;num&#x27;,\n",
       "                                                  Pipeline(steps=[(&#x27;imputer&#x27;,\n",
       "                                                                   SimpleImputer(strategy=&#x27;median&#x27;)),\n",
       "                                                                  (&#x27;std_scaler&#x27;,\n",
       "                                                                   StandardScaler())]),\n",
       "                                                  [&#x27;LONGITUDE&#x27;, &#x27;LATITUDE&#x27;,\n",
       "                                                   &#x27;HOUSING_MEDIAN_AGE&#x27;,\n",
       "                                                   &#x27;TOTAL_ROOMS&#x27;,\n",
       "                                                   &#x27;TOTAL_BEDROOMS&#x27;,\n",
       "                                                   &#x27;POPULATION&#x27;, &#x27;HOUSEHOLDS&#x27;,\n",
       "                                                   &#x27;MEDIAN_INCOME&#x27;]),\n",
       "                                                 (&#x27;cat&#x27;,\n",
       "                                                  Pipeline(steps=[(&#x27;imputer&#x27;,\n",
       "                                                                   SimpleImputer(strategy=&#x27;most_frequent&#x27;)),\n",
       "                                                                  (&#x27;onehot&#x27;,\n",
       "                                                                   OneHotEncoder(handle_unknown=&#x27;ignore&#x27;))]),\n",
       "                                                  [&#x27;OCEAN_PROXIMITY&#x27;])])),\n",
       "                (&#x27;model&#x27;, RandomForestRegressor(n_jobs=-1, random_state=42))])</pre></div></div></div><div class=\"sk-serial\"><div class=\"sk-item sk-dashed-wrapped\"><div class=\"sk-label-container\"><div class=\"sk-label sk-toggleable\"><input class=\"sk-toggleable__control sk-hidden--visually\" id=\"sk-estimator-id-11\" type=\"checkbox\" ><label for=\"sk-estimator-id-11\" class=\"sk-toggleable__label sk-toggleable__label-arrow\">preprocessor: ColumnTransformer</label><div class=\"sk-toggleable__content\"><pre>ColumnTransformer(transformers=[(&#x27;num&#x27;,\n",
       "                                 Pipeline(steps=[(&#x27;imputer&#x27;,\n",
       "                                                  SimpleImputer(strategy=&#x27;median&#x27;)),\n",
       "                                                 (&#x27;std_scaler&#x27;,\n",
       "                                                  StandardScaler())]),\n",
       "                                 [&#x27;LONGITUDE&#x27;, &#x27;LATITUDE&#x27;, &#x27;HOUSING_MEDIAN_AGE&#x27;,\n",
       "                                  &#x27;TOTAL_ROOMS&#x27;, &#x27;TOTAL_BEDROOMS&#x27;, &#x27;POPULATION&#x27;,\n",
       "                                  &#x27;HOUSEHOLDS&#x27;, &#x27;MEDIAN_INCOME&#x27;]),\n",
       "                                (&#x27;cat&#x27;,\n",
       "                                 Pipeline(steps=[(&#x27;imputer&#x27;,\n",
       "                                                  SimpleImputer(strategy=&#x27;most_frequent&#x27;)),\n",
       "                                                 (&#x27;onehot&#x27;,\n",
       "                                                  OneHotEncoder(handle_unknown=&#x27;ignore&#x27;))]),\n",
       "                                 [&#x27;OCEAN_PROXIMITY&#x27;])])</pre></div></div></div><div class=\"sk-parallel\"><div class=\"sk-parallel-item\"><div class=\"sk-item\"><div class=\"sk-label-container\"><div class=\"sk-label sk-toggleable\"><input class=\"sk-toggleable__control sk-hidden--visually\" id=\"sk-estimator-id-12\" type=\"checkbox\" ><label for=\"sk-estimator-id-12\" class=\"sk-toggleable__label sk-toggleable__label-arrow\">num</label><div class=\"sk-toggleable__content\"><pre>[&#x27;LONGITUDE&#x27;, &#x27;LATITUDE&#x27;, &#x27;HOUSING_MEDIAN_AGE&#x27;, &#x27;TOTAL_ROOMS&#x27;, &#x27;TOTAL_BEDROOMS&#x27;, &#x27;POPULATION&#x27;, &#x27;HOUSEHOLDS&#x27;, &#x27;MEDIAN_INCOME&#x27;]</pre></div></div></div><div class=\"sk-serial\"><div class=\"sk-item\"><div class=\"sk-serial\"><div class=\"sk-item\"><div class=\"sk-estimator sk-toggleable\"><input class=\"sk-toggleable__control sk-hidden--visually\" id=\"sk-estimator-id-13\" type=\"checkbox\" ><label for=\"sk-estimator-id-13\" class=\"sk-toggleable__label sk-toggleable__label-arrow\">SimpleImputer</label><div class=\"sk-toggleable__content\"><pre>SimpleImputer(strategy=&#x27;median&#x27;)</pre></div></div></div><div class=\"sk-item\"><div class=\"sk-estimator sk-toggleable\"><input class=\"sk-toggleable__control sk-hidden--visually\" id=\"sk-estimator-id-14\" type=\"checkbox\" ><label for=\"sk-estimator-id-14\" class=\"sk-toggleable__label sk-toggleable__label-arrow\">StandardScaler</label><div class=\"sk-toggleable__content\"><pre>StandardScaler()</pre></div></div></div></div></div></div></div></div><div class=\"sk-parallel-item\"><div class=\"sk-item\"><div class=\"sk-label-container\"><div class=\"sk-label sk-toggleable\"><input class=\"sk-toggleable__control sk-hidden--visually\" id=\"sk-estimator-id-15\" type=\"checkbox\" ><label for=\"sk-estimator-id-15\" class=\"sk-toggleable__label sk-toggleable__label-arrow\">cat</label><div class=\"sk-toggleable__content\"><pre>[&#x27;OCEAN_PROXIMITY&#x27;]</pre></div></div></div><div class=\"sk-serial\"><div class=\"sk-item\"><div class=\"sk-serial\"><div class=\"sk-item\"><div class=\"sk-estimator sk-toggleable\"><input class=\"sk-toggleable__control sk-hidden--visually\" id=\"sk-estimator-id-16\" type=\"checkbox\" ><label for=\"sk-estimator-id-16\" class=\"sk-toggleable__label sk-toggleable__label-arrow\">SimpleImputer</label><div class=\"sk-toggleable__content\"><pre>SimpleImputer(strategy=&#x27;most_frequent&#x27;)</pre></div></div></div><div class=\"sk-item\"><div class=\"sk-estimator sk-toggleable\"><input class=\"sk-toggleable__control sk-hidden--visually\" id=\"sk-estimator-id-17\" type=\"checkbox\" ><label for=\"sk-estimator-id-17\" class=\"sk-toggleable__label sk-toggleable__label-arrow\">OneHotEncoder</label><div class=\"sk-toggleable__content\"><pre>OneHotEncoder(handle_unknown=&#x27;ignore&#x27;)</pre></div></div></div></div></div></div></div></div></div></div><div class=\"sk-item\"><div class=\"sk-estimator sk-toggleable\"><input class=\"sk-toggleable__control sk-hidden--visually\" id=\"sk-estimator-id-18\" type=\"checkbox\" ><label for=\"sk-estimator-id-18\" class=\"sk-toggleable__label sk-toggleable__label-arrow\">RandomForestRegressor</label><div class=\"sk-toggleable__content\"><pre>RandomForestRegressor(n_jobs=-1, random_state=42)</pre></div></div></div></div></div></div></div>"
      ],
      "text/plain": [
       "Pipeline(steps=[('preprocessor',\n",
       "                 ColumnTransformer(transformers=[('num',\n",
       "                                                  Pipeline(steps=[('imputer',\n",
       "                                                                   SimpleImputer(strategy='median')),\n",
       "                                                                  ('std_scaler',\n",
       "                                                                   StandardScaler())]),\n",
       "                                                  ['LONGITUDE', 'LATITUDE',\n",
       "                                                   'HOUSING_MEDIAN_AGE',\n",
       "                                                   'TOTAL_ROOMS',\n",
       "                                                   'TOTAL_BEDROOMS',\n",
       "                                                   'POPULATION', 'HOUSEHOLDS',\n",
       "                                                   'MEDIAN_INCOME']),\n",
       "                                                 ('cat',\n",
       "                                                  Pipeline(steps=[('imputer',\n",
       "                                                                   SimpleImputer(strategy='most_frequent')),\n",
       "                                                                  ('onehot',\n",
       "                                                                   OneHotEncoder(handle_unknown='ignore'))]),\n",
       "                                                  ['OCEAN_PROXIMITY'])])),\n",
       "                ('model', RandomForestRegressor(n_jobs=-1, random_state=42))])"
      ]
     },
     "execution_count": 9,
     "metadata": {},
     "output_type": "execute_result"
    }
   ],
   "source": [
    "def fit_pipeline(X, y, cat_attribs, num_attribs):\n",
    "    model = Pipeline([\n",
    "        ('preprocessor', ColumnTransformer([\n",
    "            ( \"num\", Pipeline([\n",
    "                ('imputer', SimpleImputer(strategy=\"median\")),\n",
    "                ('std_scaler', StandardScaler())]), num_attribs),\n",
    "            ( \"cat\", Pipeline(steps=[\n",
    "                ('imputer', SimpleImputer(strategy='most_frequent')),\n",
    "                ('onehot', OneHotEncoder(handle_unknown='ignore'))]), cat_attribs)])),\n",
    "        ('model', RandomForestRegressor(n_estimators=100, random_state=42, n_jobs=-1))])\n",
    "    model.fit(X, y)\n",
    "    return model\n",
    "\n",
    "pipe = fit_pipeline(X, y,\n",
    "       ['OCEAN_PROXIMITY'], ['LONGITUDE', 'LATITUDE', 'HOUSING_MEDIAN_AGE', 'TOTAL_ROOMS',\n",
    "       'TOTAL_BEDROOMS', 'POPULATION', 'HOUSEHOLDS', 'MEDIAN_INCOME'])\n",
    "print(pipe.predict(X)[0])\n",
    "pipe"
   ]
  },
  {
   "cell_type": "markdown",
   "metadata": {},
   "source": [
    "Save model in internal named stage"
   ]
  },
  {
   "cell_type": "code",
   "execution_count": 10,
   "metadata": {},
   "outputs": [],
   "source": [
    "def save_model(session, model, stage_name, stage_path, model_file):\n",
    "    import io, joblib\n",
    "\n",
    "    input_stream = io.BytesIO()\n",
    "    input_stream.name = model_file\n",
    "    joblib.dump(model, input_stream)\n",
    "\n",
    "    model_path = f'{stage_name}/{stage_path}/{model_file}'\n",
    "    session.file.put_stream(input_stream, model_path, overwrite=True)\n",
    "    return model_path"
   ]
  },
  {
   "cell_type": "code",
   "execution_count": 11,
   "metadata": {},
   "outputs": [],
   "source": [
    "# Stored Procedure function\n",
    "def train_model(\n",
    "    session: Session,           # A stored procedure will receive a session object when executed in snowflake with the authentification done\n",
    "    training_table: str,        # Table name that has the data to be used for training and test\n",
    "    target_col: str,            # name of the target column\n",
    "    save_stage: str) -> dict:   # name of the stage to save the fitted pipline object\n",
    "    \n",
    "    from datetime import datetime\n",
    "    import numpy as np\n",
    "\n",
    "    now = datetime.now() # Get the date and time when this is strated\n",
    "    \n",
    "    # Get the training table and split into a training and test Snowpark DataFrames\n",
    "    snowdf_train, snowdf_test = session.table(training_table).random_split([0.8, 0.2], seed=82) # use seed to make the split repeatable\n",
    "\n",
    "    # Get the categorical and numeric column names\n",
    "    cat_attribs = [c.name for c in snowdf_train.schema.fields\n",
    "        if (type(c.datatype) == T.StringType) & (c.name != target_col)]\n",
    "    numeric_types = [T.DecimalType, T.LongType, T.DoubleType, T.FloatType, T.IntegerType]\n",
    "    num_attribs = [c.name for c in snowdf_train.schema.fields\n",
    "        if (type(c.datatype) in numeric_types) & (c.name != target_col)]\n",
    "\n",
    "    # save the train and test sets as time stamped tables in Snowflake \n",
    "    #table_suffix = now.strftime(\"%Y%m%d%H%M%S\")\n",
    "    train_table_name = training_table + '_TRAIN'\n",
    "    snowdf_train.write.mode(\"overwrite\").save_as_table(train_table_name)\n",
    "    test_table_name = training_table + '_TEST'\n",
    "    snowdf_test.write.mode(\"overwrite\").save_as_table(test_table_name)\n",
    "\n",
    "    pd_train = snowdf_train.to_pandas()\n",
    "    \n",
    "    X_train = pd_train.loc[:, pd_train.columns != target_col]\n",
    "    y_train = pd_train[target_col]\n",
    "    \n",
    "    # Fit the model (pipeline)\n",
    "    full_pipeline = fit_pipeline(X_train, y_train, cat_attribs, num_attribs)\n",
    "\n",
    "    # save the full pipeline including the model\n",
    "    # Save the model to stage\n",
    "    save_path = now.strftime(\"%Y-%m-%d-%H%M%S\")\n",
    "    object_saved_path = save_model(session, full_pipeline,\n",
    "        f\"@{save_stage}/models\", save_path, 'housing_fores_reg.joblib')\n",
    "\n",
    "    # predict on the test set and return the root mean squared error (RMSE)\n",
    "    pd_test = snowdf_test.to_pandas()\n",
    "    \n",
    "    X_test = pd_test.loc[:, pd_train.columns != target_col]\n",
    "    y_test = pd_test[target_col]\n",
    "    \n",
    "    housing_predictions = full_pipeline.predict(X_test)\n",
    "    lin_mse = mean_squared_error(y_test, housing_predictions)\n",
    "    lin_rmse = np.sqrt(lin_mse)\n",
    "\n",
    "    # Create a dict to return with test metrics and the path to the saved model pipeline\n",
    "    ret_dict = {\n",
    "        \"MSE\": lin_mse,\n",
    "        \"RMSE\": lin_rmse,\n",
    "        \"model_path\": object_saved_path,\n",
    "        \"train_table\": train_table_name,\n",
    "        \"test_table\": test_table_name }\n",
    "    return ret_dict"
   ]
  },
  {
   "cell_type": "code",
   "execution_count": 7,
   "metadata": {},
   "outputs": [
    {
     "name": "stderr",
     "output_type": "stream",
     "text": [
      "WARNING:snowflake.snowpark.session:The version of package 'snowflake-snowpark-python' in the local environment is 1.14.0, which does not fit the criteria for the requirement 'snowflake-snowpark-python'. Your UDF might not work when the package version is different between the server and your local environment.\n",
      "WARNING:snowflake.snowpark.session:The version of package 'scikit-learn' in the local environment is 1.3.2, which does not fit the criteria for the requirement 'scikit-learn'. Your UDF might not work when the package version is different between the server and your local environment.\n",
      "WARNING:snowflake.snowpark.session:The version of package 'joblib' in the local environment is 1.3.2, which does not fit the criteria for the requirement 'joblib'. Your UDF might not work when the package version is different between the server and your local environment.\n",
      "WARNING:snowflake.snowpark.session:The version of package 'cachetools' in the local environment is 5.3.3, which does not fit the criteria for the requirement 'cachetools'. Your UDF might not work when the package version is different between the server and your local environment.\n"
     ]
    },
    {
     "ename": "NameError",
     "evalue": "name 'F' is not defined",
     "output_type": "error",
     "traceback": [
      "\u001b[1;31m---------------------------------------------------------------------------\u001b[0m",
      "\u001b[1;31mNameError\u001b[0m                                 Traceback (most recent call last)",
      "Cell \u001b[1;32mIn[7], line 9\u001b[0m\n\u001b[0;32m      5\u001b[0m session\u001b[38;5;241m.\u001b[39mclear_imports()\n\u001b[0;32m      7\u001b[0m session\u001b[38;5;241m.\u001b[39madd_packages(\u001b[38;5;124m'\u001b[39m\u001b[38;5;124msnowflake-snowpark-python\u001b[39m\u001b[38;5;124m'\u001b[39m, \u001b[38;5;124m'\u001b[39m\u001b[38;5;124mscikit-learn\u001b[39m\u001b[38;5;124m'\u001b[39m,\n\u001b[0;32m      8\u001b[0m     \u001b[38;5;124m'\u001b[39m\u001b[38;5;124mpandas\u001b[39m\u001b[38;5;124m'\u001b[39m, \u001b[38;5;124m'\u001b[39m\u001b[38;5;124mnumpy\u001b[39m\u001b[38;5;124m'\u001b[39m, \u001b[38;5;124m'\u001b[39m\u001b[38;5;124mjoblib\u001b[39m\u001b[38;5;124m'\u001b[39m, \u001b[38;5;124m'\u001b[39m\u001b[38;5;124mcachetools\u001b[39m\u001b[38;5;124m'\u001b[39m)\n\u001b[1;32m----> 9\u001b[0m train_model_sp \u001b[38;5;241m=\u001b[39m \u001b[43mF\u001b[49m\u001b[38;5;241m.\u001b[39msproc(func\u001b[38;5;241m=\u001b[39mtrain_model, name\u001b[38;5;241m=\u001b[39m\u001b[38;5;124m\"\u001b[39m\u001b[38;5;124mtrain_house_sp\u001b[39m\u001b[38;5;124m\"\u001b[39m ,\n\u001b[0;32m     10\u001b[0m     replace\u001b[38;5;241m=\u001b[39m\u001b[38;5;28;01mTrue\u001b[39;00m, is_permanent\u001b[38;5;241m=\u001b[39m\u001b[38;5;28;01mTrue\u001b[39;00m,\n\u001b[0;32m     11\u001b[0m     stage_location\u001b[38;5;241m=\u001b[39m\u001b[38;5;124m\"\u001b[39m\u001b[38;5;124mint_stage/sp/\u001b[39m\u001b[38;5;124m\"\u001b[39m, session\u001b[38;5;241m=\u001b[39msession)\n\u001b[0;32m     13\u001b[0m return_dict \u001b[38;5;241m=\u001b[39m json\u001b[38;5;241m.\u001b[39mloads(train_model_sp(session, \u001b[38;5;124m\"\u001b[39m\u001b[38;5;124mHOUSING_DATA\u001b[39m\u001b[38;5;124m\"\u001b[39m, \u001b[38;5;124m\"\u001b[39m\u001b[38;5;124mMEDIAN_HOUSE_VALUE\u001b[39m\u001b[38;5;124m\"\u001b[39m, stage_name))\n\u001b[0;32m     14\u001b[0m return_dict\n",
      "\u001b[1;31mNameError\u001b[0m: name 'F' is not defined"
     ]
    }
   ],
   "source": [
    "import json\n",
    "from snowflake.snowpark import types as T\n",
    "\n",
    "session.clear_packages()\n",
    "session.clear_imports()\n",
    "\n",
    "session.add_packages('snowflake-snowpark-python', 'scikit-learn',\n",
    "    'pandas', 'numpy', 'joblib', 'cachetools')\n",
    "train_model_sp = F.sproc(func=train_model, name=\"train_house_sp\" ,\n",
    "    replace=True, is_permanent=True,\n",
    "    stage_location=\"int_stage/sp/\", session=session)\n",
    "\n",
    "return_dict = json.loads(train_model_sp(session, \"HOUSING_DATA\", \"MEDIAN_HOUSE_VALUE\", stage_name))\n",
    "return_dict\n",
    "\n",
    "session.sql(\"ls @int_stage\").show(max_width=150)"
   ]
  }
 ],
 "metadata": {
  "kernelspec": {
   "display_name": "Python 3",
   "language": "python",
   "name": "python3"
  },
  "language_info": {
   "codemirror_mode": {
    "name": "ipython",
    "version": 3
   },
   "file_extension": ".py",
   "mimetype": "text/x-python",
   "name": "python",
   "nbconvert_exporter": "python",
   "pygments_lexer": "ipython3",
   "version": "3.9.6"
  }
 },
 "nbformat": 4,
 "nbformat_minor": 2
}
