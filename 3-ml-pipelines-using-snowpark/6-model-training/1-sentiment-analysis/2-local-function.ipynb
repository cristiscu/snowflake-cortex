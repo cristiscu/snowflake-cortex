{
 "cells": [
  {
   "cell_type": "markdown",
   "id": "0be946fb",
   "metadata": {},
   "source": [
    "Connect to Snowflake for the IMDB datasets"
   ]
  },
  {
   "cell_type": "code",
   "execution_count": 1,
   "id": "268fd956",
   "metadata": {},
   "outputs": [
    {
     "name": "stderr",
     "output_type": "stream",
     "text": [
      "SnowflakeLoginOptions() is in private preview since 0.2.0. Do not use it in production. \n"
     ]
    }
   ],
   "source": [
    "from snowflake.snowpark.session import Session\n",
    "from snowflake.ml.utils.connection_params import SnowflakeLoginOptions\n",
    "\n",
    "pars = SnowflakeLoginOptions(\"test_conn\")\n",
    "pars[\"database\"] = \"IMDB\"\n",
    "session = Session.builder.configs(pars).create()\n",
    "session.query_tag = \"sentiment-1\""
   ]
  },
  {
   "cell_type": "markdown",
   "id": "f00e1a6a",
   "metadata": {},
   "source": [
    "Isolate all code into a Python function"
   ]
  },
  {
   "cell_type": "code",
   "execution_count": 2,
   "id": "adbf62a6",
   "metadata": {},
   "outputs": [],
   "source": [
    "def train_imdb(session: Session, train_dataset_name: str, tmp_folder: str):\n",
    "    \n",
    "    from snowflake.snowpark import functions as fn\n",
    "    import sklearn.feature_extraction.text as txt\n",
    "    from sklearn import svm\n",
    "    from joblib import dump\n",
    "    \n",
    "    df = session.table(train_dataset_name)\n",
    "    df_flag = df.withColumn(\"SENTIMENT_FLAG\",\n",
    "        fn.when(df.SENTIMENT == \"positive\", 1).otherwise(2))\n",
    "    train_x = df_flag.toPandas().REVIEW.values\n",
    "    train_y = df_flag.toPandas().SENTIMENT_FLAG.values\n",
    "    df_flag.show()\n",
    "\n",
    "    filename = f'{tmp_folder}vect_review2.joblib'\n",
    "    print(f'Building Sparse Matrix into {filename}...')\n",
    "    vector = txt.CountVectorizer(\n",
    "        token_pattern=\"[\\\\w']+\\\\w\\\\b\", ngram_range=(1, 2), analyzer='word', \n",
    "        max_df=0.02, min_df=1 * 1./len(train_x), vocabulary=None, binary=True)\n",
    "    bow = vector.fit_transform(train_x)\n",
    "    dump(vector, filename, compress=True)\n",
    "    session.file.put(filename, \"@models\", auto_compress=True, overwrite=True)\n",
    "\n",
    "    filename = f'{tmp_folder}model_review2.joblib'\n",
    "    print(f'Fitting model into {filename}...')\n",
    "    model = svm.LinearSVC(C=1.8, max_iter=100)\n",
    "    model.fit(bow, train_y)\n",
    "    dump(model, filename, compress=True)\n",
    "    session.file.put(filename, \"@models\", auto_compress=True, overwrite=True)\n",
    "\n",
    "    return { \"STATUS\": \"SUCCESS\", \"R2 Score Train\": str(model.score(bow, train_y)) }"
   ]
  },
  {
   "cell_type": "markdown",
   "id": "824659e9",
   "metadata": {},
   "source": [
    "Call local Python function and list @MODELS stage files"
   ]
  },
  {
   "cell_type": "code",
   "execution_count": 3,
   "id": "9b76a258",
   "metadata": {},
   "outputs": [
    {
     "name": "stdout",
     "output_type": "stream",
     "text": [
      "---------------------------------------------------------------------------------------\n",
      "|\"REVIEW\"                                            |\"SENTIMENT\"  |\"SENTIMENT_FLAG\"  |\n",
      "---------------------------------------------------------------------------------------\n",
      "|\"In Victorian times a father is separated from ...  |positive     |1                 |\n",
      "|\"When this film gets it right it really gets it...  |positive     |1                 |\n",
      "|\"What this film has is its realism , you really...  |negative     |2                 |\n",
      "|\"\"\"Like the first touch of pleasure and guilt, ...  |positive     |1                 |\n",
      "|\"This is a weird and compelling film. The topic...  |positive     |1                 |\n",
      "|\"Although I am not a Michael Jackson fan, I lik...  |positive     |1                 |\n",
      "|\"Tigerland follows the lives of a group of rece...  |positive     |1                 |\n",
      "|\"To all the reviewers on this page, I would hav...  |positive     |1                 |\n",
      "|\"I really should give this stinker more credit ...  |negative     |2                 |\n",
      "|\"Another one for the Babes & Bullets crowd. The...  |positive     |1                 |\n",
      "---------------------------------------------------------------------------------------\n",
      "\n",
      "Building Sparse Matrix into ../../../.spool/vect_review2.joblib...\n",
      "Fitting model into ../../../.spool/model_review2.joblib...\n"
     ]
    },
    {
     "name": "stderr",
     "output_type": "stream",
     "text": [
      "c:\\Projects\\snowflake-cortex\\venv\\lib\\site-packages\\sklearn\\svm\\_classes.py:32: FutureWarning: The default value of `dual` will change from `True` to `'auto'` in 1.5. Set the value of `dual` explicitly to suppress the warning.\n",
      "  warnings.warn(\n",
      "c:\\Projects\\snowflake-cortex\\venv\\lib\\site-packages\\sklearn\\svm\\_base.py:1250: ConvergenceWarning: Liblinear failed to converge, increase the number of iterations.\n",
      "  warnings.warn(\n"
     ]
    },
    {
     "name": "stdout",
     "output_type": "stream",
     "text": [
      "----------------------------------------------------------------------------------------------------------------\n",
      "|\"name\"                          |\"size\"    |\"md5\"                             |\"last_modified\"                |\n",
      "----------------------------------------------------------------------------------------------------------------\n",
      "|models/model_review.joblib.gz   |10820048  |1c63425ac807b5048c1e1f7ddc72da23  |Wed, 24 Apr 2024 15:52:14 GMT  |\n",
      "|models/model_review1.joblib.gz  |10820800  |38506eb60f34f5d16a4c9d68384ef3ee  |Wed, 24 Apr 2024 18:08:37 GMT  |\n",
      "|models/model_review2.joblib.gz  |10831088  |f4f7de7178e43463789bf213a44d96f5  |Wed, 24 Apr 2024 19:28:46 GMT  |\n",
      "|models/vect_review.joblib.gz    |27852416  |92d019222e89c2db309379b0584dc958  |Wed, 24 Apr 2024 15:51:49 GMT  |\n",
      "|models/vect_review1.joblib.gz   |27852432  |72b6c79a63956493b3b75f1d90c9de0a  |Wed, 24 Apr 2024 18:08:25 GMT  |\n",
      "|models/vect_review2.joblib.gz   |27852448  |e21ad0cbc5fa7aff688a02d969d73dc0  |Wed, 24 Apr 2024 19:28:17 GMT  |\n",
      "----------------------------------------------------------------------------------------------------------------\n",
      "\n"
     ]
    }
   ],
   "source": [
    "ret = train_imdb(session, \"TRAIN_DATASET\", \"../../../.spool/\")\n",
    "print(ret)\n",
    "\n",
    "session.sql(\"LS @MODELS\").show()"
   ]
  }
 ],
 "metadata": {
  "kernelspec": {
   "display_name": "Python 3 (ipykernel)",
   "language": "python",
   "name": "python3"
  },
  "language_info": {
   "codemirror_mode": {
    "name": "ipython",
    "version": 3
   },
   "file_extension": ".py",
   "mimetype": "text/x-python",
   "name": "python",
   "nbconvert_exporter": "python",
   "pygments_lexer": "ipython3",
   "version": "3.9.6"
  }
 },
 "nbformat": 4,
 "nbformat_minor": 5
}
