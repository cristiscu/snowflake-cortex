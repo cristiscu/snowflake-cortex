{
 "cells": [
  {
   "cell_type": "markdown",
   "id": "0be946fb",
   "metadata": {},
   "source": [
    "Connect to Snowflake for the IMDB datasets"
   ]
  },
  {
   "cell_type": "code",
   "execution_count": 1,
   "id": "268fd956",
   "metadata": {},
   "outputs": [
    {
     "name": "stderr",
     "output_type": "stream",
     "text": [
      "SnowflakeLoginOptions() is in private preview since 0.2.0. Do not use it in production. \n"
     ]
    }
   ],
   "source": [
    "from snowflake.snowpark.session import Session\n",
    "from snowflake.ml.utils.connection_params import SnowflakeLoginOptions\n",
    "\n",
    "pars = SnowflakeLoginOptions(\"test_conn\")\n",
    "pars[\"database\"] = \"IMDB\"\n",
    "session = Session.builder.configs(pars).create()\n",
    "session.query_tag = \"sentiment-1\""
   ]
  },
  {
   "cell_type": "markdown",
   "id": "824659e9",
   "metadata": {},
   "source": [
    "Call Python function from local module and list @MODELS stage files"
   ]
  },
  {
   "cell_type": "code",
   "execution_count": 2,
   "id": "9b76a258",
   "metadata": {},
   "outputs": [
    {
     "name": "stdout",
     "output_type": "stream",
     "text": [
      "---------------------------------------------------------------------------------------\n",
      "|\"REVIEW\"                                            |\"SENTIMENT\"  |\"SENTIMENT_FLAG\"  |\n",
      "---------------------------------------------------------------------------------------\n",
      "|\"In Victorian times a father is separated from ...  |positive     |1                 |\n",
      "|\"When this film gets it right it really gets it...  |positive     |1                 |\n",
      "|\"What this film has is its realism , you really...  |negative     |2                 |\n",
      "|\"\"\"Like the first touch of pleasure and guilt, ...  |positive     |1                 |\n",
      "|\"This is a weird and compelling film. The topic...  |positive     |1                 |\n",
      "|\"Although I am not a Michael Jackson fan, I lik...  |positive     |1                 |\n",
      "|\"Tigerland follows the lives of a group of rece...  |positive     |1                 |\n",
      "|\"To all the reviewers on this page, I would hav...  |positive     |1                 |\n",
      "|\"I really should give this stinker more credit ...  |negative     |2                 |\n",
      "|\"Another one for the Babes & Bullets crowd. The...  |positive     |1                 |\n",
      "---------------------------------------------------------------------------------------\n",
      "\n",
      "Building Sparse Matrix into ../../../.spool/vect_review1.joblib...\n",
      "Fitting model into ../../../.spool/model_review1.joblib...\n"
     ]
    },
    {
     "name": "stderr",
     "output_type": "stream",
     "text": [
      "c:\\Projects\\snowflake-cortex\\venv\\lib\\site-packages\\sklearn\\svm\\_classes.py:32: FutureWarning: The default value of `dual` will change from `True` to `'auto'` in 1.5. Set the value of `dual` explicitly to suppress the warning.\n",
      "  warnings.warn(\n",
      "c:\\Projects\\snowflake-cortex\\venv\\lib\\site-packages\\sklearn\\svm\\_base.py:1250: ConvergenceWarning: Liblinear failed to converge, increase the number of iterations.\n",
      "  warnings.warn(\n"
     ]
    },
    {
     "name": "stdout",
     "output_type": "stream",
     "text": [
      "----------------------------------------------------------------------------------------------------------------\n",
      "|\"name\"                          |\"size\"    |\"md5\"                             |\"last_modified\"                |\n",
      "----------------------------------------------------------------------------------------------------------------\n",
      "|models/model_review.joblib.gz   |10820048  |1c63425ac807b5048c1e1f7ddc72da23  |Wed, 24 Apr 2024 15:52:14 GMT  |\n",
      "|models/model_review1.joblib.gz  |10823520  |0e7962b54994d252f59a7922529d4821  |Wed, 24 Apr 2024 19:59:46 GMT  |\n",
      "|models/model_review2.joblib.gz  |10831088  |f4f7de7178e43463789bf213a44d96f5  |Wed, 24 Apr 2024 19:28:46 GMT  |\n",
      "|models/model_review3.joblib.gz  |10822480  |43d3eba9ea59d5c444348793f3d9c4c0  |Wed, 24 Apr 2024 19:38:02 GMT  |\n",
      "|models/vect_review.joblib.gz    |27852416  |92d019222e89c2db309379b0584dc958  |Wed, 24 Apr 2024 15:51:49 GMT  |\n",
      "|models/vect_review1.joblib.gz   |27852496  |786ca6109403a04aa8dc81a02f26d040  |Wed, 24 Apr 2024 19:59:08 GMT  |\n",
      "|models/vect_review2.joblib.gz   |27852448  |e21ad0cbc5fa7aff688a02d969d73dc0  |Wed, 24 Apr 2024 19:28:17 GMT  |\n",
      "|models/vect_review3.joblib.gz   |27852432  |86a6c9d9dd8acf0f76ffe27240cae8f4  |Wed, 24 Apr 2024 19:37:50 GMT  |\n",
      "----------------------------------------------------------------------------------------------------------------\n",
      "\n"
     ]
    }
   ],
   "source": [
    "from train_imdb_module import train_imdb\n",
    "\n",
    "ret = train_imdb(session, \"TRAIN_DATASET\", \"../../../.spool/\")\n",
    "print(ret)\n",
    "\n",
    "session.sql(\"LS @MODELS\").show()"
   ]
  }
 ],
 "metadata": {
  "kernelspec": {
   "display_name": "Python 3 (ipykernel)",
   "language": "python",
   "name": "python3"
  },
  "language_info": {
   "codemirror_mode": {
    "name": "ipython",
    "version": 3
   },
   "file_extension": ".py",
   "mimetype": "text/x-python",
   "name": "python",
   "nbconvert_exporter": "python",
   "pygments_lexer": "ipython3",
   "version": "3.9.6"
  }
 },
 "nbformat": 4,
 "nbformat_minor": 5
}
