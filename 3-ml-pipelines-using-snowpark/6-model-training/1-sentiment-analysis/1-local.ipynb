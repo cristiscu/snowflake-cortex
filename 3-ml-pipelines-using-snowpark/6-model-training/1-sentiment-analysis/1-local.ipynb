{
 "cells": [
  {
   "cell_type": "code",
   "execution_count": 1,
   "id": "1f5f8453",
   "metadata": {},
   "outputs": [],
   "source": [
    "# see https://github.com/Snowflake-Labs/snowpark-python-demos/blob/main/snowpark_nlp_ml_demo/notebook/Sentiment_Analysis_NLP_with_Snowpark_ML.ipynb\n",
    "\n",
    "import sklearn.feature_extraction.text as txt\n",
    "from sklearn import svm\n",
    "from joblib import dump\n",
    "from snowflake.snowpark import functions as fn\n",
    "from snowflake.snowpark.session import Session\n",
    "from snowflake.ml.utils.connection_params import SnowflakeLoginOptions"
   ]
  },
  {
   "cell_type": "markdown",
   "id": "0be946fb",
   "metadata": {},
   "source": [
    "Connect to Snowflake for the IMDB datasets"
   ]
  },
  {
   "cell_type": "code",
   "execution_count": 2,
   "id": "268fd956",
   "metadata": {},
   "outputs": [
    {
     "name": "stderr",
     "output_type": "stream",
     "text": [
      "SnowflakeLoginOptions() is in private preview since 0.2.0. Do not use it in production. \n"
     ]
    }
   ],
   "source": [
    "pars = SnowflakeLoginOptions(\"test_conn\")\n",
    "pars[\"database\"] = \"IMDB\"\n",
    "session = Session.builder.configs(pars).create()\n",
    "session.query_tag = \"sentiment-1\""
   ]
  },
  {
   "cell_type": "markdown",
   "id": "824659e9",
   "metadata": {},
   "source": [
    "Get training datasets"
   ]
  },
  {
   "cell_type": "code",
   "execution_count": 3,
   "id": "0995199f",
   "metadata": {},
   "outputs": [
    {
     "name": "stdout",
     "output_type": "stream",
     "text": [
      "---------------------------------------------------------------------------------------\n",
      "|\"REVIEW\"                                            |\"SENTIMENT\"  |\"SENTIMENT_FLAG\"  |\n",
      "---------------------------------------------------------------------------------------\n",
      "|\"In Victorian times a father is separated from ...  |positive     |1                 |\n",
      "|\"When this film gets it right it really gets it...  |positive     |1                 |\n",
      "|\"What this film has is its realism , you really...  |negative     |2                 |\n",
      "|\"\"\"Like the first touch of pleasure and guilt, ...  |positive     |1                 |\n",
      "|\"This is a weird and compelling film. The topic...  |positive     |1                 |\n",
      "|\"Although I am not a Michael Jackson fan, I lik...  |positive     |1                 |\n",
      "|\"Tigerland follows the lives of a group of rece...  |positive     |1                 |\n",
      "|\"To all the reviewers on this page, I would hav...  |positive     |1                 |\n",
      "|\"I really should give this stinker more credit ...  |negative     |2                 |\n",
      "|\"Another one for the Babes & Bullets crowd. The...  |positive     |1                 |\n",
      "---------------------------------------------------------------------------------------\n",
      "\n"
     ]
    }
   ],
   "source": [
    "df = session.table(\"TRAIN_DATASET\")\n",
    "df_flag = df.withColumn(\"SENTIMENT_FLAG\",\n",
    "    fn.when(df.SENTIMENT == \"positive\", 1).otherwise(2))\n",
    "train_x = df_flag.toPandas().REVIEW.values\n",
    "train_y = df_flag.toPandas().SENTIMENT_FLAG.values\n",
    "df_flag.show()"
   ]
  },
  {
   "cell_type": "markdown",
   "id": "32513f43",
   "metadata": {},
   "source": [
    "Create sparse matrix with word counts"
   ]
  },
  {
   "cell_type": "code",
   "execution_count": 4,
   "id": "b303a8c9",
   "metadata": {},
   "outputs": [
    {
     "data": {
      "text/plain": [
       "['../../../.spool/vect_review1.joblib']"
      ]
     },
     "execution_count": 4,
     "metadata": {},
     "output_type": "execute_result"
    }
   ],
   "source": [
    "vector = txt.CountVectorizer(\n",
    "    token_pattern=\"[\\\\w']+\\\\w\\\\b\", ngram_range=(1, 2), analyzer='word', \n",
    "    max_df=0.02, min_df=1 * 1./len(train_x), vocabulary=None, binary=True)\n",
    "bow = vector.fit_transform(train_x)\n",
    "dump(vector, '../../../.spool/vect_review1.joblib', compress=True)"
   ]
  },
  {
   "cell_type": "markdown",
   "id": "a8df8773",
   "metadata": {},
   "source": [
    "Train model with SVM (Support Vector Machine) linear classifier"
   ]
  },
  {
   "cell_type": "code",
   "execution_count": 5,
   "id": "e65df16b",
   "metadata": {},
   "outputs": [
    {
     "name": "stderr",
     "output_type": "stream",
     "text": [
      "c:\\Projects\\snowflake-cortex\\venv\\lib\\site-packages\\sklearn\\svm\\_classes.py:32: FutureWarning: The default value of `dual` will change from `True` to `'auto'` in 1.5. Set the value of `dual` explicitly to suppress the warning.\n",
      "  warnings.warn(\n",
      "c:\\Projects\\snowflake-cortex\\venv\\lib\\site-packages\\sklearn\\svm\\_base.py:1250: ConvergenceWarning: Liblinear failed to converge, increase the number of iterations.\n",
      "  warnings.warn(\n"
     ]
    },
    {
     "name": "stdout",
     "output_type": "stream",
     "text": [
      "{'STATUS': 'SUCCESS', 'R2 Score Train': '1.0'}\n"
     ]
    }
   ],
   "source": [
    "model = svm.LinearSVC(C=1.8, max_iter=100)\n",
    "model.fit(bow, train_y)\n",
    "dump(model, '../../../.spool/model_review1.joblib', compress=True)\n",
    "\n",
    "print({ \"STATUS\": \"SUCCESS\", \"R2 Score Train\": str(model.score(bow, train_y)) })"
   ]
  }
 ],
 "metadata": {
  "kernelspec": {
   "display_name": "Python 3 (ipykernel)",
   "language": "python",
   "name": "python3"
  },
  "language_info": {
   "codemirror_mode": {
    "name": "ipython",
    "version": 3
   },
   "file_extension": ".py",
   "mimetype": "text/x-python",
   "name": "python",
   "nbconvert_exporter": "python",
   "pygments_lexer": "ipython3",
   "version": "3.9.6"
  }
 },
 "nbformat": 4,
 "nbformat_minor": 5
}
