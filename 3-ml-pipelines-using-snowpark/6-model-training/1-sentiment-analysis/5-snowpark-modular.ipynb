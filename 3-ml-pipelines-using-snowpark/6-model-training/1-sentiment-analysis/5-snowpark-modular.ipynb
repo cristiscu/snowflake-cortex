{
 "cells": [
  {
   "cell_type": "markdown",
   "id": "0be946fb",
   "metadata": {},
   "source": [
    "Connect to Snowflake for the IMDB datasets"
   ]
  },
  {
   "cell_type": "code",
   "execution_count": 1,
   "id": "268fd956",
   "metadata": {},
   "outputs": [
    {
     "name": "stderr",
     "output_type": "stream",
     "text": [
      "SnowflakeLoginOptions() is in private preview since 0.2.0. Do not use it in production. \n"
     ]
    }
   ],
   "source": [
    "from snowflake.snowpark.session import Session\n",
    "from snowflake.ml.utils.connection_params import SnowflakeLoginOptions\n",
    "\n",
    "pars = SnowflakeLoginOptions(\"test_conn\")\n",
    "pars[\"database\"] = \"IMDB\"\n",
    "session = Session.builder.configs(pars).create()\n",
    "session.query_tag = \"sentiment-1\""
   ]
  },
  {
   "cell_type": "markdown",
   "id": "32513f43",
   "metadata": {},
   "source": [
    "Deploy all the code as a Snowflake stored proc"
   ]
  },
  {
   "cell_type": "code",
   "execution_count": 2,
   "id": "1ad1624d",
   "metadata": {},
   "outputs": [
    {
     "name": "stderr",
     "output_type": "stream",
     "text": [
      "WARNING:snowflake.snowpark.session:The version of package 'scikit-learn' in the local environment is 1.3.2, which does not fit the criteria for the requirement 'scikit-learn'. Your UDF might not work when the package version is different between the server and your local environment.\n",
      "WARNING:snowflake.snowpark.session:The version of package 'joblib' in the local environment is 1.4.0, which does not fit the criteria for the requirement 'joblib'. Your UDF might not work when the package version is different between the server and your local environment.\n",
      "WARNING:snowflake.snowpark.session:The version of package 'cachetools' in the local environment is 5.3.3, which does not fit the criteria for the requirement 'cachetools'. Your UDF might not work when the package version is different between the server and your local environment.\n"
     ]
    }
   ],
   "source": [
    "from snowflake.snowpark.functions import sproc\n",
    "from snowflake.snowpark.types import Variant\n",
    "from train_imdb_module import train_imdb\n",
    "\n",
    "@sproc(name='train_imdb_sp', is_permanent=True, stage_location='@files', replace=True,\n",
    "    imports=[\"@FILES/train_imdb_module.py\"],\n",
    "    packages=['snowflake-snowpark-python',\n",
    "    'scikit-learn', 'pandas', 'numpy', 'nltk', 'joblib', 'cachetools'])\n",
    "def train_imdb_sp(session: Session, train_dataset_name: str, tmp_folder: str) -> Variant:\n",
    "    return train_imdb(session, train_dataset_name, tmp_folder)"
   ]
  },
  {
   "cell_type": "markdown",
   "id": "22d41c91",
   "metadata": {},
   "source": [
    "Execute Snowflake stored proc and list @MODELS stage files"
   ]
  },
  {
   "cell_type": "code",
   "execution_count": 3,
   "id": "c723d776",
   "metadata": {},
   "outputs": [
    {
     "name": "stdout",
     "output_type": "stream",
     "text": [
      "----------------------------------------------------------------------------------------------------------------\n",
      "|\"name\"                          |\"size\"    |\"md5\"                             |\"last_modified\"                |\n",
      "----------------------------------------------------------------------------------------------------------------\n",
      "|models/model_review.joblib.gz   |10820048  |1c63425ac807b5048c1e1f7ddc72da23  |Wed, 24 Apr 2024 15:52:14 GMT  |\n",
      "|models/model_review1.joblib.gz  |10825280  |d26d8c66788af5757c780759f54fd289  |Wed, 24 Apr 2024 19:58:06 GMT  |\n",
      "|models/model_review2.joblib.gz  |10831088  |f4f7de7178e43463789bf213a44d96f5  |Wed, 24 Apr 2024 19:28:46 GMT  |\n",
      "|models/model_review3.joblib.gz  |10822480  |43d3eba9ea59d5c444348793f3d9c4c0  |Wed, 24 Apr 2024 19:38:02 GMT  |\n",
      "|models/vect_review.joblib.gz    |27852416  |92d019222e89c2db309379b0584dc958  |Wed, 24 Apr 2024 15:51:49 GMT  |\n",
      "|models/vect_review1.joblib.gz   |27852400  |10210349ddd5cae45d3b11017bdd6fa4  |Wed, 24 Apr 2024 19:57:54 GMT  |\n",
      "|models/vect_review2.joblib.gz   |27852448  |e21ad0cbc5fa7aff688a02d969d73dc0  |Wed, 24 Apr 2024 19:28:17 GMT  |\n",
      "|models/vect_review3.joblib.gz   |27852432  |86a6c9d9dd8acf0f76ffe27240cae8f4  |Wed, 24 Apr 2024 19:37:50 GMT  |\n",
      "----------------------------------------------------------------------------------------------------------------\n",
      "\n"
     ]
    }
   ],
   "source": [
    "ret = session.call(\"train_imdb_sp\", \"TRAIN_DATASET\", \"/tmp/\")\n",
    "print(ret)\n",
    "\n",
    "session.sql(\"LS @MODELS\").show()"
   ]
  }
 ],
 "metadata": {
  "kernelspec": {
   "display_name": "Python 3 (ipykernel)",
   "language": "python",
   "name": "python3"
  },
  "language_info": {
   "codemirror_mode": {
    "name": "ipython",
    "version": 3
   },
   "file_extension": ".py",
   "mimetype": "text/x-python",
   "name": "python",
   "nbconvert_exporter": "python",
   "pygments_lexer": "ipython3",
   "version": "3.9.6"
  }
 },
 "nbformat": 4,
 "nbformat_minor": 5
}
