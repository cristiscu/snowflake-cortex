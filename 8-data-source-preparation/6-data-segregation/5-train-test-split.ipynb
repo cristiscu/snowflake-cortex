{
 "cells": [
  {
   "cell_type": "code",
   "execution_count": null,
   "metadata": {},
   "outputs": [],
   "source": [
    "import pandas as pd\n",
    "from snowflake.snowpark import Session\n",
    "from snowflake.ml.utils.connection_params import SnowflakeLoginOptions\n",
    "from sklearn.model_selection import train_test_split\n",
    "\n",
    "session = Session.builder.configs(SnowflakeLoginOptions(\"test_conn\")).create()\n",
    "df = session.table(\"CLASSIFICATION_DATASET\").to_pandas()\n",
    "\n",
    "X = pd.DataFrame(df, columns=[\"X1\", \"X2\", \"X3\", \"X4\", \"X5\", \"X6\"])\n",
    "y = pd.DataFrame(df, columns=[\"Y\"])\n",
    "X_train, X_test, y_train, y_test = train_test_split(X, y, test_size=0.1)"
   ]
  }
 ],
 "metadata": {
  "language_info": {
   "name": "python"
  }
 },
 "nbformat": 4,
 "nbformat_minor": 2
}
