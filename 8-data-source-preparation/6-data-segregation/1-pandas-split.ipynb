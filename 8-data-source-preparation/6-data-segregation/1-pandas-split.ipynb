{
 "cells": [
  {
   "cell_type": "markdown",
   "metadata": {},
   "source": [
    "Separate single column"
   ]
  },
  {
   "cell_type": "code",
   "execution_count": 1,
   "metadata": {},
   "outputs": [
    {
     "data": {
      "text/plain": [
       "(      LONGITUDE  LATITUDE  HOUSING_MEDIAN_AGE  TOTAL_ROOMS  TOTAL_BEDROOMS  \\\n",
       " 0       -122.23     37.88                41.0        880.0           129.0   \n",
       " 1       -122.27     37.85                52.0       1966.0           347.0   \n",
       " 2       -122.28     37.84                49.0       1916.0           447.0   \n",
       " 3       -122.28     37.82                52.0       1170.0           235.0   \n",
       " 4       -122.28     37.82                52.0       1489.0           335.0   \n",
       " ...         ...       ...                 ...          ...             ...   \n",
       " 2081    -121.55     39.06                25.0       1332.0           247.0   \n",
       " 2082    -121.56     39.01                22.0       1891.0           340.0   \n",
       " 2083    -121.37     39.03                32.0       1158.0           244.0   \n",
       " 2084    -121.41     39.04                16.0       1698.0           300.0   \n",
       " 2085    -121.24     39.37                16.0       2785.0           616.0   \n",
       " \n",
       "       POPULATION  HOUSEHOLDS  MEDIAN_INCOME OCEAN_PROXIMITY  \n",
       " 0          322.0       126.0         8.3252        NEAR BAY  \n",
       " 1          793.0       331.0         2.7750        NEAR BAY  \n",
       " 2          863.0       378.0         1.9274        NEAR BAY  \n",
       " 3          701.0       233.0         1.6098        NEAR BAY  \n",
       " 4          728.0       244.0         0.8172        NEAR BAY  \n",
       " ...          ...         ...            ...             ...  \n",
       " 2081       726.0       226.0         2.2500          INLAND  \n",
       " 2082      1023.0       296.0         2.7303          INLAND  \n",
       " 2083       598.0       227.0         2.8235          INLAND  \n",
       " 2084       731.0       291.0         3.0739          INLAND  \n",
       " 2085      1387.0       530.0         2.3886          INLAND  \n",
       " \n",
       " [2086 rows x 9 columns],\n",
       " 0       452600.0\n",
       " 1       152500.0\n",
       " 2       122300.0\n",
       " 3        87500.0\n",
       " 4        85300.0\n",
       "           ...   \n",
       " 2081     63400.0\n",
       " 2082     99100.0\n",
       " 2083     65500.0\n",
       " 2084     87200.0\n",
       " 2085     89400.0\n",
       " Name: MEDIAN_HOUSE_VALUE, Length: 2086, dtype: float64)"
      ]
     },
     "execution_count": 1,
     "metadata": {},
     "output_type": "execute_result"
    }
   ],
   "source": [
    "import random\n",
    "import pandas as pd\n",
    "\n",
    "df = pd.read_csv(\n",
    "    \"..\\..\\.spool\\datasets\\housing.csv\",\n",
    "    skiprows=lambda i: i > 0 and random.random() > 0.10)\n",
    "df.columns = [c.upper() for c in df.columns]\n",
    "\n",
    "X = df.loc[:, df.columns != 'MEDIAN_HOUSE_VALUE']\n",
    "y = df['MEDIAN_HOUSE_VALUE']\n",
    "X, y"
   ]
  }
 ],
 "metadata": {
  "kernelspec": {
   "display_name": "venv",
   "language": "python",
   "name": "python3"
  },
  "language_info": {
   "codemirror_mode": {
    "name": "ipython",
    "version": 3
   },
   "file_extension": ".py",
   "mimetype": "text/x-python",
   "name": "python",
   "nbconvert_exporter": "python",
   "pygments_lexer": "ipython3",
   "version": "3.9.6"
  }
 },
 "nbformat": 4,
 "nbformat_minor": 2
}
