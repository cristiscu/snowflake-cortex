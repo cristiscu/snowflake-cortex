{
 "cells": [
  {
   "cell_type": "code",
   "execution_count": 1,
   "metadata": {},
   "outputs": [
    {
     "name": "stderr",
     "output_type": "stream",
     "text": [
      "SnowflakeLoginOptions() is in private preview since 0.2.0. Do not use it in production. \n"
     ]
    },
    {
     "name": "stdout",
     "output_type": "stream",
     "text": [
      "----------------------------------------------------------------------------------------------------\n",
      "|\"COLOR\"  |\"CLARITY\"  |\"PRICE\"  |\"CUT\"      |\"CARAT\"  |\"X\"   |\"Y\"   |\"Z\"   |\"DEPTH\"  |\"TABLE_PCT\"  |\n",
      "----------------------------------------------------------------------------------------------------\n",
      "|E        |SI2        |326      |IDEAL      |0.23     |3.95  |3.98  |2.43  |61.5     |55.0         |\n",
      "|E        |SI1        |326      |PREMIUM    |0.21     |3.89  |3.84  |2.31  |59.8     |61.0         |\n",
      "|E        |VS1        |327      |GOOD       |0.23     |4.05  |4.07  |2.31  |56.9     |65.0         |\n",
      "|I        |VS2        |334      |PREMIUM    |0.29     |4.2   |4.23  |2.63  |62.4     |58.0         |\n",
      "|J        |SI2        |335      |GOOD       |0.31     |4.34  |4.35  |2.75  |63.3     |58.0         |\n",
      "|J        |VVS2       |336      |VERY_GOOD  |0.24     |3.94  |3.96  |2.48  |62.8     |57.0         |\n",
      "|I        |VVS1       |336      |VERY_GOOD  |0.24     |3.95  |3.98  |2.47  |62.3     |57.0         |\n",
      "|H        |SI1        |337      |VERY_GOOD  |0.26     |4.07  |4.11  |2.53  |61.9     |55.0         |\n",
      "|E        |VS2        |337      |FAIR       |0.22     |3.87  |3.78  |2.49  |65.1     |61.0         |\n",
      "|H        |VS1        |338      |VERY_GOOD  |0.23     |4.0   |4.05  |2.39  |59.4     |61.0         |\n",
      "----------------------------------------------------------------------------------------------------\n",
      "\n"
     ]
    }
   ],
   "source": [
    "# see https://github.com/Snowflake-Labs/sfguide-intro-to-machine-learning-with-snowpark-ml-for-python/blob/main/2_snowpark_ml_feature_transformations.ipynb\n",
    "\n",
    "import numpy as np\n",
    "from snowflake.ml.modeling.preprocessing import MinMaxScaler, OrdinalEncoder, OneHotEncoder\n",
    "from snowflake.snowpark.types import DecimalType\n",
    "from snowflake.snowpark import Session\n",
    "from snowflake.ml.utils.connection_params import SnowflakeLoginOptions\n",
    "\n",
    "pars = SnowflakeLoginOptions(\"test_conn\")\n",
    "pars[\"database\"] = \"test\"\n",
    "pars[\"schema\"] = \"diamonds\"\n",
    "session = Session.builder.configs(pars).create()\n",
    "\n",
    "df = session.table('diamonds_clean')\n",
    "df.show()"
   ]
  },
  {
   "cell_type": "code",
   "execution_count": 2,
   "metadata": {},
   "outputs": [
    {
     "name": "stdout",
     "output_type": "stream",
     "text": [
      "-------------------------------------------------------------------------------------------------------------------\n",
      "|\"COLOR\"  |\"CLARITY\"  |\"PRICE\"  |\"CUT\"      |\"CARAT\"  |\"X\"   |\"Y\"   |\"Z\"   |\"DEPTH\"  |\"TABLE_PCT\"  |\"CARAT_NORM\"  |\n",
      "-------------------------------------------------------------------------------------------------------------------\n",
      "|E        |SI2        |326      |IDEAL      |0.23     |3.95  |3.98  |2.43  |61.5     |55.0         |0.006237      |\n",
      "|E        |SI1        |326      |PREMIUM    |0.21     |3.89  |3.84  |2.31  |59.8     |61.0         |0.002079      |\n",
      "|E        |VS1        |327      |GOOD       |0.23     |4.05  |4.07  |2.31  |56.9     |65.0         |0.006237      |\n",
      "|I        |VS2        |334      |PREMIUM    |0.29     |4.2   |4.23  |2.63  |62.4     |58.0         |0.018711      |\n",
      "|J        |SI2        |335      |GOOD       |0.31     |4.34  |4.35  |2.75  |63.3     |58.0         |0.022869      |\n",
      "|J        |VVS2       |336      |VERY_GOOD  |0.24     |3.94  |3.96  |2.48  |62.8     |57.0         |0.008316      |\n",
      "|I        |VVS1       |336      |VERY_GOOD  |0.24     |3.95  |3.98  |2.47  |62.3     |57.0         |0.008316      |\n",
      "|H        |SI1        |337      |VERY_GOOD  |0.26     |4.07  |4.11  |2.53  |61.9     |55.0         |0.012474      |\n",
      "|E        |VS2        |337      |FAIR       |0.22     |3.87  |3.78  |2.49  |65.1     |61.0         |0.004158      |\n",
      "|H        |VS1        |338      |VERY_GOOD  |0.23     |4.0   |4.05  |2.39  |59.4     |61.0         |0.006237      |\n",
      "-------------------------------------------------------------------------------------------------------------------\n",
      "\n"
     ]
    }
   ],
   "source": [
    "pipe = MinMaxScaler(input_cols=[\"CARAT\"], output_cols=[\"CARAT_NORM\"])\n",
    "df = pipe.fit(df).transform(df)\n",
    "df = df.with_column(\"CARAT_NORM\", df.col(\"CARAT_NORM\").cast(DecimalType(7, 6)))\n",
    "df.show()"
   ]
  },
  {
   "cell_type": "code",
   "execution_count": 3,
   "metadata": {},
   "outputs": [
    {
     "name": "stdout",
     "output_type": "stream",
     "text": [
      "   _COLUMN_NAME  _CATEGORY  _INDEX\n",
      "0           CUT      IDEAL       0\n",
      "1           CUT    PREMIUM       1\n",
      "2           CUT  VERY_GOOD       2\n",
      "3           CUT       GOOD       3\n",
      "4           CUT       FAIR       4\n",
      "5       CLARITY         IF       0\n",
      "6       CLARITY       VVS1       1\n",
      "7       CLARITY       VVS2       2\n",
      "8       CLARITY        VS1       3\n",
      "9       CLARITY        VS2       4\n",
      "10      CLARITY        SI1       5\n",
      "11      CLARITY        SI2       6\n",
      "12      CLARITY         I1       7\n",
      "13      CLARITY         I2       8\n",
      "14      CLARITY         I3       9\n",
      "---------------------------------------------------------------------------------------------------------------------------------------------\n",
      "|\"CUT_OE\"  |\"CLARITY_OE\"  |\"COLOR\"  |\"CLARITY\"  |\"PRICE\"  |\"CUT\"      |\"CARAT\"  |\"X\"   |\"Y\"   |\"Z\"   |\"DEPTH\"  |\"TABLE_PCT\"  |\"CARAT_NORM\"  |\n",
      "---------------------------------------------------------------------------------------------------------------------------------------------\n",
      "|0.0       |6.0           |E        |SI2        |326      |IDEAL      |0.23     |3.95  |3.98  |2.43  |61.5     |55.0         |0.006237      |\n",
      "|1.0       |5.0           |E        |SI1        |326      |PREMIUM    |0.21     |3.89  |3.84  |2.31  |59.8     |61.0         |0.002079      |\n",
      "|3.0       |3.0           |E        |VS1        |327      |GOOD       |0.23     |4.05  |4.07  |2.31  |56.9     |65.0         |0.006237      |\n",
      "|1.0       |4.0           |I        |VS2        |334      |PREMIUM    |0.29     |4.2   |4.23  |2.63  |62.4     |58.0         |0.018711      |\n",
      "|3.0       |6.0           |J        |SI2        |335      |GOOD       |0.31     |4.34  |4.35  |2.75  |63.3     |58.0         |0.022869      |\n",
      "|2.0       |2.0           |J        |VVS2       |336      |VERY_GOOD  |0.24     |3.94  |3.96  |2.48  |62.8     |57.0         |0.008316      |\n",
      "|2.0       |1.0           |I        |VVS1       |336      |VERY_GOOD  |0.24     |3.95  |3.98  |2.47  |62.3     |57.0         |0.008316      |\n",
      "|2.0       |5.0           |H        |SI1        |337      |VERY_GOOD  |0.26     |4.07  |4.11  |2.53  |61.9     |55.0         |0.012474      |\n",
      "|4.0       |4.0           |E        |VS2        |337      |FAIR       |0.22     |3.87  |3.78  |2.49  |65.1     |61.0         |0.004158      |\n",
      "|2.0       |3.0           |H        |VS1        |338      |VERY_GOOD  |0.23     |4.0   |4.05  |2.39  |59.4     |61.0         |0.006237      |\n",
      "---------------------------------------------------------------------------------------------------------------------------------------------\n",
      "\n"
     ]
    }
   ],
   "source": [
    "categories = {\n",
    "    \"CUT\": np.array([\"IDEAL\", \"PREMIUM\", \"VERY_GOOD\", \"GOOD\", \"FAIR\"]),\n",
    "    \"CLARITY\": np.array([\"IF\", \"VVS1\", \"VVS2\", \"VS1\", \"VS2\", \"SI1\", \"SI2\", \"I1\", \"I2\", \"I3\"])}\n",
    "enc = OrdinalEncoder(\n",
    "    input_cols=[\"CUT\", \"CLARITY\"],\n",
    "    output_cols=[\"CUT_OE\", \"CLARITY_OE\"],\n",
    "    categories=categories)\n",
    "df = enc.fit(df).transform(df)\n",
    "print(enc._state_pandas)\n",
    "df.show()"
   ]
  },
  {
   "cell_type": "code",
   "execution_count": 4,
   "metadata": {},
   "outputs": [
    {
     "name": "stderr",
     "output_type": "stream",
     "text": [
      "c:\\Projects\\snowflake-cortex\\venv\\lib\\site-packages\\snowflake\\snowpark\\session.py:2182: UserWarning: Pandas Dataframe has non-standard index of type <class 'pandas.core.indexes.numeric.Int64Index'> which will not be written. Consider changing the index to pd.RangeIndex(start=0,...,step=1) or call reset_index() to keep index as column(s)\n",
      "  success, nchunks, nrows, ci_output = write_pandas(\n",
      "c:\\Projects\\snowflake-cortex\\venv\\lib\\site-packages\\snowflake\\snowpark\\session.py:2182: UserWarning: Pandas Dataframe has non-standard index of type <class 'pandas.core.indexes.numeric.Int64Index'> which will not be written. Consider changing the index to pd.RangeIndex(start=0,...,step=1) or call reset_index() to keep index as column(s)\n",
      "  success, nchunks, nrows, ci_output = write_pandas(\n"
     ]
    },
    {
     "name": "stdout",
     "output_type": "stream",
     "text": [
      "---------------------------------------------------------------------------------------------------------------------------------------------------------------------------------------------------------------------------------------------------------------------------------------------------------------------------------------------------------------------------------------------------------------------------------------------------------------------------------------------------------------------------\n",
      "|\"CUT_OHE_FAIR\"  |\"CUT_OHE_GOOD\"  |\"CUT_OHE_IDEAL\"  |\"CUT_OHE_PREMIUM\"  |\"CUT_OHE_VERY_GOOD\"  |\"COLOR_OHE_D\"  |\"COLOR_OHE_E\"  |\"COLOR_OHE_F\"  |\"COLOR_OHE_G\"  |\"COLOR_OHE_H\"  |\"COLOR_OHE_I\"  |\"COLOR_OHE_J\"  |\"CLARITY_OHE_I1\"  |\"CLARITY_OHE_IF\"  |\"CLARITY_OHE_SI1\"  |\"CLARITY_OHE_SI2\"  |\"CLARITY_OHE_VS1\"  |\"CLARITY_OHE_VS2\"  |\"CLARITY_OHE_VVS1\"  |\"CLARITY_OHE_VVS2\"  |\"CUT_OE\"  |\"CLARITY_OE\"  |\"COLOR\"  |\"CLARITY\"  |\"PRICE\"  |\"CUT\"      |\"CARAT\"  |\"X\"   |\"Y\"   |\"Z\"   |\"DEPTH\"  |\"TABLE_PCT\"  |\"CARAT_NORM\"  |\n",
      "---------------------------------------------------------------------------------------------------------------------------------------------------------------------------------------------------------------------------------------------------------------------------------------------------------------------------------------------------------------------------------------------------------------------------------------------------------------------------------------------------------------------------\n",
      "|0.0             |0.0             |1.0              |0.0                |0.0                  |0.0            |1.0            |0.0            |0.0            |0.0            |0.0            |0.0            |0.0               |0.0               |0.0                |1.0                |0.0                |0.0                |0.0                 |0.0                 |0.0       |6.0           |E        |SI2        |326      |IDEAL      |0.23     |3.95  |3.98  |2.43  |61.5     |55.0         |0.006237      |\n",
      "|0.0             |0.0             |0.0              |1.0                |0.0                  |0.0            |1.0            |0.0            |0.0            |0.0            |0.0            |0.0            |0.0               |0.0               |1.0                |0.0                |0.0                |0.0                |0.0                 |0.0                 |1.0       |5.0           |E        |SI1        |326      |PREMIUM    |0.21     |3.89  |3.84  |2.31  |59.8     |61.0         |0.002079      |\n",
      "|0.0             |1.0             |0.0              |0.0                |0.0                  |0.0            |1.0            |0.0            |0.0            |0.0            |0.0            |0.0            |0.0               |0.0               |0.0                |0.0                |1.0                |0.0                |0.0                 |0.0                 |3.0       |3.0           |E        |VS1        |327      |GOOD       |0.23     |4.05  |4.07  |2.31  |56.9     |65.0         |0.006237      |\n",
      "|0.0             |0.0             |0.0              |1.0                |0.0                  |0.0            |0.0            |0.0            |0.0            |0.0            |1.0            |0.0            |0.0               |0.0               |0.0                |0.0                |0.0                |1.0                |0.0                 |0.0                 |1.0       |4.0           |I        |VS2        |334      |PREMIUM    |0.29     |4.2   |4.23  |2.63  |62.4     |58.0         |0.018711      |\n",
      "|0.0             |1.0             |0.0              |0.0                |0.0                  |0.0            |0.0            |0.0            |0.0            |0.0            |0.0            |1.0            |0.0               |0.0               |0.0                |1.0                |0.0                |0.0                |0.0                 |0.0                 |3.0       |6.0           |J        |SI2        |335      |GOOD       |0.31     |4.34  |4.35  |2.75  |63.3     |58.0         |0.022869      |\n",
      "|0.0             |0.0             |0.0              |0.0                |1.0                  |0.0            |0.0            |0.0            |0.0            |0.0            |0.0            |1.0            |0.0               |0.0               |0.0                |0.0                |0.0                |0.0                |0.0                 |1.0                 |2.0       |2.0           |J        |VVS2       |336      |VERY_GOOD  |0.24     |3.94  |3.96  |2.48  |62.8     |57.0         |0.008316      |\n",
      "|0.0             |0.0             |0.0              |0.0                |1.0                  |0.0            |0.0            |0.0            |0.0            |0.0            |1.0            |0.0            |0.0               |0.0               |0.0                |0.0                |0.0                |0.0                |1.0                 |0.0                 |2.0       |1.0           |I        |VVS1       |336      |VERY_GOOD  |0.24     |3.95  |3.98  |2.47  |62.3     |57.0         |0.008316      |\n",
      "|0.0             |0.0             |0.0              |0.0                |1.0                  |0.0            |0.0            |0.0            |0.0            |1.0            |0.0            |0.0            |0.0               |0.0               |1.0                |0.0                |0.0                |0.0                |0.0                 |0.0                 |2.0       |5.0           |H        |SI1        |337      |VERY_GOOD  |0.26     |4.07  |4.11  |2.53  |61.9     |55.0         |0.012474      |\n",
      "|1.0             |0.0             |0.0              |0.0                |0.0                  |0.0            |1.0            |0.0            |0.0            |0.0            |0.0            |0.0            |0.0               |0.0               |0.0                |0.0                |0.0                |1.0                |0.0                 |0.0                 |4.0       |4.0           |E        |VS2        |337      |FAIR       |0.22     |3.87  |3.78  |2.49  |65.1     |61.0         |0.004158      |\n",
      "|0.0             |0.0             |0.0              |0.0                |1.0                  |0.0            |0.0            |0.0            |0.0            |1.0            |0.0            |0.0            |0.0               |0.0               |0.0                |0.0                |1.0                |0.0                |0.0                 |0.0                 |2.0       |3.0           |H        |VS1        |338      |VERY_GOOD  |0.23     |4.0   |4.05  |2.39  |59.4     |61.0         |0.006237      |\n",
      "---------------------------------------------------------------------------------------------------------------------------------------------------------------------------------------------------------------------------------------------------------------------------------------------------------------------------------------------------------------------------------------------------------------------------------------------------------------------------------------------------------------------------\n",
      "\n"
     ]
    }
   ],
   "source": [
    "enc = OneHotEncoder(\n",
    "    input_cols=[\"CUT\", \"COLOR\", \"CLARITY\"],\n",
    "    output_cols=[\"CUT_OHE\", \"COLOR_OHE\", \"CLARITY_OHE\"])\n",
    "df = enc.fit(df).transform(df)\n",
    "np.array(df.columns)\n",
    "df.show()\n",
    "df.write.mode('overwrite').save_as_table('diamonds_transform')"
   ]
  }
 ],
 "metadata": {
  "kernelspec": {
   "display_name": "venv",
   "language": "python",
   "name": "python3"
  },
  "language_info": {
   "codemirror_mode": {
    "name": "ipython",
    "version": 3
   },
   "file_extension": ".py",
   "mimetype": "text/x-python",
   "name": "python",
   "nbconvert_exporter": "python",
   "pygments_lexer": "ipython3",
   "version": "3.9.6"
  }
 },
 "nbformat": 4,
 "nbformat_minor": 2
}
