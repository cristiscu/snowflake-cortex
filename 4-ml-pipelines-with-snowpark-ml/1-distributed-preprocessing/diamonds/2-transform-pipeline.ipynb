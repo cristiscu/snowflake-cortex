{
 "cells": [
  {
   "cell_type": "code",
   "execution_count": 1,
   "metadata": {},
   "outputs": [
    {
     "name": "stderr",
     "output_type": "stream",
     "text": [
      "SnowflakeLoginOptions() is in private preview since 0.2.0. Do not use it in production. \n"
     ]
    },
    {
     "name": "stdout",
     "output_type": "stream",
     "text": [
      "----------------------------------------------------------------------------------------------------\n",
      "|\"COLOR\"  |\"CLARITY\"  |\"PRICE\"  |\"CUT\"      |\"CARAT\"  |\"X\"   |\"Y\"   |\"Z\"   |\"DEPTH\"  |\"TABLE_PCT\"  |\n",
      "----------------------------------------------------------------------------------------------------\n",
      "|E        |SI2        |326      |IDEAL      |0.23     |3.95  |3.98  |2.43  |61.5     |55.0         |\n",
      "|E        |SI1        |326      |PREMIUM    |0.21     |3.89  |3.84  |2.31  |59.8     |61.0         |\n",
      "|E        |VS1        |327      |GOOD       |0.23     |4.05  |4.07  |2.31  |56.9     |65.0         |\n",
      "|I        |VS2        |334      |PREMIUM    |0.29     |4.2   |4.23  |2.63  |62.4     |58.0         |\n",
      "|J        |SI2        |335      |GOOD       |0.31     |4.34  |4.35  |2.75  |63.3     |58.0         |\n",
      "|J        |VVS2       |336      |VERY_GOOD  |0.24     |3.94  |3.96  |2.48  |62.8     |57.0         |\n",
      "|I        |VVS1       |336      |VERY_GOOD  |0.24     |3.95  |3.98  |2.47  |62.3     |57.0         |\n",
      "|H        |SI1        |337      |VERY_GOOD  |0.26     |4.07  |4.11  |2.53  |61.9     |55.0         |\n",
      "|E        |VS2        |337      |FAIR       |0.22     |3.87  |3.78  |2.49  |65.1     |61.0         |\n",
      "|H        |VS1        |338      |VERY_GOOD  |0.23     |4.0   |4.05  |2.39  |59.4     |61.0         |\n",
      "----------------------------------------------------------------------------------------------------\n",
      "\n"
     ]
    }
   ],
   "source": [
    "# see https://github.com/Snowflake-Labs/sfguide-intro-to-machine-learning-with-snowpark-ml-for-python/blob/main/2_snowpark_ml_feature_transformations.ipynb\n",
    "\n",
    "import numpy as np\n",
    "import joblib\n",
    "from snowflake.ml.modeling.pipeline import Pipeline\n",
    "from snowflake.ml.modeling.preprocessing import MinMaxScaler, OrdinalEncoder\n",
    "from snowflake.snowpark import Session\n",
    "from snowflake.ml.utils.connection_params import SnowflakeLoginOptions\n",
    "\n",
    "pars = SnowflakeLoginOptions(\"test_conn\")\n",
    "pars[\"database\"] = \"test\"\n",
    "pars[\"schema\"] = \"diamonds\"\n",
    "session = Session.builder.configs(pars).create()\n",
    "\n",
    "df = session.table('diamonds_clean')\n",
    "df.show()"
   ]
  },
  {
   "cell_type": "code",
   "execution_count": 2,
   "metadata": {},
   "outputs": [
    {
     "name": "stdout",
     "output_type": "stream",
     "text": [
      "-------------------------------------------------------------------------------------------------------------------------------------------------------------------------------------------------------------------------\n",
      "|\"CARAT\"               |\"DEPTH\"              |\"TABLE_PCT\"          |\"X\"                  |\"Y\"                  |\"Z\"                  |\"CUT_OE\"  |\"COLOR_OE\"  |\"CLARITY_OE\"  |\"COLOR\"  |\"CLARITY\"  |\"PRICE\"  |\"CUT\"      |\n",
      "-------------------------------------------------------------------------------------------------------------------------------------------------------------------------------------------------------------------------\n",
      "|0.006237006237006237  |0.5138888888888888   |0.23076923076923073  |0.3677839851024209   |0.06757215619694397  |0.07641509433962265  |0.0       |1.0         |6.0           |E        |SI2        |326      |IDEAL      |\n",
      "|0.002079002079002079  |0.46666666666666656  |0.34615384615384615  |0.36219739292364994  |0.06519524617996604  |0.07264150943396226  |1.0       |1.0         |5.0           |E        |SI1        |326      |PREMIUM    |\n",
      "|0.006237006237006237  |0.38611111111111107  |0.423076923076923    |0.37709497206703907  |0.06910016977928693  |0.07264150943396226  |3.0       |1.0         |3.0           |E        |VS1        |327      |GOOD       |\n",
      "|0.018711018711018705  |0.5388888888888888   |0.28846153846153844  |0.3910614525139665   |0.07181663837011885  |0.08270440251572327  |1.0       |5.0         |4.0           |I        |VS2        |334      |PREMIUM    |\n",
      "|0.02286902286902287   |0.5638888888888887   |0.28846153846153844  |0.404096834264432    |0.07385398981324279  |0.08647798742138364  |3.0       |6.0         |6.0           |J        |SI2        |335      |GOOD       |\n",
      "|0.008316008316008316  |0.5499999999999998   |0.2692307692307693   |0.36685288640595903  |0.06723259762308999  |0.0779874213836478   |2.0       |6.0         |2.0           |J        |VVS2       |336      |VERY_GOOD  |\n",
      "|0.008316008316008316  |0.536111111111111    |0.2692307692307693   |0.3677839851024209   |0.06757215619694397  |0.07767295597484278  |2.0       |5.0         |1.0           |I        |VVS1       |336      |VERY_GOOD  |\n",
      "|0.012474012474012475  |0.5249999999999999   |0.23076923076923073  |0.3789571694599628   |0.06977928692699492  |0.07955974842767295  |2.0       |4.0         |5.0           |H        |SI1        |337      |VERY_GOOD  |\n",
      "|0.004158004158004158  |0.6138888888888887   |0.34615384615384615  |0.36033519553072624  |0.06417657045840407  |0.07830188679245284  |4.0       |1.0         |4.0           |E        |VS2        |337      |FAIR       |\n",
      "|0.006237006237006237  |0.4555555555555555   |0.34615384615384615  |0.37243947858473     |0.06876061120543293  |0.07515723270440251  |2.0       |4.0         |3.0           |H        |VS1        |338      |VERY_GOOD  |\n",
      "-------------------------------------------------------------------------------------------------------------------------------------------------------------------------------------------------------------------------\n",
      "\n"
     ]
    }
   ],
   "source": [
    "cats = {\n",
    "    \"CUT\": np.array([\"IDEAL\", \"PREMIUM\", \"VERY_GOOD\", \"GOOD\", \"FAIR\"]),\n",
    "    \"CLARITY\": np.array([\"IF\", \"VVS1\", \"VVS2\", \"VS1\", \"VS2\", \"SI1\", \"SI2\", \"I1\", \"I2\", \"I3\"]),\n",
    "    \"COLOR\": np.array(['D', 'E', 'F', 'G', 'H', 'I', 'J']) }\n",
    "\n",
    "pipe = Pipeline(steps=[\n",
    "    (\"OE\", OrdinalEncoder(\n",
    "        input_cols=[\"CUT\", \"COLOR\", \"CLARITY\"],\n",
    "        output_cols=[\"CUT_OE\", \"COLOR_OE\", \"CLARITY_OE\"],\n",
    "        categories=cats)),\n",
    "    (\"MMS\", MinMaxScaler(\n",
    "        clip=True,\n",
    "        input_cols=[\"CARAT\", \"DEPTH\", \"TABLE_PCT\", \"X\", \"Y\", \"Z\"],\n",
    "        output_cols=[\"CARAT\", \"DEPTH\", \"TABLE_PCT\", \"X\", \"Y\", \"Z\"]))])\n",
    "df = pipe.fit(df).transform(df)\n",
    "df.show()"
   ]
  },
  {
   "cell_type": "code",
   "execution_count": 3,
   "metadata": {},
   "outputs": [],
   "source": [
    "model = '../../../.spool/diamonds3.joblib'\n",
    "joblib.dump(pipe, model)\n",
    "session.file.put(model, \"@INT_STAGE\", overwrite=True)\n",
    "\n",
    "df.write.mode('overwrite').save_as_table('diamonds_transform_pipeline')"
   ]
  }
 ],
 "metadata": {
  "kernelspec": {
   "display_name": "venv",
   "language": "python",
   "name": "python3"
  },
  "language_info": {
   "codemirror_mode": {
    "name": "ipython",
    "version": 3
   },
   "file_extension": ".py",
   "mimetype": "text/x-python",
   "name": "python",
   "nbconvert_exporter": "python",
   "pygments_lexer": "ipython3",
   "version": "3.9.6"
  }
 },
 "nbformat": 4,
 "nbformat_minor": 2
}
