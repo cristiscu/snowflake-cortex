{
 "cells": [
  {
   "cell_type": "code",
   "execution_count": 1,
   "metadata": {},
   "outputs": [
    {
     "name": "stderr",
     "output_type": "stream",
     "text": [
      "SnowflakeLoginOptions() is in private preview since 0.2.0. Do not use it in production. \n"
     ]
    }
   ],
   "source": [
    "# see https://docs.snowflake.com/en/developer-guide/snowpark-ml/snowpark-ml-modeling#distributed-hyperparameter-optimization\n",
    "\n",
    "# connect to your Snowflake account\n",
    "from snowflake.snowpark import Session\n",
    "from snowflake.ml.utils.connection_params import SnowflakeLoginOptions\n",
    "\n",
    "pars = SnowflakeLoginOptions(\"test_conn\")\n",
    "pars[\"warehouse\"] = \"large\"\n",
    "session = Session.builder.configs(pars).create()\n",
    "session.query_tag = \"classifier-hpo\""
   ]
  },
  {
   "cell_type": "code",
   "execution_count": 2,
   "metadata": {},
   "outputs": [
    {
     "name": "stdout",
     "output_type": "stream",
     "text": [
      "----------------------------------------------------------------------------------------------------------------------------------------------\n",
      "|\"X1\"                 |\"X2\"                  |\"X3\"                 |\"X4\"                  |\"X5\"                 |\"X6\"                  |\"Y\"  |\n",
      "----------------------------------------------------------------------------------------------------------------------------------------------\n",
      "|-1.4243890323508717  |-0.05520220724696402  |-0.9702604834090749  |0.9460507691411167    |-1.6786647910060337  |0.8621464464088906    |1    |\n",
      "|3.9638449599299856   |1.496715391172496     |-1.1731766541464825  |-2.213897324527216    |-2.016722848401358   |0.852839138511081     |0    |\n",
      "|-0.7233404104035888  |-0.8302200800755797   |-0.8603016078760195  |-1.1139846901829347   |1.6108394747169368   |0.7645601354678879    |0    |\n",
      "|-0.7238329090343465  |-0.6040304500869302   |0.987029296766597    |0.4273923686374005    |0.06354824512344817  |-0.07859504911618904  |1    |\n",
      "|2.4051528638089312   |-1.0622108506508334   |-1.1648757888674215  |-0.8978681457315503   |-0.9802579782454848  |-1.2281515774101621   |0    |\n",
      "|-0.7616150750288394  |-1.3157946046057434   |1.7377004976209065   |-1.0666722351632663   |1.4408656033518978   |-1.4208246421692612   |1    |\n",
      "|0.32651374853270876  |-0.44000176283347053  |1.7406859898578162   |0.5604211744401251    |-1.3821311662612177  |1.4251207409928655    |1    |\n",
      "|0.9206985184325224   |0.8915494475639036    |1.002605654496527    |-0.8980569452628536   |-0.472190014024335   |0.12557036329276358   |1    |\n",
      "|0.34625421995670425  |-0.769475524437433    |1.9078644789213444   |-0.7439283836525071   |0.03151951973629071  |0.5703628358159011    |1    |\n",
      "|-1.1964295152849636  |0.2561526784026539    |-2.2430425855412937  |-0.06088544504998483  |-1.18778613033391    |1.1360121012667987    |0    |\n",
      "----------------------------------------------------------------------------------------------------------------------------------------------\n",
      "\n"
     ]
    }
   ],
   "source": [
    "import pandas as pd\n",
    "from sklearn.datasets import make_classification\n",
    "\n",
    "# also try w/ 1M samples: 2m15s on LARGE vs 4m5s on XSMALL\n",
    "X, y = make_classification(n_samples=1000000, n_features=6,\n",
    "    n_informative=2, n_redundant=0, random_state=0, shuffle=True)\n",
    "\n",
    "X = pd.DataFrame(X, columns=[\"X1\", \"X2\", \"X3\", \"X4\", \"X5\", \"X6\"])\n",
    "y = pd.DataFrame(y, columns=[\"Y\"])\n",
    "\n",
    "df = pd.concat([X, y], axis=1)\n",
    "df = session.create_dataframe(df)\n",
    "df.show()"
   ]
  },
  {
   "cell_type": "code",
   "execution_count": 3,
   "metadata": {},
   "outputs": [
    {
     "name": "stderr",
     "output_type": "stream",
     "text": [
      "WARNING:snowflake.snowpark.session:The version of package 'scikit-learn' in the local environment is 1.3.2, which does not fit the criteria for the requirement 'scikit-learn==1.3.0'. Your UDF might not work when the package version is different between the server and your local environment.\n",
      "WARNING:snowflake.snowpark.session:The version of package 'xgboost' in the local environment is 1.7.6, which does not fit the criteria for the requirement 'xgboost==1.7.3'. Your UDF might not work when the package version is different between the server and your local environment.\n",
      "WARNING:snowflake.snowpark.session:The version of package 'snowflake-snowpark-python' in the local environment is 1.14.0, which does not fit the criteria for the requirement 'snowflake-snowpark-python<2'. Your UDF might not work when the package version is different between the server and your local environment.\n",
      "WARNING:snowflake.snowpark.session:Package 'fastparquet' is not installed in the local environment. Your UDF might not work when the package is installed on the server but not on your local environment.\n",
      "WARNING:snowflake.snowpark.session:The version of package 'pyarrow' in the local environment is 15.0.2, which does not fit the criteria for the requirement 'pyarrow<14'. Your UDF might not work when the package version is different between the server and your local environment.\n",
      "WARNING:snowflake.snowpark.session:The version of package 'cachetools' in the local environment is 5.3.3, which does not fit the criteria for the requirement 'cachetools<6'. Your UDF might not work when the package version is different between the server and your local environment.\n"
     ]
    },
    {
     "name": "stdout",
     "output_type": "stream",
     "text": [
      "[06:39:07] WARNING: C:\\buildkite-agent\\builds\\buildkite-windows-cpu-autoscaling-group-i-0fdc6d574b9c0d168-1\\xgboost\\xgboost-ci-windows\\src\\learner.cc:553: \n",
      "  If you are loading a serialized model (like pickle in Python, RDS in R) generated by\n",
      "  older XGBoost, please export the model by calling `Booster.save_model` from that version\n",
      "  first, then load it back in current version. See:\n",
      "\n",
      "    https://xgboost.readthedocs.io/en/latest/tutorials/saving_model.html\n",
      "\n",
      "  for more details about differences between saving model and serializing.\n",
      "\n"
     ]
    },
    {
     "name": "stderr",
     "output_type": "stream",
     "text": [
      "c:\\Projects\\snowflake-cortex\\venv\\lib\\site-packages\\sklearn\\base.py:348: InconsistentVersionWarning: Trying to unpickle estimator GridSearchCV from version 1.3.0 when using version 1.3.2. This might lead to breaking code or invalid results. Use at your own risk. For more info please refer to:\n",
      "https://scikit-learn.org/stable/model_persistence.html#security-maintainability-limitations\n",
      "  warnings.warn(\n"
     ]
    },
    {
     "data": {
      "text/plain": [
       "<snowflake.ml.modeling.model_selection.grid_search_cv.GridSearchCV at 0x1feb8bf0430>"
      ]
     },
     "execution_count": 3,
     "metadata": {},
     "output_type": "execute_result"
    }
   ],
   "source": [
    "from snowflake.ml.modeling.model_selection.grid_search_cv import GridSearchCV\n",
    "from snowflake.ml.modeling.xgboost import XGBClassifier\n",
    "\n",
    "model = GridSearchCV(\n",
    "    estimator=XGBClassifier(),\n",
    "    param_grid=dict(\n",
    "        n_estimators=[10, 50],\n",
    "        learning_rate=[0.01, 0.1, 0.2]),\n",
    "    cv=5,\n",
    "    n_jobs=-1,\n",
    "    verbose=4,\n",
    "    input_cols=[\"X1\", \"X2\", \"X3\", \"X4\", \"X5\", \"X6\"], \n",
    "    label_cols=[\"Y\"],\n",
    "    output_cols=[\"PREDICTIONS\"])\n",
    "model.fit(df)"
   ]
  },
  {
   "cell_type": "code",
   "execution_count": 4,
   "metadata": {},
   "outputs": [
    {
     "name": "stderr",
     "output_type": "stream",
     "text": [
      "WARNING:snowflake.snowpark.session:The version of package 'scikit-learn' in the local environment is 1.3.2, which does not fit the criteria for the requirement 'scikit-learn==1.3.0'. Your UDF might not work when the package version is different between the server and your local environment.\n",
      "WARNING:snowflake.snowpark.session:The version of package 'xgboost' in the local environment is 1.7.6, which does not fit the criteria for the requirement 'xgboost==1.7.3'. Your UDF might not work when the package version is different between the server and your local environment.\n"
     ]
    },
    {
     "name": "stdout",
     "output_type": "stream",
     "text": [
      "-----------------\n",
      "|\"PREDICTIONS\"  |\n",
      "-----------------\n",
      "|0.0            |\n",
      "|0.0            |\n",
      "|0.0            |\n",
      "|1.0            |\n",
      "|0.0            |\n",
      "|1.0            |\n",
      "|1.0            |\n",
      "|1.0            |\n",
      "|1.0            |\n",
      "|0.0            |\n",
      "-----------------\n",
      "\n"
     ]
    }
   ],
   "source": [
    "preds = model.predict(df)\n",
    "preds[[\"PREDICTIONS\"]].show()"
   ]
  },
  {
   "cell_type": "code",
   "execution_count": 5,
   "metadata": {},
   "outputs": [
    {
     "name": "stdout",
     "output_type": "stream",
     "text": [
      "0.9282779999999999\n"
     ]
    }
   ],
   "source": [
    "skl = model.to_sklearn()\n",
    "print(skl.best_score_)"
   ]
  }
 ],
 "metadata": {
  "kernelspec": {
   "display_name": "venv",
   "language": "python",
   "name": "python3"
  },
  "language_info": {
   "codemirror_mode": {
    "name": "ipython",
    "version": 3
   },
   "file_extension": ".py",
   "mimetype": "text/x-python",
   "name": "python",
   "nbconvert_exporter": "python",
   "pygments_lexer": "ipython3",
   "version": "3.9.6"
  }
 },
 "nbformat": 4,
 "nbformat_minor": 2
}
