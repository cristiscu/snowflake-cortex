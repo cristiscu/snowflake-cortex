{
 "cells": [
  {
   "cell_type": "markdown",
   "metadata": {},
   "source": [
    "Connect to Snowflake"
   ]
  },
  {
   "cell_type": "code",
   "execution_count": 1,
   "metadata": {},
   "outputs": [
    {
     "name": "stderr",
     "output_type": "stream",
     "text": [
      "SnowflakeLoginOptions() is in private preview since 0.2.0. Do not use it in production. \n"
     ]
    }
   ],
   "source": [
    "from snowflake.snowpark import Session\n",
    "from snowflake.ml.utils.connection_params import SnowflakeLoginOptions\n",
    "\n",
    "session = Session.builder.configs(SnowflakeLoginOptions(\"test_conn\")).create()\n",
    "session.query_tag = \"model-registry-1\""
   ]
  },
  {
   "cell_type": "markdown",
   "metadata": {},
   "source": [
    "Load cleaned-up diamonds table"
   ]
  },
  {
   "cell_type": "code",
   "execution_count": 2,
   "metadata": {},
   "outputs": [
    {
     "name": "stdout",
     "output_type": "stream",
     "text": [
      "-------------------------------------------------------------------------------------------------------------------------------------------------------------------------------------------------------------------------\n",
      "|\"CARAT\"               |\"DEPTH\"              |\"TABLE_PCT\"          |\"X\"                  |\"Y\"                  |\"Z\"                  |\"CUT_OE\"  |\"COLOR_OE\"  |\"CLARITY_OE\"  |\"COLOR\"  |\"CLARITY\"  |\"PRICE\"  |\"CUT\"      |\n",
      "-------------------------------------------------------------------------------------------------------------------------------------------------------------------------------------------------------------------------\n",
      "|0.006237006237006237  |0.5138888888888888   |0.23076923076923073  |0.3677839851024209   |0.06757215619694397  |0.07641509433962265  |0.0       |1.0         |6.0           |E        |SI2        |326      |IDEAL      |\n",
      "|0.002079002079002079  |0.46666666666666656  |0.34615384615384615  |0.36219739292364994  |0.06519524617996604  |0.07264150943396226  |1.0       |1.0         |5.0           |E        |SI1        |326      |PREMIUM    |\n",
      "|0.006237006237006237  |0.38611111111111107  |0.423076923076923    |0.37709497206703907  |0.06910016977928693  |0.07264150943396226  |3.0       |1.0         |3.0           |E        |VS1        |327      |GOOD       |\n",
      "|0.018711018711018705  |0.5388888888888888   |0.28846153846153844  |0.3910614525139665   |0.07181663837011885  |0.08270440251572327  |1.0       |5.0         |4.0           |I        |VS2        |334      |PREMIUM    |\n",
      "|0.02286902286902287   |0.5638888888888887   |0.28846153846153844  |0.404096834264432    |0.07385398981324279  |0.08647798742138364  |3.0       |6.0         |6.0           |J        |SI2        |335      |GOOD       |\n",
      "|0.008316008316008316  |0.5499999999999998   |0.2692307692307693   |0.36685288640595903  |0.06723259762308999  |0.0779874213836478   |2.0       |6.0         |2.0           |J        |VVS2       |336      |VERY_GOOD  |\n",
      "|0.008316008316008316  |0.536111111111111    |0.2692307692307693   |0.3677839851024209   |0.06757215619694397  |0.07767295597484278  |2.0       |5.0         |1.0           |I        |VVS1       |336      |VERY_GOOD  |\n",
      "|0.012474012474012475  |0.5249999999999999   |0.23076923076923073  |0.3789571694599628   |0.06977928692699492  |0.07955974842767295  |2.0       |4.0         |5.0           |H        |SI1        |337      |VERY_GOOD  |\n",
      "|0.004158004158004158  |0.6138888888888887   |0.34615384615384615  |0.36033519553072624  |0.06417657045840407  |0.07830188679245284  |4.0       |1.0         |4.0           |E        |VS2        |337      |FAIR       |\n",
      "|0.006237006237006237  |0.4555555555555555   |0.34615384615384615  |0.37243947858473     |0.06876061120543293  |0.07515723270440251  |2.0       |4.0         |3.0           |H        |VS1        |338      |VERY_GOOD  |\n",
      "-------------------------------------------------------------------------------------------------------------------------------------------------------------------------------------------------------------------------\n",
      "\n"
     ]
    }
   ],
   "source": [
    "df = session.table(\"test.diamonds.diamonds_transform_pipeline\")\n",
    "train_df, test_df = df.random_split(weights=[0.9, 0.1], seed=0)\n",
    "train_df.show()"
   ]
  },
  {
   "cell_type": "markdown",
   "metadata": {},
   "source": [
    "Train an XGB regressor and predict diamond prices"
   ]
  },
  {
   "cell_type": "code",
   "execution_count": 3,
   "metadata": {},
   "outputs": [
    {
     "name": "stderr",
     "output_type": "stream",
     "text": [
      "WARNING:snowflake.snowpark.session:The version of package 'scikit-learn' in the local environment is 1.3.2, which does not fit the criteria for the requirement 'scikit-learn==1.3.0'. Your UDF might not work when the package version is different between the server and your local environment.\n",
      "WARNING:snowflake.snowpark.session:The version of package 'xgboost' in the local environment is 1.7.6, which does not fit the criteria for the requirement 'xgboost==1.7.3'. Your UDF might not work when the package version is different between the server and your local environment.\n",
      "c:\\Projects\\snowflake-cortex\\venv\\lib\\site-packages\\sklearn\\base.py:348: InconsistentVersionWarning: Trying to unpickle estimator DecisionTreeRegressor from version 1.3.0 when using version 1.3.2. This might lead to breaking code or invalid results. Use at your own risk. For more info please refer to:\n",
      "https://scikit-learn.org/stable/model_persistence.html#security-maintainability-limitations\n",
      "  warnings.warn(\n",
      "c:\\Projects\\snowflake-cortex\\venv\\lib\\site-packages\\sklearn\\base.py:348: InconsistentVersionWarning: Trying to unpickle estimator RandomForestRegressor from version 1.3.0 when using version 1.3.2. This might lead to breaking code or invalid results. Use at your own risk. For more info please refer to:\n",
      "https://scikit-learn.org/stable/model_persistence.html#security-maintainability-limitations\n",
      "  warnings.warn(\n",
      "WARNING:snowflake.snowpark.session:The version of package 'scikit-learn' in the local environment is 1.3.2, which does not fit the criteria for the requirement 'scikit-learn==1.3.0'. Your UDF might not work when the package version is different between the server and your local environment.\n"
     ]
    },
    {
     "name": "stdout",
     "output_type": "stream",
     "text": [
      "-------------------------------\n",
      "|\"PRICE\"  |\"PREDICTED_PRICE\"  |\n",
      "-------------------------------\n",
      "|351      |382.13             |\n",
      "|353      |396.04             |\n",
      "|355      |408.96             |\n",
      "|357      |390.98             |\n",
      "|554      |551.38             |\n",
      "|554      |537.03             |\n",
      "|2757     |2745.75            |\n",
      "|2759     |2980.49            |\n",
      "|2759     |2841.06            |\n",
      "|2762     |2969.94            |\n",
      "-------------------------------\n",
      "\n"
     ]
    }
   ],
   "source": [
    "from snowflake.ml.modeling.ensemble import RandomForestRegressor\n",
    "\n",
    "model = RandomForestRegressor(\n",
    "    input_cols=[\"CUT_OE\", \"COLOR_OE\", \"CLARITY_OE\", \"CARAT\", \"DEPTH\", \"TABLE_PCT\", \"X\", \"Y\", \"Z\"],\n",
    "    label_cols=['PRICE'],\n",
    "    output_cols=['PREDICTED_PRICE'])\n",
    "model.fit(train_df)\n",
    "\n",
    "pred = model.predict(test_df)\n",
    "pred.select(\"PRICE\", \"PREDICTED_PRICE\").show()"
   ]
  },
  {
   "cell_type": "markdown",
   "metadata": {},
   "source": [
    "Register model"
   ]
  },
  {
   "cell_type": "code",
   "execution_count": 5,
   "metadata": {},
   "outputs": [
    {
     "name": "stderr",
     "output_type": "stream",
     "text": [
      "C:\\Users\\crist\\AppData\\Local\\Programs\\Python\\Python39\\lib\\contextlib.py:117: UserWarning: `relax_version` is not set and therefore defaulted to True. Dependency version constraints relaxed from ==x.y.z to >=x.y, <(x+1). To use specific dependency versions for compatibility, reproducibility, etc., set `options={'relax_version': False}` when logging the model.\n",
      "  return next(self.gen)\n"
     ]
    }
   ],
   "source": [
    "from snowflake.ml.registry import Registry\n",
    "\n",
    "registry = Registry(session=session)    # database_name=\"TEST\", schema_name=\"PUBLIC\"\n",
    "\n",
    "# CREATE MODEL TEST.PUBLIC.RANDOMFORESTREGRESSOR WITH VERSION V1\n",
    "# FROM @TEST.PUBLIC.SNOWPARK_TEMP_STAGE_.../model\n",
    "model_ref = registry.log_model(\n",
    "    model,\n",
    "    model_name=\"RandomForestRegressor\",\n",
    "    version_name=\"v2\",\n",
    "    conda_dependencies=[\"scikit-learn\"])"
   ]
  },
  {
   "cell_type": "code",
   "execution_count": 7,
   "metadata": {},
   "outputs": [
    {
     "data": {
      "text/html": [
       "<div>\n",
       "<style scoped>\n",
       "    .dataframe tbody tr th:only-of-type {\n",
       "        vertical-align: middle;\n",
       "    }\n",
       "\n",
       "    .dataframe tbody tr th {\n",
       "        vertical-align: top;\n",
       "    }\n",
       "\n",
       "    .dataframe thead th {\n",
       "        text-align: right;\n",
       "    }\n",
       "</style>\n",
       "<table border=\"1\" class=\"dataframe\">\n",
       "  <thead>\n",
       "    <tr style=\"text-align: right;\">\n",
       "      <th></th>\n",
       "      <th>created_on</th>\n",
       "      <th>name</th>\n",
       "      <th>database_name</th>\n",
       "      <th>schema_name</th>\n",
       "      <th>comment</th>\n",
       "      <th>owner</th>\n",
       "      <th>default_version_name</th>\n",
       "      <th>versions</th>\n",
       "    </tr>\n",
       "  </thead>\n",
       "  <tbody>\n",
       "    <tr>\n",
       "      <th>0</th>\n",
       "      <td>2024-04-30 07:52:14.437000-07:00</td>\n",
       "      <td>RANDOMFORESTREGRESSOR</td>\n",
       "      <td>TEST</td>\n",
       "      <td>PUBLIC</td>\n",
       "      <td>new comment</td>\n",
       "      <td>ACCOUNTADMIN</td>\n",
       "      <td>V1</td>\n",
       "      <td>[\"V1\",\"V2\"]</td>\n",
       "    </tr>\n",
       "  </tbody>\n",
       "</table>\n",
       "</div>"
      ],
      "text/plain": [
       "                        created_on                   name database_name  \\\n",
       "0 2024-04-30 07:52:14.437000-07:00  RANDOMFORESTREGRESSOR          TEST   \n",
       "\n",
       "  schema_name      comment         owner default_version_name     versions  \n",
       "0      PUBLIC  new comment  ACCOUNTADMIN                   V1  [\"V1\",\"V2\"]  "
      ]
     },
     "execution_count": 7,
     "metadata": {},
     "output_type": "execute_result"
    }
   ],
   "source": [
    "registry.show_models()"
   ]
  }
 ],
 "metadata": {
  "kernelspec": {
   "display_name": "venv",
   "language": "python",
   "name": "python3"
  },
  "language_info": {
   "codemirror_mode": {
    "name": "ipython",
    "version": 3
   },
   "file_extension": ".py",
   "mimetype": "text/x-python",
   "name": "python",
   "nbconvert_exporter": "python",
   "pygments_lexer": "ipython3",
   "version": "3.9.6"
  }
 },
 "nbformat": 4,
 "nbformat_minor": 2
}
