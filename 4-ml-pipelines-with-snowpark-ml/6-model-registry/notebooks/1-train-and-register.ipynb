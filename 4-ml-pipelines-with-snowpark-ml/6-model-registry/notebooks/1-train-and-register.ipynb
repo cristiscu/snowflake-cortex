{
 "cells": [
  {
   "cell_type": "markdown",
   "metadata": {},
   "source": [
    "Connect to Snowflake"
   ]
  },
  {
   "cell_type": "code",
   "execution_count": null,
   "metadata": {},
   "outputs": [],
   "source": [
    "from snowflake.snowpark import Session\n",
    "from snowflake.ml.utils.connection_params import SnowflakeLoginOptions\n",
    "\n",
    "session = Session.builder.configs(SnowflakeLoginOptions(\"test_conn\")).create()\n",
    "session.query_tag = \"model-registry-1\""
   ]
  },
  {
   "cell_type": "markdown",
   "metadata": {},
   "source": [
    "Load cleaned-up diamonds table"
   ]
  },
  {
   "cell_type": "code",
   "execution_count": null,
   "metadata": {},
   "outputs": [],
   "source": [
    "df = session.table(\"test.diamonds.diamonds_transform_pipeline\")\n",
    "train_df, test_df = df.random_split(weights=[0.9, 0.1], seed=0)\n",
    "train_df.show()"
   ]
  },
  {
   "cell_type": "markdown",
   "metadata": {},
   "source": [
    "Train an XGB regressor and predict diamond prices"
   ]
  },
  {
   "cell_type": "code",
   "execution_count": null,
   "metadata": {},
   "outputs": [],
   "source": [
    "from snowflake.ml.modeling.ensemble import RandomForestRegressor\n",
    "\n",
    "model = RandomForestRegressor(\n",
    "    input_cols=[\"CUT_OE\", \"COLOR_OE\", \"CLARITY_OE\", \"CARAT\", \"DEPTH\", \"TABLE_PCT\", \"X\", \"Y\", \"Z\"],\n",
    "    label_cols=['PRICE'],\n",
    "    output_cols=['PREDICTED_PRICE'])\n",
    "model.fit(train_df)\n",
    "\n",
    "pred = model.predict(test_df)\n",
    "pred.select(\"PRICE\", \"PREDICTED_PRICE\").show()"
   ]
  },
  {
   "cell_type": "markdown",
   "metadata": {},
   "source": [
    "Register model"
   ]
  },
  {
   "cell_type": "code",
   "execution_count": null,
   "metadata": {},
   "outputs": [],
   "source": [
    "from snowflake.ml.registry import Registry\n",
    "\n",
    "registry = Registry(session=session)    # database_name=\"TEST\", schema_name=\"PUBLIC\"\n",
    "\n",
    "# CREATE MODEL TEST.PUBLIC.RANDOMFORESTREGRESSOR WITH VERSION V1\n",
    "# FROM @TEST.PUBLIC.SNOWPARK_TEMP_STAGE_.../model\n",
    "model_ref = registry.log_model(\n",
    "    model,\n",
    "    model_name=\"RandomForestRegressor\",\n",
    "    version_name=\"v1\",\n",
    "    conda_dependencies=[\"scikit-learn\"])"
   ]
  }
 ],
 "metadata": {
  "kernelspec": {
   "display_name": "venv",
   "language": "python",
   "name": "python3"
  },
  "language_info": {
   "codemirror_mode": {
    "name": "ipython",
    "version": 3
   },
   "file_extension": ".py",
   "mimetype": "text/x-python",
   "name": "python",
   "nbconvert_exporter": "python",
   "pygments_lexer": "ipython3",
   "version": "3.9.6"
  }
 },
 "nbformat": 4,
 "nbformat_minor": 2
}
