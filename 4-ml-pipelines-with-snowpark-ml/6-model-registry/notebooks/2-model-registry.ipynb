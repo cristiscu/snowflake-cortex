{
 "cells": [
  {
   "cell_type": "markdown",
   "metadata": {},
   "source": [
    "Connect to Snowflake and show all models in current registry"
   ]
  },
  {
   "cell_type": "code",
   "execution_count": 1,
   "metadata": {},
   "outputs": [
    {
     "name": "stderr",
     "output_type": "stream",
     "text": [
      "SnowflakeLoginOptions() is in private preview since 0.2.0. Do not use it in production. \n"
     ]
    },
    {
     "data": {
      "text/html": [
       "<div>\n",
       "<style scoped>\n",
       "    .dataframe tbody tr th:only-of-type {\n",
       "        vertical-align: middle;\n",
       "    }\n",
       "\n",
       "    .dataframe tbody tr th {\n",
       "        vertical-align: top;\n",
       "    }\n",
       "\n",
       "    .dataframe thead th {\n",
       "        text-align: right;\n",
       "    }\n",
       "</style>\n",
       "<table border=\"1\" class=\"dataframe\">\n",
       "  <thead>\n",
       "    <tr style=\"text-align: right;\">\n",
       "      <th></th>\n",
       "      <th>created_on</th>\n",
       "      <th>name</th>\n",
       "      <th>database_name</th>\n",
       "      <th>schema_name</th>\n",
       "      <th>comment</th>\n",
       "      <th>owner</th>\n",
       "      <th>default_version_name</th>\n",
       "      <th>versions</th>\n",
       "    </tr>\n",
       "  </thead>\n",
       "  <tbody>\n",
       "    <tr>\n",
       "      <th>0</th>\n",
       "      <td>2024-04-30 10:45:27.831000-07:00</td>\n",
       "      <td>RANDOMFORESTCLASSIFIER</td>\n",
       "      <td>TEST</td>\n",
       "      <td>PUBLIC</td>\n",
       "      <td>None</td>\n",
       "      <td>ACCOUNTADMIN</td>\n",
       "      <td>V1</td>\n",
       "      <td>[\"V1\"]</td>\n",
       "    </tr>\n",
       "    <tr>\n",
       "      <th>1</th>\n",
       "      <td>2024-04-30 07:52:14.437000-07:00</td>\n",
       "      <td>RANDOMFORESTREGRESSOR</td>\n",
       "      <td>TEST</td>\n",
       "      <td>PUBLIC</td>\n",
       "      <td>new comment</td>\n",
       "      <td>ACCOUNTADMIN</td>\n",
       "      <td>V1</td>\n",
       "      <td>[\"V1\",\"V2\"]</td>\n",
       "    </tr>\n",
       "    <tr>\n",
       "      <th>2</th>\n",
       "      <td>2024-04-30 10:23:54.568000-07:00</td>\n",
       "      <td>XGBCLASSIFIER</td>\n",
       "      <td>TEST</td>\n",
       "      <td>PUBLIC</td>\n",
       "      <td>None</td>\n",
       "      <td>ACCOUNTADMIN</td>\n",
       "      <td>V1</td>\n",
       "      <td>[\"V1\",\"V2\",\"V3\"]</td>\n",
       "    </tr>\n",
       "    <tr>\n",
       "      <th>3</th>\n",
       "      <td>2024-04-30 10:47:42.566000-07:00</td>\n",
       "      <td>XGBOOSTER</td>\n",
       "      <td>TEST</td>\n",
       "      <td>PUBLIC</td>\n",
       "      <td>None</td>\n",
       "      <td>ACCOUNTADMIN</td>\n",
       "      <td>V1</td>\n",
       "      <td>[\"V1\"]</td>\n",
       "    </tr>\n",
       "  </tbody>\n",
       "</table>\n",
       "</div>"
      ],
      "text/plain": [
       "                        created_on                    name database_name  \\\n",
       "0 2024-04-30 10:45:27.831000-07:00  RANDOMFORESTCLASSIFIER          TEST   \n",
       "1 2024-04-30 07:52:14.437000-07:00   RANDOMFORESTREGRESSOR          TEST   \n",
       "2 2024-04-30 10:23:54.568000-07:00           XGBCLASSIFIER          TEST   \n",
       "3 2024-04-30 10:47:42.566000-07:00               XGBOOSTER          TEST   \n",
       "\n",
       "  schema_name      comment         owner default_version_name  \\\n",
       "0      PUBLIC         None  ACCOUNTADMIN                   V1   \n",
       "1      PUBLIC  new comment  ACCOUNTADMIN                   V1   \n",
       "2      PUBLIC         None  ACCOUNTADMIN                   V1   \n",
       "3      PUBLIC         None  ACCOUNTADMIN                   V1   \n",
       "\n",
       "           versions  \n",
       "0            [\"V1\"]  \n",
       "1       [\"V1\",\"V2\"]  \n",
       "2  [\"V1\",\"V2\",\"V3\"]  \n",
       "3            [\"V1\"]  "
      ]
     },
     "execution_count": 1,
     "metadata": {},
     "output_type": "execute_result"
    }
   ],
   "source": [
    "from snowflake.snowpark import Session\n",
    "from snowflake.ml.utils.connection_params import SnowflakeLoginOptions\n",
    "from snowflake.ml.registry import Registry\n",
    "\n",
    "session = Session.builder.configs(SnowflakeLoginOptions(\"test_conn\")).create()\n",
    "session.query_tag = \"model-registry-2\"\n",
    "\n",
    "registry = Registry(session=session)\n",
    "registry.show_models()"
   ]
  },
  {
   "cell_type": "markdown",
   "metadata": {},
   "source": [
    "Show info on our registered model"
   ]
  },
  {
   "cell_type": "code",
   "execution_count": 2,
   "metadata": {},
   "outputs": [
    {
     "name": "stdout",
     "output_type": "stream",
     "text": [
      "Name: RANDOMFORESTREGRESSOR\n",
      "Fully Qualified Name: TEST.PUBLIC.RANDOMFORESTREGRESSOR\n",
      "Description: new comment\n",
      "Comment: new comment\n",
      "Tags:\n",
      "Versions:\n"
     ]
    },
    {
     "data": {
      "text/html": [
       "<div>\n",
       "<style scoped>\n",
       "    .dataframe tbody tr th:only-of-type {\n",
       "        vertical-align: middle;\n",
       "    }\n",
       "\n",
       "    .dataframe tbody tr th {\n",
       "        vertical-align: top;\n",
       "    }\n",
       "\n",
       "    .dataframe thead th {\n",
       "        text-align: right;\n",
       "    }\n",
       "</style>\n",
       "<table border=\"1\" class=\"dataframe\">\n",
       "  <thead>\n",
       "    <tr style=\"text-align: right;\">\n",
       "      <th></th>\n",
       "      <th>created_on</th>\n",
       "      <th>name</th>\n",
       "      <th>comment</th>\n",
       "      <th>database_name</th>\n",
       "      <th>schema_name</th>\n",
       "      <th>module_name</th>\n",
       "      <th>is_default_version</th>\n",
       "      <th>functions</th>\n",
       "      <th>metadata</th>\n",
       "      <th>user_data</th>\n",
       "    </tr>\n",
       "  </thead>\n",
       "  <tbody>\n",
       "    <tr>\n",
       "      <th>0</th>\n",
       "      <td>2024-04-30 07:52:14.466000-07:00</td>\n",
       "      <td>V1</td>\n",
       "      <td>This is a version description</td>\n",
       "      <td>TEST</td>\n",
       "      <td>PUBLIC</td>\n",
       "      <td>RANDOMFORESTREGRESSOR</td>\n",
       "      <td>true</td>\n",
       "      <td>[\"PREDICT\"]</td>\n",
       "      <td>{\"metrics\": {\"MAPE\": 0.062081369662292454}, \"s...</td>\n",
       "      <td>{\"snowpark_ml_data\":{\"functions\":[{\"name\":\"PRE...</td>\n",
       "    </tr>\n",
       "    <tr>\n",
       "      <th>1</th>\n",
       "      <td>2024-04-30 10:18:57.563000-07:00</td>\n",
       "      <td>V2</td>\n",
       "      <td>None</td>\n",
       "      <td>TEST</td>\n",
       "      <td>PUBLIC</td>\n",
       "      <td>RANDOMFORESTREGRESSOR</td>\n",
       "      <td>false</td>\n",
       "      <td>[\"PREDICT\"]</td>\n",
       "      <td>{}</td>\n",
       "      <td>{\"snowpark_ml_data\":{\"functions\":[{\"name\":\"PRE...</td>\n",
       "    </tr>\n",
       "  </tbody>\n",
       "</table>\n",
       "</div>"
      ],
      "text/plain": [
       "                        created_on name                        comment  \\\n",
       "0 2024-04-30 07:52:14.466000-07:00   V1  This is a version description   \n",
       "1 2024-04-30 10:18:57.563000-07:00   V2                           None   \n",
       "\n",
       "  database_name schema_name            module_name is_default_version  \\\n",
       "0          TEST      PUBLIC  RANDOMFORESTREGRESSOR               true   \n",
       "1          TEST      PUBLIC  RANDOMFORESTREGRESSOR              false   \n",
       "\n",
       "     functions                                           metadata  \\\n",
       "0  [\"PREDICT\"]  {\"metrics\": {\"MAPE\": 0.062081369662292454}, \"s...   \n",
       "1  [\"PREDICT\"]                                                 {}   \n",
       "\n",
       "                                           user_data  \n",
       "0  {\"snowpark_ml_data\":{\"functions\":[{\"name\":\"PRE...  \n",
       "1  {\"snowpark_ml_data\":{\"functions\":[{\"name\":\"PRE...  "
      ]
     },
     "execution_count": 2,
     "metadata": {},
     "output_type": "execute_result"
    }
   ],
   "source": [
    "model = registry.get_model(\"RandomForestRegressor\")\n",
    "# registry.delete_model(\"RandomForestRegressor\")\n",
    "\n",
    "print(\"Name:\", model.name)\n",
    "print(\"Fully Qualified Name:\", model.fully_qualified_name)\n",
    "print(\"Description:\", model.description)\n",
    "print(\"Comment:\", model.comment)\n",
    "\n",
    "print(\"Tags:\"); model.show_tags()\n",
    "print(\"Versions:\"); model.show_versions()"
   ]
  },
  {
   "cell_type": "markdown",
   "metadata": {},
   "source": [
    "Change metadata on the registered model"
   ]
  },
  {
   "cell_type": "code",
   "execution_count": 3,
   "metadata": {},
   "outputs": [
    {
     "name": "stdout",
     "output_type": "stream",
     "text": [
      "Comment: This is a model comment\n",
      "Description: This is a model description\n"
     ]
    }
   ],
   "source": [
    "model.comment = \"This is a model comment\"\n",
    "print(\"Comment:\", model.comment)\n",
    "model.description = \"This is a model description\"\n",
    "print(\"Description:\", model.description)"
   ]
  },
  {
   "cell_type": "markdown",
   "metadata": {},
   "source": [
    "Show model version"
   ]
  },
  {
   "cell_type": "code",
   "execution_count": 4,
   "metadata": {},
   "outputs": [
    {
     "name": "stdout",
     "output_type": "stream",
     "text": [
      "Name: V1\n",
      "Model: RANDOMFORESTREGRESSOR\n",
      "Fully Qualified Model Name: TEST.PUBLIC.RANDOMFORESTREGRESSOR\n",
      "Description: This is a version description\n",
      "Comment: This is a version description\n"
     ]
    }
   ],
   "source": [
    "mv = model.version(\"V1\")\n",
    "# model.default = \"V2\"\n",
    "# model.delete_version(\"V1\")\n",
    "\n",
    "print(\"Name:\", mv.version_name)\n",
    "print(\"Model:\", mv.model_name)\n",
    "print(\"Fully Qualified Model Name:\", mv.fully_qualified_model_name)\n",
    "print(\"Description:\", mv.description)\n",
    "print(\"Comment:\", mv.comment)"
   ]
  },
  {
   "cell_type": "markdown",
   "metadata": {},
   "source": [
    "Change metadata on the model version"
   ]
  },
  {
   "cell_type": "code",
   "execution_count": 5,
   "metadata": {},
   "outputs": [
    {
     "name": "stdout",
     "output_type": "stream",
     "text": [
      "Comment: This is a version comment\n",
      "Description: This is a version description\n"
     ]
    }
   ],
   "source": [
    "mv.comment = \"This is a version comment\"\n",
    "print(\"Comment:\", mv.comment)\n",
    "mv.description = \"This is a version description\"\n",
    "print(\"Description:\", mv.description)"
   ]
  }
 ],
 "metadata": {
  "kernelspec": {
   "display_name": "venv",
   "language": "python",
   "name": "python3"
  },
  "language_info": {
   "codemirror_mode": {
    "name": "ipython",
    "version": 3
   },
   "file_extension": ".py",
   "mimetype": "text/x-python",
   "name": "python",
   "nbconvert_exporter": "python",
   "pygments_lexer": "ipython3",
   "version": "3.9.6"
  }
 },
 "nbformat": 4,
 "nbformat_minor": 2
}
