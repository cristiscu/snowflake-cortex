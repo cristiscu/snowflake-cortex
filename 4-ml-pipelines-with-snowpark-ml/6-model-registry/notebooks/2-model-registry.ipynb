{
 "cells": [
  {
   "cell_type": "markdown",
   "metadata": {},
   "source": [
    "Connect to Snowflake and show all models in current registry"
   ]
  },
  {
   "cell_type": "code",
   "execution_count": null,
   "metadata": {},
   "outputs": [],
   "source": [
    "from snowflake.snowpark import Session\n",
    "from snowflake.ml.utils.connection_params import SnowflakeLoginOptions\n",
    "from snowflake.ml.registry import Registry\n",
    "\n",
    "session = Session.builder.configs(SnowflakeLoginOptions(\"test_conn\")).create()\n",
    "session.query_tag = \"model-registry-2\"\n",
    "\n",
    "registry = Registry(session=session)\n",
    "registry.show_models()"
   ]
  },
  {
   "cell_type": "markdown",
   "metadata": {},
   "source": [
    "Show info on our registered model"
   ]
  },
  {
   "cell_type": "code",
   "execution_count": null,
   "metadata": {},
   "outputs": [],
   "source": [
    "model = registry.get_model(\"RandomForestRegressor\")\n",
    "# registry.delete_model(\"RandomForestRegressor\")\n",
    "\n",
    "print(\"Name:\", model.name)\n",
    "print(\"Fully Qualified Name:\", model.fully_qualified_name)\n",
    "print(\"Description:\", model.description)\n",
    "print(\"Comment:\", model.comment)\n",
    "\n",
    "print(\"Tags:\"); model.show_tags()\n",
    "print(\"Versions:\"); model.show_versions()"
   ]
  },
  {
   "cell_type": "markdown",
   "metadata": {},
   "source": [
    "Change metadata on the registered model"
   ]
  },
  {
   "cell_type": "code",
   "execution_count": null,
   "metadata": {},
   "outputs": [],
   "source": [
    "model.comment = \"This is a model comment\"\n",
    "print(\"Comment:\", model.comment)\n",
    "model.description = \"This is a model description\"\n",
    "print(\"Description:\", model.description)"
   ]
  },
  {
   "cell_type": "markdown",
   "metadata": {},
   "source": [
    "Show model version"
   ]
  },
  {
   "cell_type": "code",
   "execution_count": null,
   "metadata": {},
   "outputs": [],
   "source": [
    "mv = model.version(\"V1\")\n",
    "# model.default = \"V2\"\n",
    "# model.delete_version(\"V1\")\n",
    "\n",
    "print(\"Name:\", mv.version_name)\n",
    "print(\"Model:\", mv.model_name)\n",
    "print(\"Fully Qualified Model Name:\", mv.fully_qualified_model_name)\n",
    "print(\"Description:\", mv.description)\n",
    "print(\"Comment:\", mv.comment)"
   ]
  },
  {
   "cell_type": "markdown",
   "metadata": {},
   "source": [
    "Change metadata on the model version"
   ]
  },
  {
   "cell_type": "code",
   "execution_count": null,
   "metadata": {},
   "outputs": [],
   "source": [
    "mv.comment = \"This is a version comment\"\n",
    "print(\"Comment:\", mv.comment)\n",
    "mv.description = \"This is a version description\"\n",
    "print(\"Description:\", mv.description)"
   ]
  }
 ],
 "metadata": {
  "kernelspec": {
   "display_name": "venv",
   "language": "python",
   "name": "python3"
  },
  "language_info": {
   "codemirror_mode": {
    "name": "ipython",
    "version": 3
   },
   "file_extension": ".py",
   "mimetype": "text/x-python",
   "name": "python",
   "nbconvert_exporter": "python",
   "pygments_lexer": "ipython3",
   "version": "3.9.6"
  }
 },
 "nbformat": 4,
 "nbformat_minor": 2
}
