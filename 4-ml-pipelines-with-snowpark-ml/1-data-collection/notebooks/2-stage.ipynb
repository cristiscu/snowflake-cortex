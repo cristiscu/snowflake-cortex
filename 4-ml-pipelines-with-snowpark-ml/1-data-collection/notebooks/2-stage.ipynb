{
 "cells": [
  {
   "cell_type": "markdown",
   "metadata": {},
   "source": [
    "Connect to Snowflake and create a file system"
   ]
  },
  {
   "cell_type": "code",
   "execution_count": 6,
   "metadata": {},
   "outputs": [],
   "source": [
    "from snowflake.ml.utils.connection_params import SnowflakeLoginOptions\n",
    "from snowflake.snowpark import Session\n",
    "session = Session.builder.configs(SnowflakeLoginOptions(\"test_conn\")).create()\n",
    "\n",
    "# server-side encrypted stage!\n",
    "STAGE = \"@TEST.PUBLIC.ENC_STAGE\""
   ]
  },
  {
   "cell_type": "markdown",
   "metadata": {},
   "source": [
    "Create another file systems and list all files in the stage"
   ]
  },
  {
   "cell_type": "code",
   "execution_count": 7,
   "metadata": {},
   "outputs": [
    {
     "data": {
      "text/plain": [
       "['@TEST.PUBLIC.ENC_STAGE/imdb_train.csv.gz',\n",
       " '@TEST.PUBLIC.ENC_STAGE/titanic.csv',\n",
       " '@TEST.PUBLIC.ENC_STAGE/weather-ts.parquet']"
      ]
     },
     "execution_count": 7,
     "metadata": {},
     "output_type": "execute_result"
    }
   ],
   "source": [
    "from snowflake.ml.fileset import sfcfs\n",
    "fs = sfcfs.SFFileSystem(snowpark_session=session)\n",
    "fs.ls(STAGE)"
   ]
  },
  {
   "cell_type": "markdown",
   "metadata": {},
   "source": [
    "Show CSV text data"
   ]
  },
  {
   "cell_type": "code",
   "execution_count": 8,
   "metadata": {},
   "outputs": [
    {
     "name": "stderr",
     "output_type": "stream",
     "text": [
      "WARNING:snowflake.snowpark:SFFileSystem._open() is in private preview since 0.2.0. Do not use it in production. \n",
      "WARNING:snowflake.snowpark:SFStageFileSystem._open() is in private preview since 0.2.0. Do not use it in production. \n"
     ]
    },
    {
     "name": "stdout",
     "output_type": "stream",
     "text": [
      "PassengerId,Survived,Pclass,Name,Sex,Age,SibSp,Parch,Ticket,Fare,Cabin,Embarked\n",
      "1,0,3,\"Braund, Mr. Owen Harris\",male,22,1,0,A/5 21171,7.25,,S\n",
      "2,1,1,\"Cumings, Mrs. John Bradley (Florence Briggs Thayer)\",female,38,1,0,PC 17599,71.2833,C85,C\n",
      "3,1,3,\"Heikkinen, Miss. Laina\",female,26,0,0,STON/O2. 3101282,7.925,,S\n",
      "4,1,1,\"Futrelle, Mrs. Jacques Heath (Lily May Peel)\",female,35,1,0,113803,53.1,C123,S\n",
      "5,0,3,\"Allen, Mr. William Henry\",male,35,0,0,373450,8.05,,S\n",
      "6,0,3,\"Moran, Mr. James\",male,,0,0,330877,8.4583,,Q\n",
      "7,0,1,\"McCarthy, Mr. Timothy J\",male,54,0,0,17463,51.8625,E46,S\n",
      "8,0,3,\"Palsson, Master. Gosta Leonard\",male,2,3,1,349909,21.075,,S\n",
      "9,1,3,\"Johnson, Mrs. Oscar W (Elisabeth Vilhelmina Berg)\",female,27,0,2,347742,11.1333,,S\n",
      "10,1,2,\"Nasser, Mrs. Nicholas (Adele Achem)\",female,14,1,0,237736,30.0708,,C\n",
      "11,1,3,\"Sandstrom, Miss. Marguerite Rut\",female,4,1,1,PP 9549,16.7,G6,S\n",
      "12,1,1,\"Bonnell, Miss. Elizabeth\",female,58,0,0,113783,26.55,C103,S\n",
      "13,0,3,\"Saundercock, Mr. William Henry\",male,20,0,0,A/\n"
     ]
    }
   ],
   "source": [
    "with fs.open(f'{STAGE}/titanic.csv', mode='r') as f:\n",
    "    print(f.read(1000))"
   ]
  },
  {
   "cell_type": "markdown",
   "metadata": {},
   "source": [
    "Show GZIP compresed data"
   ]
  },
  {
   "cell_type": "code",
   "execution_count": 9,
   "metadata": {},
   "outputs": [
    {
     "name": "stdout",
     "output_type": "stream",
     "text": [
      "b'REVIEW,SENTIMENT\\n'\n",
      "b'\"\"\"In Victorian times a father is separated from his family when he is falsely accused of treason and they are sent to live in the country. The children adapt to their new situation, make friends, and enlist the help of a kind old man they wave to on the train to help reunite their family.<br /><br />Actors who direct movies are often not very good at it. Jeffries however, the great veteran actor of dozens of British comedy classics, is one of the few exceptions. His brilliant conception (he also wrote the script, from the novel by E. Nesbit) of a classic British children\\'s story is what raises this film to art. Whilst the story may be highly idealised, the wonderful performances and the fabulously evocative Yorkshire dales settings combine to make a truly memorable movie. The photography by Arthur Ibbetson is the definition of good movie-making - not a shot is wasted in telling the story but at the same time the images combine to create a fabulously romantic atmosphere. Agutter is simply perfect as the kind-hearted Bobbie (okay, I fell in love with her at an early age, but I defy anyone to disagree) and Cribbins, whose comic acting pedigree is on a par with Jeffries, is unforgettable as Perks the humble-yet-proud railway porter. This is a film out of time; romantic, charming, hugely enjoyable and with a beautifully naive sense of good-hearted kindness towards all.\"\"\",positive\\n'\n",
      "b'\"\"\"When this film gets it right it really gets it right. And when it goes wrong... I\\'d say that a full 3/4s of the film is great. I can even isolate the bad bit. It\\'s everything that has to do with the romance. Everything that you need to know about it is said in the first five minutes but it drags on for about 30. I\\'d recommend skipping that section if you can. It does nothing except explain his exile. It should have been a minor plot point quickly thrust aside. Fortunately, the period from about 0-30 and 1:00-2:19 (The End) is excellent.<br /><br />There are a number of excellent performances in this film, and an equal number of terrible ones. Just like everything else in this movie the acting is either perfect or terrible. Peter Ustinov as the slimy one-eyed slave Kaptah is perfect. It is one of his best performances, up there with his role in Spartacus. Victor Mature as the ambitious Horemheb is also perfect. Again, one of his best roles. Jean Simmons is wasted as Merit, the perfect girl in love with our hero John Carradine gives a nice supporting role as a philosophical grave robber; and Michael Wilding is excellent as Akhnaton, the idealistic pharaoh who tries to bring peace and monotheism to Egypt only to see it fall apart due to his unwillingness to fight. Now for the bad. Edmund Purdom as Sinuhe is sadly miscast. This is doubly unfortunate as he is the main character. The entire film revolves around him. He actually does rather good as the disillusioned exile and the wise old man. This is because of his sorely limited range. He doesn\\'t seem able to put any passion into his words. This is especially apparent during the love scenes which are beyond awkward. He spends the last half of the film as an old man, a performance at which he is decent enough at. He does have the perfect voice for the character. The less said about Bella Darvi as Nefer, the treacherous Babylonian woman, the better.<br /><br />The costuming and sets are magnificent. This is the only film that I know of that attempts to depict life in Egypt that isn\\'t overshadowed by Jews or Romans. The film takes place in the 14th Century B.C. which is before even Exodus. The only monotheists are the pharaoh Akhenaten and his followers. There is the same strong element of religious zeal that can be found in most epics, but it is done differently and it only shows up at the very end. An interesting note: by having Akhenaten followed by Horemheb as pharaoh, the film completely skips over the most famous pharaoh of all: Tutankhamen. Seems kind of a strange thing to do when using that name could increase awareness of the film.<br /><br />Be warned: this is a 1950s epic film. If you don\\'t like that type of thing then don\\'t expect this one to be different. It is different, but it is still an epic. I appreciate this film, and I appreciate what it did and what it tried to do. This is a film that should be better remembered than it is.\"\"\",positive\\n'\n",
      "b'\"\"\"What this film has is its realism , you really do get the feeling screenwriter James Slater has been doing his homework on the subject of downhill skiing while director Michael Ritchie shoots the movie in a fly on the wall documentary style . However the problem is unless you`re a big fan of the sport there`s not a lot in DOWNHILL RACER to grab your attention .<br /><br />Before anyone asks why I watched it , I did so because it featured the great Gene Hackman in an early role but that`s not really a good enough reason for watching\"\"\",negative\\n'\n",
      "b'\"\"\"\"\"\"\"Like the first touch of pleasure and guilt, like a spontaneous youthful flirt of fascination and fear, like a climax of contrary emotions\"\"\"\" said one of the movie buffs after viewing LOVE AT THE TOP, the misinterpreted title version of stylish director Michel Deville\\'s LE MOUTON ENRAGE. <br /><br />Vincent Canby in New York Times, however, just after the 1974 premiere of the movie stated: \"\"\"\"LOVE AT THE TOP which opened yesterday at the 68th Street Playhouse, is a 1973 French comedy that dimly recalls a number of nineteen-fifties English comedies about the rise and rise of cynical young men possessing\\xc2\\x97and possessed by\\xc2\\x97ambition.\"\"\"\" Yet, the significant difference that he mentioned was the fact that LOVE AT THE TOP is not concerned with the English class system...(January 27, 1975)<br /><br />Having left the evaluations up to single individuals, of course, the test of time has done its just job. What may be said with certainty after more than 30 years is that we can hardly find such movies like LE MOUTON ENRAGE where decadence appears innocent, where liaisons appear youthfully enthusiastic, where feelings occur so manipulative. <br /><br />For Romy Schneider\\'s fans, it seems useless to point out that this film is a must see, not only because she gives a unique performance (as she did in all of her roles) at the heyday of her career (9 years before her sudden death) but because she is particularly attractive here. It is not TRIO INFERNAL where the, so to say, \\'forced escape\\' from and the mockery of Romy\\'s sweet image haunted for years by saccharine Sissi meets its most discouraging manifestation, but a film where the brilliant actress is given a fair role. She plays Roberte, a woman who becomes the object of lust for the story\\'s lead, playboy Nicolas Mallet (Jean Louis Trintignant). It is him who takes financial profits from lustful liaisons. This movie can boast truly memorable and unique shots of Romy and she is given some of her very best scenes. Romy\\'s sex appeal is unforgettable here.<br /><br />Another strong point of the film is its execution of the content with a development of individual perception. Immoral as it may seem, the director makes a perfect use of contrast: conventions vs pleasures, innocence vs decadence, genuine lust vs instrumental affair. Nicola owns most of the features that viewers may like or detest, may find attractive or disgusting; yet, his are the features the viewers must treat seriously, more to say, they are the ones we all must accept. That is why, one is led to a peculiar, gently wild, erotically unique world of the main character. Although he sleeps with lots of women, there are two women that represent a sort of contrary worlds for Nicola: Roberte Groult (Romy Schneider) and Marie-Paul (Jane Birkin). He manipulates them, makes love to them, cannot refrain from both desire for their bodies and desire for money; yet, he perceives them differently. Yet, despite all of this \\'adult maturity,\\' he is emotionally like a little boy who plays with a toy-car on the table - a sort of \\'detailed insight into male mind...\\' in a comedy-like way, of course.<br /><br />Finally, there are very good performances, which makes LE MOUTON ENRAGE slightly underrated. Not only the aforementioned Romy Schneider does a brilliant job supplying the viewers with an extraordinary insight into her role, but young Jane Birkin appears to be convincing in the role of young, inexperienced streetwalker Marie Paul, Jean Louis Trintignant makes it possible to see Nicola in the right way. This artistic merit lying in performances goes with terrific music by Camille Saint-Sa\\xc3\\xabns, the tune that will ring in your ears for long. Therefore, apart from some flaws of the movie like dated colors, slow action (sometimes), possible clich\\xc3\\xa9s (noticed by some viewers), the merits should be found significant. <br /><br />LE MOUTON ENRAGE, in sum, is a clear manifestation of contrary manipulative tools in life. It is worth seeing as a moment in Romy\\'s career, a prelude to strong eroticism, a chain of contrary emotions, of love and hatred, appreciation and disgust compared to the first orgasm and the first angasm... But aren\\'t we, humans, \\'viewers,\\' movie buffs built upon such contrasts?\"\"\",positive\\n'\n",
      "b'\"\"\"This is a weird and compelling film. The topic, about the atom bombs created at Los Alamos, NM in the USA and used on Japan during the latter part of World War II, is huge, and of course deeply disturbing. The film\\'s plot takes on a lot of heavy issues and the actors have to carry much of the creative tension. I had never seen the film, or was much interested in it I have to admit, until I read the book \"\"\"\"Smoking in Bed: Conversations with Bruce Robinson.\"\"\"\" Robinson wrote the story and screenplay. I think the film was better than I expected from reading Robinson\\'s point of view in the conversations about it, but I can see how he thought it got derailed. I think Paul Newman is pretty good, but is somehow at bottom, miscast. He\\'s too Hollywood. At one point, a big, mean-looking guy storms into Newman\\'s office and has such a striking presence, I immediately thought he should be playing the character Newman is playing. The other lead, who plays the head scientist, is also fairly good, but somehow not brilliant enough to portray the huge angst that goes with the part - the immense responsibility for creation of an ultimate machine of death and destruction. One of the more effective characters seems to be a composite personality, played by John Cusack. He is oddly affecting throughout, and in the end, is the character whose fate really hits home and who made me think most vividly of the fate of more than 200,000 Japanese people in Hiroshima and Nagasaki.\"\"\",positive\\n'\n",
      "b'\"\"\"Although I am not a Michael Jackson fan, I like some of his early songs and some from Jackson 5 too. \\'Thriller\\' is one of his great songs and it comes from the best-selling album ever with the same title. As for the video, it is awesome, one of Michael\\'s best, but also very eccentric and weird.<br /><br />There is a story behind this video, but it\\'s so complex that even I can\\'t fully understand it. It\\'s freaky. The freakiest things are Jackson\\'s transformation into a werewolf, his evil red eyes at the end (like a werewolf) and those dead people dancing.<br /><br />The video is very dark, thrilling, chilly and original. There are great sceneries and settings. The music itself is full of life and rhythm, characteristic from the good old pop from the 80\\'s.<br /><br />I like Vincent Price\\'s soliloquy. He does a great narration with his distinctive and unique voice and his evil laughter at the end is awesome! My favorite videos of the \\'King of Pop\\' are \"\"\"\"Billie Jean\"\"\"\" and \"\"\"\"Don\\'t stop \\'til you get enough\"\"\"\" (both among his best songs).\"\"\",positive\\n'\n",
      "b'\"\"\"Tigerland follows the lives of a group of recently drafted men into the army who are called up to fight in Vietnam in 1971.<br /><br />At this point, America knows they are fighting a loosing battle, and the director takes us through a 16mm handheld documentary shot film of the lives of several recruits in the \\'Tigerland\\' training camp in Louisiana.<br /><br />The film is more of a character study no real plot, but it focuses on a key character Roland Boz, who is a dissabordinate yet intelligent man, who only wants to escape the camp. We are taken through several characters in the unit waiting for the story to unfold.<br /><br />I\\'d have to say this is a great story about Vietnam and more importantly about the army in general.. Great acting, and very memorable. Also the directors use of film and style works so well, cause it looks a lot like the old film footage you always see regarding Vietnam. Its great to see how the film shows that all the infighting and problems were so significant to the problems of fighting this battle. The particular scene where Boz walks away from a training mission where an instructor is showing how to use a radio as a torture device just about sums up everything about war in a nutshell... and it\\'s futility.<br /><br />Fantastic film. Not just about Nam but about who individuals have to decide what is morally right by being \\'in the army\\'.<br /><br />Rating 9 out of 10.\"\"\",positive\\n'\n",
      "b'\"\"\"To all the reviewers on this page, I would have to say this movie is worth seeing. So It was made in 1972, so what. The fashion in the movie was exactly the same fashion of its time. People who didn\\'t study culture of the decades would think that this movie is a cheese ball. Compared to the modern series, `Left Behind,\\' (Which is made for our time right now) it does look cheezy. However, the only cheezy part of the movie is the fashion, which again was over 30 years in the past. BUT. The message that is sent in this film is very powerful, and carefully preserved. There is just so much to say, but I refuse to say it. (for fear of spoiling it) So go out and see this film! If you don\\'t like the message that it sends, then you have issues, that need some attention!\"\"\",positive\\n'\n",
      "b'\"\"\"I really should give this stinker more credit that 1 star, because the film has so many eye-rolling lines that it\\'s almost worth the price of the rental. <br /><br />The acting, if you want to call it that, is so stilted and contrived that it makes Ed Wood\\'s actors appear life like. \"\"\"\"Sammy,\"\"\"\" the lone black character, must be Mimi\\'s husband in real life because he appears in her other films, but he has zero acting ability. His lines are priceless due to his absurd delivery, though I suspect the intention was to create a sympathetic character. His old man make up in her other turkey (\"\"\"\"Pushed To The Limit\"\"\"\") is no-budget, junior high school quality, with cotton ball eyebrows and white spray painted hair.<br /><br />I cannot fathom anyone actually buying this video, unless people like to throw their own Mystery Science Theater parties and need a copy of something like this on hand. It really is Beyond Fear-- it\\'s actually Beyond Funny.\"\"\",negative\\n'\n"
     ]
    }
   ],
   "source": [
    "import gzip\n",
    "with fs.open(f'{STAGE}/imdb_train.csv.gz', mode='rb') as f:\n",
    "    g = gzip.GzipFile(fileobj=f)\n",
    "    for i in range(10):\n",
    "        print(g.readline())"
   ]
  },
  {
   "cell_type": "markdown",
   "metadata": {},
   "source": [
    "Show Parquet data"
   ]
  },
  {
   "cell_type": "code",
   "execution_count": 10,
   "metadata": {},
   "outputs": [
    {
     "name": "stderr",
     "output_type": "stream",
     "text": [
      "WARNING:snowflake.snowpark:SFFileSystem.info() is in private preview since 0.2.0. Do not use it in production. \n"
     ]
    },
    {
     "data": {
      "text/html": [
       "<div>\n",
       "<style scoped>\n",
       "    .dataframe tbody tr th:only-of-type {\n",
       "        vertical-align: middle;\n",
       "    }\n",
       "\n",
       "    .dataframe tbody tr th {\n",
       "        vertical-align: top;\n",
       "    }\n",
       "\n",
       "    .dataframe thead th {\n",
       "        text-align: right;\n",
       "    }\n",
       "</style>\n",
       "<table border=\"1\" class=\"dataframe\">\n",
       "  <thead>\n",
       "    <tr style=\"text-align: right;\">\n",
       "      <th></th>\n",
       "      <th>INDEX</th>\n",
       "      <th>DATE</th>\n",
       "      <th>NAME</th>\n",
       "      <th>TEMP</th>\n",
       "      <th>WIND</th>\n",
       "    </tr>\n",
       "  </thead>\n",
       "  <tbody>\n",
       "    <tr>\n",
       "      <th>0</th>\n",
       "      <td>4942</td>\n",
       "      <td>2022-05-12</td>\n",
       "      <td>THE BATTERY</td>\n",
       "      <td>50.0</td>\n",
       "      <td>0</td>\n",
       "    </tr>\n",
       "    <tr>\n",
       "      <th>1</th>\n",
       "      <td>4943</td>\n",
       "      <td>2022-05-12</td>\n",
       "      <td>STURGEON POINT</td>\n",
       "      <td>40.5</td>\n",
       "      <td>0</td>\n",
       "    </tr>\n",
       "    <tr>\n",
       "      <th>2</th>\n",
       "      <td>4944</td>\n",
       "      <td>2022-05-12</td>\n",
       "      <td>ROCHESTER</td>\n",
       "      <td>39.9</td>\n",
       "      <td>13.9</td>\n",
       "    </tr>\n",
       "    <tr>\n",
       "      <th>3</th>\n",
       "      <td>4945</td>\n",
       "      <td>2022-05-12</td>\n",
       "      <td>STEWART INTERNATIONAL AIRPORT</td>\n",
       "      <td>42.8</td>\n",
       "      <td>9.2</td>\n",
       "    </tr>\n",
       "    <tr>\n",
       "      <th>4</th>\n",
       "      <td>4946</td>\n",
       "      <td>2022-05-12</td>\n",
       "      <td>WESTCHESTER COUNTY AIRPORT</td>\n",
       "      <td>43.6</td>\n",
       "      <td>13.4</td>\n",
       "    </tr>\n",
       "    <tr>\n",
       "      <th>...</th>\n",
       "      <td>...</td>\n",
       "      <td>...</td>\n",
       "      <td>...</td>\n",
       "      <td>...</td>\n",
       "      <td>...</td>\n",
       "    </tr>\n",
       "    <tr>\n",
       "      <th>78315</th>\n",
       "      <td>83257</td>\n",
       "      <td>2018-01-01</td>\n",
       "      <td>GREATER ROCHESTER INTERNATION</td>\n",
       "      <td>32.0</td>\n",
       "      <td>8.9</td>\n",
       "    </tr>\n",
       "    <tr>\n",
       "      <th>78316</th>\n",
       "      <td>83258</td>\n",
       "      <td>2018-01-01</td>\n",
       "      <td>WHEELER-SACK AAF AIRPORT</td>\n",
       "      <td>31.4</td>\n",
       "      <td>6.4</td>\n",
       "    </tr>\n",
       "    <tr>\n",
       "      <th>78317</th>\n",
       "      <td>83259</td>\n",
       "      <td>2018-01-01</td>\n",
       "      <td>SULLIVAN COUNTY INTL ARPT</td>\n",
       "      <td>31.6</td>\n",
       "      <td>8.6</td>\n",
       "    </tr>\n",
       "    <tr>\n",
       "      <th>78318</th>\n",
       "      <td>83260</td>\n",
       "      <td>2018-01-01</td>\n",
       "      <td>WESTCHESTER COUNTY AIRPORT</td>\n",
       "      <td>38.2</td>\n",
       "      <td>8.7</td>\n",
       "    </tr>\n",
       "    <tr>\n",
       "      <th>78319</th>\n",
       "      <td>83261</td>\n",
       "      <td>2018-01-01</td>\n",
       "      <td>LA GUARDIA AIRPORT</td>\n",
       "      <td>41.9</td>\n",
       "      <td>11.8</td>\n",
       "    </tr>\n",
       "  </tbody>\n",
       "</table>\n",
       "<p>78320 rows × 5 columns</p>\n",
       "</div>"
      ],
      "text/plain": [
       "       INDEX        DATE                           NAME  TEMP  WIND\n",
       "0       4942  2022-05-12                    THE BATTERY  50.0     0\n",
       "1       4943  2022-05-12                 STURGEON POINT  40.5     0\n",
       "2       4944  2022-05-12                      ROCHESTER  39.9  13.9\n",
       "3       4945  2022-05-12  STEWART INTERNATIONAL AIRPORT  42.8   9.2\n",
       "4       4946  2022-05-12     WESTCHESTER COUNTY AIRPORT  43.6  13.4\n",
       "...      ...         ...                            ...   ...   ...\n",
       "78315  83257  2018-01-01  GREATER ROCHESTER INTERNATION  32.0   8.9\n",
       "78316  83258  2018-01-01       WHEELER-SACK AAF AIRPORT  31.4   6.4\n",
       "78317  83259  2018-01-01      SULLIVAN COUNTY INTL ARPT  31.6   8.6\n",
       "78318  83260  2018-01-01     WESTCHESTER COUNTY AIRPORT  38.2   8.7\n",
       "78319  83261  2018-01-01             LA GUARDIA AIRPORT  41.9  11.8\n",
       "\n",
       "[78320 rows x 5 columns]"
      ]
     },
     "execution_count": 10,
     "metadata": {},
     "output_type": "execute_result"
    }
   ],
   "source": [
    "import pyarrow.parquet as pq\n",
    "df = pq.read_table(f'{STAGE}/weather-ts.parquet', filesystem=fs).to_pandas()\n",
    "df"
   ]
  }
 ],
 "metadata": {
  "kernelspec": {
   "display_name": "venv",
   "language": "python",
   "name": "python3"
  },
  "language_info": {
   "codemirror_mode": {
    "name": "ipython",
    "version": 3
   },
   "file_extension": ".py",
   "mimetype": "text/x-python",
   "name": "python",
   "nbconvert_exporter": "python",
   "pygments_lexer": "ipython3",
   "version": "3.9.6"
  }
 },
 "nbformat": 4,
 "nbformat_minor": 2
}
