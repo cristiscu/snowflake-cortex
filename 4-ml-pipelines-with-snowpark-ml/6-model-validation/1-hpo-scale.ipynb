{
 "cells": [
  {
   "cell_type": "code",
   "execution_count": 1,
   "metadata": {},
   "outputs": [
    {
     "name": "stderr",
     "output_type": "stream",
     "text": [
      "SnowflakeLoginOptions() is in private preview since 0.2.0. Do not use it in production. \n"
     ]
    }
   ],
   "source": [
    "# see https://docs.snowflake.com/en/developer-guide/snowpark-ml/snowpark-ml-modeling#distributed-hyperparameter-optimization\n",
    "\n",
    "# connect to your Snowflake account\n",
    "from snowflake.snowpark import Session\n",
    "from snowflake.ml.utils.connection_params import SnowflakeLoginOptions\n",
    "\n",
    "pars = SnowflakeLoginOptions(\"test_conn\")\n",
    "# pars[\"warehouse\"] = ... XSmall then LARGE, for 10K --> 1M samples\n",
    "session = Session.builder.configs(pars).create()\n",
    "session.query_tag = \"1-hpo-scale\""
   ]
  },
  {
   "cell_type": "code",
   "execution_count": 2,
   "metadata": {},
   "outputs": [
    {
     "name": "stdout",
     "output_type": "stream",
     "text": [
      "---------------------------------------------------------------------------------------------------------------------------------------------\n",
      "|\"X1\"                 |\"X2\"                 |\"X3\"                  |\"X4\"                 |\"X5\"                  |\"X6\"                 |\"Y\"  |\n",
      "---------------------------------------------------------------------------------------------------------------------------------------------\n",
      "|-0.8419764862142489  |-0.8236131319464177  |0.9075940977271297    |-2.237446137540834   |0.41812713757991454   |0.14206445780823243  |0    |\n",
      "|0.2495179452165687   |-1.0261383115544833  |1.159807100525451     |-1.0200756637883104  |-0.1421750090153774   |0.3737017851614627   |0    |\n",
      "|-0.7159294113018737  |0.8144495926630666   |0.8071326534973498    |0.1831886415975208   |0.4489324382592919    |-2.0545884582594405  |1    |\n",
      "|-0.8336672327523885  |1.267946398948371    |-0.24525647900063868  |1.7112130463794246   |-0.1391163247361221   |-0.9085732375134297  |1    |\n",
      "|0.1487563468742738   |-1.1917537218692458  |0.03133830409687642   |-2.0089923323069874  |1.5340962716031157    |0.12456057426372713  |0    |\n",
      "|0.3170681512030879   |-0.1535617398463347  |-0.44457964261138544  |1.6646250148683477   |-1.4163392146185523   |-0.9633267674021511  |1    |\n",
      "|1.0614836461118384   |-1.3628792232982274  |-0.29651019897873987  |-2.9682451278809268  |0.8640318386361215    |0.8064007397128706   |0    |\n",
      "|-0.3512504543688377  |-1.2844955508995624  |-0.8296168367520139   |0.4110654657674395   |0.34121373289991436   |0.5022249716769807   |1    |\n",
      "|-1.0448354972918505  |0.38837238040714583  |-0.42087717698254556  |-0.9956573095721164  |-0.12465928008812328  |0.4319642312785107   |1    |\n",
      "|-1.3111101809310866  |-1.1488623518981615  |-0.7824497264041523   |0.7925621054231151   |0.983441006729875     |0.31446978718645036  |0    |\n",
      "---------------------------------------------------------------------------------------------------------------------------------------------\n",
      "\n"
     ]
    }
   ],
   "source": [
    "import pandas as pd\n",
    "from sklearn.datasets import make_classification\n",
    "\n",
    "# also try w/ 1M samples: 2m15s on LARGE vs 4m5s on XSMALL\n",
    "N_SAMPLES = 10000\n",
    "X, y = make_classification(n_samples=N_SAMPLES, n_features=6,\n",
    "    n_informative=2, n_redundant=0, random_state=0, shuffle=True)\n",
    "\n",
    "X = pd.DataFrame(X, columns=[\"X1\", \"X2\", \"X3\", \"X4\", \"X5\", \"X6\"])\n",
    "y = pd.DataFrame(y, columns=[\"Y\"])\n",
    "\n",
    "df = pd.concat([X, y], axis=1)\n",
    "df = session.create_dataframe(df)\n",
    "df.show()"
   ]
  },
  {
   "cell_type": "code",
   "execution_count": 3,
   "metadata": {},
   "outputs": [
    {
     "name": "stderr",
     "output_type": "stream",
     "text": [
      "WARNING:snowflake.snowpark.session:The version of package 'snowflake-snowpark-python' in the local environment is 1.14.0, which does not fit the criteria for the requirement 'snowflake-snowpark-python'. Your UDF might not work when the package version is different between the server and your local environment.\n",
      "WARNING:snowflake.snowpark.session:The version of package 'scikit-learn' in the local environment is 1.3.2, which does not fit the criteria for the requirement 'scikit-learn==1.3.0'. Your UDF might not work when the package version is different between the server and your local environment.\n",
      "WARNING:snowflake.snowpark.session:The version of package 'xgboost' in the local environment is 1.7.6, which does not fit the criteria for the requirement 'xgboost==1.7.3'. Your UDF might not work when the package version is different between the server and your local environment.\n"
     ]
    },
    {
     "name": "stdout",
     "output_type": "stream",
     "text": [
      "[14:20:15] WARNING: C:\\buildkite-agent\\builds\\buildkite-windows-cpu-autoscaling-group-i-0fdc6d574b9c0d168-1\\xgboost\\xgboost-ci-windows\\src\\learner.cc:553: \n",
      "  If you are loading a serialized model (like pickle in Python, RDS in R) generated by\n",
      "  older XGBoost, please export the model by calling `Booster.save_model` from that version\n",
      "  first, then load it back in current version. See:\n",
      "\n",
      "    https://xgboost.readthedocs.io/en/latest/tutorials/saving_model.html\n",
      "\n",
      "  for more details about differences between saving model and serializing.\n",
      "\n"
     ]
    },
    {
     "name": "stderr",
     "output_type": "stream",
     "text": [
      "c:\\Projects\\snowflake-cortex\\venv\\lib\\site-packages\\sklearn\\base.py:348: InconsistentVersionWarning: Trying to unpickle estimator GridSearchCV from version 1.3.0 when using version 1.3.2. This might lead to breaking code or invalid results. Use at your own risk. For more info please refer to:\n",
      "https://scikit-learn.org/stable/model_persistence.html#security-maintainability-limitations\n",
      "  warnings.warn(\n"
     ]
    },
    {
     "data": {
      "text/plain": [
       "<snowflake.ml.modeling.model_selection.grid_search_cv.GridSearchCV at 0x1cefef95040>"
      ]
     },
     "execution_count": 3,
     "metadata": {},
     "output_type": "execute_result"
    }
   ],
   "source": [
    "from snowflake.ml.modeling.model_selection.grid_search_cv import GridSearchCV\n",
    "from snowflake.ml.modeling.xgboost import XGBClassifier\n",
    "\n",
    "model = GridSearchCV(\n",
    "    estimator=XGBClassifier(),\n",
    "    param_grid=dict(n_estimators=[10, 50], learning_rate=[0.01, 0.1, 0.2]),\n",
    "    input_cols=[\"X1\", \"X2\", \"X3\", \"X4\", \"X5\", \"X6\"], \n",
    "    label_cols=[\"Y\"],\n",
    "    output_cols=[\"PREDICTIONS\"])\n",
    "model.fit(df)"
   ]
  },
  {
   "cell_type": "code",
   "execution_count": 4,
   "metadata": {},
   "outputs": [
    {
     "name": "stderr",
     "output_type": "stream",
     "text": [
      "WARNING:snowflake.snowpark.session:The version of package 'scikit-learn' in the local environment is 1.3.2, which does not fit the criteria for the requirement 'scikit-learn==1.3.0'. Your UDF might not work when the package version is different between the server and your local environment.\n",
      "WARNING:snowflake.snowpark.session:The version of package 'xgboost' in the local environment is 1.7.6, which does not fit the criteria for the requirement 'xgboost==1.7.3'. Your UDF might not work when the package version is different between the server and your local environment.\n"
     ]
    },
    {
     "name": "stdout",
     "output_type": "stream",
     "text": [
      "-----------------\n",
      "|\"PREDICTIONS\"  |\n",
      "-----------------\n",
      "|0.0            |\n",
      "|0.0            |\n",
      "|1.0            |\n",
      "|1.0            |\n",
      "|0.0            |\n",
      "|1.0            |\n",
      "|0.0            |\n",
      "|1.0            |\n",
      "|0.0            |\n",
      "|1.0            |\n",
      "-----------------\n",
      "\n"
     ]
    }
   ],
   "source": [
    "preds = model.predict(df)\n",
    "preds[[\"PREDICTIONS\"]].show()"
   ]
  },
  {
   "cell_type": "code",
   "execution_count": 5,
   "metadata": {},
   "outputs": [
    {
     "name": "stdout",
     "output_type": "stream",
     "text": [
      "0.9099999999999999\n"
     ]
    }
   ],
   "source": [
    "skl = model.to_sklearn()\n",
    "print(skl.best_score_)"
   ]
  }
 ],
 "metadata": {
  "kernelspec": {
   "display_name": "venv",
   "language": "python",
   "name": "python3"
  },
  "language_info": {
   "codemirror_mode": {
    "name": "ipython",
    "version": 3
   },
   "file_extension": ".py",
   "mimetype": "text/x-python",
   "name": "python",
   "nbconvert_exporter": "python",
   "pygments_lexer": "ipython3",
   "version": "3.9.6"
  }
 },
 "nbformat": 4,
 "nbformat_minor": 2
}
