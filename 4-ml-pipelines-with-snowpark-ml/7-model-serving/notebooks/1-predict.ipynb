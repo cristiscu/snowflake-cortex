{
 "cells": [
  {
   "cell_type": "markdown",
   "metadata": {},
   "source": [
    "Connect to Snowflake"
   ]
  },
  {
   "cell_type": "code",
   "execution_count": 1,
   "metadata": {},
   "outputs": [
    {
     "name": "stderr",
     "output_type": "stream",
     "text": [
      "SnowflakeLoginOptions() is in private preview since 0.2.0. Do not use it in production. \n"
     ]
    }
   ],
   "source": [
    "from snowflake.snowpark import Session\n",
    "from snowflake.ml.utils.connection_params import SnowflakeLoginOptions\n",
    "\n",
    "session = Session.builder.configs(SnowflakeLoginOptions(\"test_conn\")).create()"
   ]
  },
  {
   "cell_type": "markdown",
   "metadata": {},
   "source": [
    "Load cleaned-up test diamonds table dataset"
   ]
  },
  {
   "cell_type": "code",
   "execution_count": 2,
   "metadata": {},
   "outputs": [
    {
     "name": "stdout",
     "output_type": "stream",
     "text": [
      "-------------------------------------------------------------------------------------------------------------------------------------------------------------------------------------------------------------------------\n",
      "|\"CARAT\"               |\"DEPTH\"              |\"TABLE_PCT\"          |\"X\"                  |\"Y\"                  |\"Z\"                  |\"CUT_OE\"  |\"COLOR_OE\"  |\"CLARITY_OE\"  |\"COLOR\"  |\"CLARITY\"  |\"PRICE\"  |\"CUT\"      |\n",
      "-------------------------------------------------------------------------------------------------------------------------------------------------------------------------------------------------------------------------\n",
      "|0.02079002079002079   |0.5472222222222223   |0.3076923076923076   |0.3919925512104283   |0.07249575551782682  |0.08364779874213837  |2.0       |6.0         |5.0           |J        |SI1        |351      |VERY_GOOD  |\n",
      "|0.02286902286902287   |0.4555555555555555   |0.3653846153846153   |0.40875232774674114  |0.07521222410865874  |0.08238993710691825  |2.0       |6.0         |5.0           |J        |SI1        |353      |VERY_GOOD  |\n",
      "|0.008316008316008316  |0.5416666666666665   |0.2692307692307693   |0.36964618249534453  |0.06689303904923599  |0.07767295597484278  |1.0       |5.0         |3.0           |I        |VS1        |355      |PREMIUM    |\n",
      "|0.006237006237006237  |0.48611111111111094  |0.34615384615384615  |0.3687150837988827   |0.06740237691001698  |0.07547169811320754  |2.0       |0.0         |4.0           |D        |VS2        |357      |VERY_GOOD  |\n",
      "|0.02079002079002079   |0.5527777777777776   |0.3076923076923076   |0.3985102420856611   |0.07198641765704585  |0.08427672955974844  |1.0       |4.0         |5.0           |H        |SI1        |554      |PREMIUM    |\n",
      "|0.008316008316008316  |0.4916666666666667   |0.28846153846153844  |0.3789571694599628   |0.06859083191850594  |0.07735849056603773  |1.0       |4.0         |2.0           |H        |VVS2       |554      |PREMIUM    |\n",
      "|0.10395010395010396   |0.5166666666666666   |0.2500000000000001   |0.5307262569832403   |0.09626485568760612  |0.11006289308176101  |0.0       |3.0         |4.0           |G        |VS2        |2757     |IDEAL      |\n",
      "|0.10602910602910603   |0.5388888888888888   |0.2692307692307693   |0.5288640595903166   |0.0972835314091681   |0.1119496855345912   |2.0       |1.0         |4.0           |E        |VS2        |2759     |VERY_GOOD  |\n",
      "|0.158004158004158     |0.6472222222222221   |0.3653846153846153   |0.5837988826815642   |0.10101867572156198  |0.1279874213836478   |4.0       |2.0         |6.0           |F        |SI2        |2759     |FAIR       |\n",
      "|0.11226611226611227   |0.536111111111111    |0.21153846153846156  |0.5400372439478585   |0.09898132427843803  |0.11383647798742139  |0.0       |1.0         |5.0           |E        |SI1        |2762     |IDEAL      |\n",
      "-------------------------------------------------------------------------------------------------------------------------------------------------------------------------------------------------------------------------\n",
      "\n"
     ]
    }
   ],
   "source": [
    "df = session.table(\"test.diamonds.diamonds_transform_pipeline\")\n",
    "_, test_df = df.random_split(weights=[0.9, 0.1], seed=0)\n",
    "test_df.show()"
   ]
  },
  {
   "cell_type": "markdown",
   "metadata": {},
   "source": [
    "List all models in current registry"
   ]
  },
  {
   "cell_type": "code",
   "execution_count": 3,
   "metadata": {},
   "outputs": [
    {
     "name": "stdout",
     "output_type": "stream",
     "text": [
      "Models:\n"
     ]
    },
    {
     "data": {
      "text/html": [
       "<div>\n",
       "<style scoped>\n",
       "    .dataframe tbody tr th:only-of-type {\n",
       "        vertical-align: middle;\n",
       "    }\n",
       "\n",
       "    .dataframe tbody tr th {\n",
       "        vertical-align: top;\n",
       "    }\n",
       "\n",
       "    .dataframe thead th {\n",
       "        text-align: right;\n",
       "    }\n",
       "</style>\n",
       "<table border=\"1\" class=\"dataframe\">\n",
       "  <thead>\n",
       "    <tr style=\"text-align: right;\">\n",
       "      <th></th>\n",
       "      <th>created_on</th>\n",
       "      <th>name</th>\n",
       "      <th>database_name</th>\n",
       "      <th>schema_name</th>\n",
       "      <th>comment</th>\n",
       "      <th>owner</th>\n",
       "      <th>default_version_name</th>\n",
       "      <th>versions</th>\n",
       "    </tr>\n",
       "  </thead>\n",
       "  <tbody>\n",
       "    <tr>\n",
       "      <th>0</th>\n",
       "      <td>2024-04-30 10:45:27.831000-07:00</td>\n",
       "      <td>RANDOMFORESTCLASSIFIER</td>\n",
       "      <td>TEST</td>\n",
       "      <td>PUBLIC</td>\n",
       "      <td>None</td>\n",
       "      <td>ACCOUNTADMIN</td>\n",
       "      <td>V1</td>\n",
       "      <td>[\"V1\"]</td>\n",
       "    </tr>\n",
       "    <tr>\n",
       "      <th>1</th>\n",
       "      <td>2024-04-30 07:52:14.437000-07:00</td>\n",
       "      <td>RANDOMFORESTREGRESSOR</td>\n",
       "      <td>TEST</td>\n",
       "      <td>PUBLIC</td>\n",
       "      <td>new comment</td>\n",
       "      <td>ACCOUNTADMIN</td>\n",
       "      <td>V1</td>\n",
       "      <td>[\"V1\",\"V2\"]</td>\n",
       "    </tr>\n",
       "    <tr>\n",
       "      <th>2</th>\n",
       "      <td>2024-04-30 10:23:54.568000-07:00</td>\n",
       "      <td>XGBCLASSIFIER</td>\n",
       "      <td>TEST</td>\n",
       "      <td>PUBLIC</td>\n",
       "      <td>None</td>\n",
       "      <td>ACCOUNTADMIN</td>\n",
       "      <td>V1</td>\n",
       "      <td>[\"V1\",\"V2\",\"V3\"]</td>\n",
       "    </tr>\n",
       "    <tr>\n",
       "      <th>3</th>\n",
       "      <td>2024-04-30 10:47:42.566000-07:00</td>\n",
       "      <td>XGBOOSTER</td>\n",
       "      <td>TEST</td>\n",
       "      <td>PUBLIC</td>\n",
       "      <td>None</td>\n",
       "      <td>ACCOUNTADMIN</td>\n",
       "      <td>V1</td>\n",
       "      <td>[\"V1\"]</td>\n",
       "    </tr>\n",
       "  </tbody>\n",
       "</table>\n",
       "</div>"
      ],
      "text/plain": [
       "                        created_on                    name database_name  \\\n",
       "0 2024-04-30 10:45:27.831000-07:00  RANDOMFORESTCLASSIFIER          TEST   \n",
       "1 2024-04-30 07:52:14.437000-07:00   RANDOMFORESTREGRESSOR          TEST   \n",
       "2 2024-04-30 10:23:54.568000-07:00           XGBCLASSIFIER          TEST   \n",
       "3 2024-04-30 10:47:42.566000-07:00               XGBOOSTER          TEST   \n",
       "\n",
       "  schema_name      comment         owner default_version_name  \\\n",
       "0      PUBLIC         None  ACCOUNTADMIN                   V1   \n",
       "1      PUBLIC  new comment  ACCOUNTADMIN                   V1   \n",
       "2      PUBLIC         None  ACCOUNTADMIN                   V1   \n",
       "3      PUBLIC         None  ACCOUNTADMIN                   V1   \n",
       "\n",
       "           versions  \n",
       "0            [\"V1\"]  \n",
       "1       [\"V1\",\"V2\"]  \n",
       "2  [\"V1\",\"V2\",\"V3\"]  \n",
       "3            [\"V1\"]  "
      ]
     },
     "execution_count": 3,
     "metadata": {},
     "output_type": "execute_result"
    }
   ],
   "source": [
    "from snowflake.ml.registry import Registry\n",
    "\n",
    "registry = Registry(session=session, database_name=\"TEST\", schema_name=\"PUBLIC\")\n",
    "print(\"Models:\"); registry.show_models()"
   ]
  },
  {
   "cell_type": "markdown",
   "metadata": {},
   "source": [
    "Show functions for our registered model"
   ]
  },
  {
   "cell_type": "code",
   "execution_count": 4,
   "metadata": {},
   "outputs": [
    {
     "name": "stdout",
     "output_type": "stream",
     "text": [
      "Functions:\n"
     ]
    },
    {
     "data": {
      "text/plain": [
       "[{'name': 'PREDICT',\n",
       "  'target_method': 'predict',\n",
       "  'signature': ModelSignature(\n",
       "                      inputs=[\n",
       "                          FeatureSpec(dtype=DataType.DOUBLE, name='CUT_OE'),\n",
       "  \t\tFeatureSpec(dtype=DataType.DOUBLE, name='COLOR_OE'),\n",
       "  \t\tFeatureSpec(dtype=DataType.DOUBLE, name='CLARITY_OE'),\n",
       "  \t\tFeatureSpec(dtype=DataType.DOUBLE, name='CARAT'),\n",
       "  \t\tFeatureSpec(dtype=DataType.DOUBLE, name='DEPTH'),\n",
       "  \t\tFeatureSpec(dtype=DataType.DOUBLE, name='TABLE_PCT'),\n",
       "  \t\tFeatureSpec(dtype=DataType.DOUBLE, name='X'),\n",
       "  \t\tFeatureSpec(dtype=DataType.DOUBLE, name='Y'),\n",
       "  \t\tFeatureSpec(dtype=DataType.DOUBLE, name='Z')\n",
       "                      ],\n",
       "                      outputs=[\n",
       "                          FeatureSpec(dtype=DataType.DOUBLE, name='CUT_OE'),\n",
       "  \t\tFeatureSpec(dtype=DataType.DOUBLE, name='COLOR_OE'),\n",
       "  \t\tFeatureSpec(dtype=DataType.DOUBLE, name='CLARITY_OE'),\n",
       "  \t\tFeatureSpec(dtype=DataType.DOUBLE, name='CARAT'),\n",
       "  \t\tFeatureSpec(dtype=DataType.DOUBLE, name='DEPTH'),\n",
       "  \t\tFeatureSpec(dtype=DataType.DOUBLE, name='TABLE_PCT'),\n",
       "  \t\tFeatureSpec(dtype=DataType.DOUBLE, name='X'),\n",
       "  \t\tFeatureSpec(dtype=DataType.DOUBLE, name='Y'),\n",
       "  \t\tFeatureSpec(dtype=DataType.DOUBLE, name='Z'),\n",
       "  \t\tFeatureSpec(dtype=DataType.DOUBLE, name='PREDICTED_PRICE')\n",
       "                      ]\n",
       "                  )}]"
      ]
     },
     "execution_count": 4,
     "metadata": {},
     "output_type": "execute_result"
    }
   ],
   "source": [
    "model = registry.get_model(\"RandomForestRegressor\")\n",
    "mv = model.default\n",
    "print(\"Functions:\"); mv.show_functions()"
   ]
  },
  {
   "cell_type": "markdown",
   "metadata": {},
   "source": [
    "Predict diamond prices"
   ]
  },
  {
   "cell_type": "code",
   "execution_count": 5,
   "metadata": {},
   "outputs": [
    {
     "name": "stdout",
     "output_type": "stream",
     "text": [
      "-------------------------------\n",
      "|\"PRICE\"  |\"PREDICTED_PRICE\"  |\n",
      "-------------------------------\n",
      "|351      |375.35             |\n",
      "|353      |389.05             |\n",
      "|355      |408.83             |\n",
      "|357      |384.73             |\n",
      "|554      |545.08             |\n",
      "|554      |526.33             |\n",
      "|2757     |2804.83            |\n",
      "|2759     |2995.51            |\n",
      "|2759     |2760.89            |\n",
      "|2762     |2918.55            |\n",
      "-------------------------------\n",
      "\n"
     ]
    }
   ],
   "source": [
    "pred = mv.run(test_df)      # function_name='predict'\n",
    "pred.select(\"PRICE\", \"PREDICTED_PRICE\").show()"
   ]
  },
  {
   "cell_type": "markdown",
   "metadata": {},
   "source": [
    "Add MAPE metric"
   ]
  },
  {
   "cell_type": "code",
   "execution_count": 12,
   "metadata": {},
   "outputs": [
    {
     "ename": "SyntaxError",
     "evalue": "invalid syntax (804073422.py, line 1)",
     "output_type": "error",
     "traceback": [
      "\u001b[1;36m  Cell \u001b[1;32mIn[12], line 1\u001b[1;36m\u001b[0m\n\u001b[1;33m    Load cleaned-up 10% test diamonds table dataset\u001b[0m\n\u001b[1;37m         ^\u001b[0m\n\u001b[1;31mSyntaxError\u001b[0m\u001b[1;31m:\u001b[0m invalid syntax\n"
     ]
    }
   ],
   "source": [
    "from snowflake.ml.modeling.metrics import mean_absolute_percentage_error\n",
    "\n",
    "mape = mean_absolute_percentage_error(\n",
    "    df=pred, \n",
    "    y_true_col_names=\"PRICE\", \n",
    "    y_pred_col_names=\"PREDICTED_PRICE\")\n",
    "print(f\"MAPE: {mape}\")\n",
    "\n",
    "#mv.delete_metric(\"MAPE\")\n",
    "#mv.set_metric(\"MAPE\", mape)\n",
    "#mv.show_metrics()"
   ]
  }
 ],
 "metadata": {
  "kernelspec": {
   "display_name": "venv",
   "language": "python",
   "name": "python3"
  },
  "language_info": {
   "codemirror_mode": {
    "name": "ipython",
    "version": 3
   },
   "file_extension": ".py",
   "mimetype": "text/x-python",
   "name": "python",
   "nbconvert_exporter": "python",
   "pygments_lexer": "ipython3",
   "version": "3.9.6"
  }
 },
 "nbformat": 4,
 "nbformat_minor": 2
}
