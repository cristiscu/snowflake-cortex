{
 "cells": [
  {
   "cell_type": "markdown",
   "metadata": {},
   "source": [
    "Connect to Snowflake"
   ]
  },
  {
   "cell_type": "code",
   "execution_count": 1,
   "metadata": {},
   "outputs": [
    {
     "name": "stderr",
     "output_type": "stream",
     "text": [
      "SnowflakeLoginOptions() is in private preview since 0.2.0. Do not use it in production. \n"
     ]
    },
    {
     "name": "stdout",
     "output_type": "stream",
     "text": [
      "[Row(CURRENT_WAREHOUSE()='COMPUTE_WH', CURRENT_DATABASE()='TEST', CURRENT_SCHEMA()='PUBLIC')]\n"
     ]
    }
   ],
   "source": [
    "from snowflake.snowpark import Session\n",
    "from snowflake.ml.utils.connection_params import SnowflakeLoginOptions\n",
    "\n",
    "session = Session.builder.configs(SnowflakeLoginOptions(\"test_conn\")).create()\n",
    "print(session.sql('select current_warehouse(), current_database(), current_schema()').collect())"
   ]
  },
  {
   "cell_type": "markdown",
   "metadata": {},
   "source": [
    "Load Gamma_Telescope table data and split into train/test datasets"
   ]
  },
  {
   "cell_type": "code",
   "execution_count": 2,
   "metadata": {},
   "outputs": [
    {
     "name": "stdout",
     "output_type": "stream",
     "text": [
      "-------------------------------------------------------------------------------------------------------------------------------------\n",
      "|\"F_LENGTH\"  |\"F_WIDTH\"  |\"F_SIZE\"  |\"F_CONC\"  |\"F_CONC1\"  |\"F_ASYM\"  |\"F_M3_LONG\"  |\"F_M3_TRANS\"  |\"F_ALPHA\"  |\"F_DIST\"  |\"LABEL\"  |\n",
      "-------------------------------------------------------------------------------------------------------------------------------------\n",
      "|28.7967     |16.0021    |2.6449    |0.3918    |0.1982     |27.7004   |22.0110      |-8.2027       |40.0920    |81.8828   |1        |\n",
      "|31.6036     |11.7235    |2.5185    |0.5303    |0.3773     |26.2722   |23.8238      |-9.9574       |6.3609     |205.2610  |1        |\n",
      "|162.0520    |136.0310   |4.0612    |0.0374    |0.0187     |116.7410  |-64.8580     |-45.2160      |76.9600    |256.7880  |1        |\n",
      "|23.8172     |9.5728     |2.3385    |0.6147    |0.3922     |27.2107   |-6.4633      |-7.1513       |10.4490    |116.7370  |1        |\n",
      "|75.1362     |30.9205    |3.1611    |0.3168    |0.1832     |-5.5277   |28.5525      |21.8393       |4.6480     |356.4620  |1        |\n",
      "|51.6240     |21.1502    |2.9085    |0.2420    |0.1340     |50.8761   |43.1887      |9.8145        |3.6130     |238.0980  |1        |\n",
      "|48.2468     |17.3565    |3.0332    |0.2529    |0.1515     |8.5730    |38.0957      |10.5868       |4.7920     |219.0870  |1        |\n",
      "|26.7897     |13.7595    |2.5521    |0.4236    |0.2174     |29.6339   |20.4560      |-2.9292       |0.8120     |237.1340  |1        |\n",
      "|96.2327     |46.5165    |4.1540    |0.0779    |0.0390     |110.3550  |85.0486      |43.1844       |4.8540     |248.2260  |1        |\n",
      "|46.7619     |15.1993    |2.5786    |0.3377    |0.1913     |24.7548   |43.8771      |-6.6812       |7.8750     |102.2510  |1        |\n",
      "-------------------------------------------------------------------------------------------------------------------------------------\n",
      "\n"
     ]
    }
   ],
   "source": [
    "query = \"SELECT *, IFF(CLASS='g', 1.0, 0.0) AS LABEL FROM Telescope\"\n",
    "df = session.sql(query).drop(\"CLASS\")\n",
    "train_data, test_data = df.random_split(weights=[0.9, 0.1], seed=0)\n",
    "df.show()"
   ]
  },
  {
   "cell_type": "code",
   "execution_count": 3,
   "metadata": {},
   "outputs": [
    {
     "name": "stderr",
     "output_type": "stream",
     "text": [
      "c:\\Projects\\snowflake-cortex\\venv\\lib\\site-packages\\snowflake\\ml\\_internal\\utils\\snowpark_dataframe_utils.py:88: UserWarning: Warning: The Decimal(38, 4) data type is being automatically converted to DoubleType in the Snowpark DataFrame. This automatic conversion may lead to potential precision loss and rounding errors. If you wish to prevent this conversion, you should manually perform the necessary data type conversion.\n",
      "  warnings.warn(\n",
      "WARNING:snowflake.snowpark.session:The version of package 'snowflake-snowpark-python' in the local environment is 1.14.0, which does not fit the criteria for the requirement 'snowflake-snowpark-python'. Your UDF might not work when the package version is different between the server and your local environment.\n",
      "WARNING:snowflake.snowpark.session:The version of package 'xgboost' in the local environment is 1.7.6, which does not fit the criteria for the requirement 'xgboost==1.7.3'. Your UDF might not work when the package version is different between the server and your local environment.\n"
     ]
    },
    {
     "name": "stdout",
     "output_type": "stream",
     "text": [
      "[07:38:49] WARNING: C:\\buildkite-agent\\builds\\buildkite-windows-cpu-autoscaling-group-i-0fdc6d574b9c0d168-1\\xgboost\\xgboost-ci-windows\\src\\learner.cc:553: \n",
      "  If you are loading a serialized model (like pickle in Python, RDS in R) generated by\n",
      "  older XGBoost, please export the model by calling `Booster.save_model` from that version\n",
      "  first, then load it back in current version. See:\n",
      "\n",
      "    https://xgboost.readthedocs.io/en/latest/tutorials/saving_model.html\n",
      "\n",
      "  for more details about differences between saving model and serializing.\n",
      "\n"
     ]
    },
    {
     "data": {
      "text/plain": [
       "<snowflake.ml.modeling.pipeline.pipeline.Pipeline at 0x19fc42a7be0>"
      ]
     },
     "execution_count": 3,
     "metadata": {},
     "output_type": "execute_result"
    }
   ],
   "source": [
    "from snowflake.ml.modeling.impute import SimpleImputer\n",
    "from snowflake.ml.modeling.preprocessing import StandardScaler\n",
    "from snowflake.ml.modeling.xgboost import XGBClassifier\n",
    "from snowflake.ml.modeling.pipeline import Pipeline\n",
    "\n",
    "COLS = [c for c in train_data.columns if c != \"LABEL\"]\n",
    "model = Pipeline(steps=[\n",
    "    (\"imputer\", SimpleImputer(input_cols=COLS, output_cols=COLS)),\n",
    "    (\"scaler\", StandardScaler(input_cols=COLS, output_cols=COLS)),\n",
    "    (\"clf\", XGBClassifier(input_cols=COLS, label_cols=[\"LABEL\"]))])\n",
    "model.fit(train_data)"
   ]
  },
  {
   "cell_type": "code",
   "execution_count": 4,
   "metadata": {},
   "outputs": [
    {
     "name": "stderr",
     "output_type": "stream",
     "text": [
      "WARNING:snowflake.snowpark.dataframe_na_functions:Input value type doesn't match the target column data type, this replacement was skipped. Column Name: \"F_LENGTH\", Type: DecimalType(38, 4), Input Value: 53.22878054224611, Type: <class 'float'>\n",
      "WARNING:snowflake.snowpark.dataframe_na_functions:Input value type doesn't match the target column data type, this replacement was skipped. Column Name: \"F_WIDTH\", Type: DecimalType(38, 4), Input Value: 22.20939658174594, Type: <class 'float'>\n",
      "WARNING:snowflake.snowpark.dataframe_na_functions:Input value type doesn't match the target column data type, this replacement was skipped. Column Name: \"F_SIZE\", Type: DecimalType(38, 4), Input Value: 2.8258637022320907, Type: <class 'float'>\n",
      "WARNING:snowflake.snowpark.dataframe_na_functions:Input value type doesn't match the target column data type, this replacement was skipped. Column Name: \"F_CONC\", Type: DecimalType(38, 4), Input Value: 0.38007713567839196, Type: <class 'float'>\n",
      "WARNING:snowflake.snowpark.dataframe_na_functions:Input value type doesn't match the target column data type, this replacement was skipped. Column Name: \"F_CONC1\", Type: DecimalType(38, 4), Input Value: 0.21448265747341358, Type: <class 'float'>\n",
      "WARNING:snowflake.snowpark.dataframe_na_functions:Input value type doesn't match the target column data type, this replacement was skipped. Column Name: \"F_ASYM\", Type: DecimalType(38, 4), Input Value: -4.260104253827276, Type: <class 'float'>\n",
      "WARNING:snowflake.snowpark.dataframe_na_functions:Input value type doesn't match the target column data type, this replacement was skipped. Column Name: \"F_M3_LONG\", Type: DecimalType(38, 4), Input Value: 10.778933469673952, Type: <class 'float'>\n",
      "WARNING:snowflake.snowpark.dataframe_na_functions:Input value type doesn't match the target column data type, this replacement was skipped. Column Name: \"F_M3_TRANS\", Type: DecimalType(38, 4), Input Value: 0.17599073273343466, Type: <class 'float'>\n",
      "WARNING:snowflake.snowpark.dataframe_na_functions:Input value type doesn't match the target column data type, this replacement was skipped. Column Name: \"F_ALPHA\", Type: DecimalType(38, 4), Input Value: 27.58854038214327, Type: <class 'float'>\n",
      "WARNING:snowflake.snowpark.dataframe_na_functions:Input value type doesn't match the target column data type, this replacement was skipped. Column Name: \"F_DIST\", Type: DecimalType(38, 4), Input Value: 193.73927421993687, Type: <class 'float'>\n",
      "WARNING:snowflake.snowpark.session:The version of package 'xgboost' in the local environment is 1.7.6, which does not fit the criteria for the requirement 'xgboost==1.7.3'. Your UDF might not work when the package version is different between the server and your local environment.\n",
      "WARNING:snowflake.snowpark.dataframe_na_functions:Input value type doesn't match the target column data type, this replacement was skipped. Column Name: \"F_LENGTH\", Type: DecimalType(38, 4), Input Value: 53.22878054224611, Type: <class 'float'>\n",
      "WARNING:snowflake.snowpark.dataframe_na_functions:Input value type doesn't match the target column data type, this replacement was skipped. Column Name: \"F_WIDTH\", Type: DecimalType(38, 4), Input Value: 22.20939658174594, Type: <class 'float'>\n",
      "WARNING:snowflake.snowpark.dataframe_na_functions:Input value type doesn't match the target column data type, this replacement was skipped. Column Name: \"F_SIZE\", Type: DecimalType(38, 4), Input Value: 2.8258637022320907, Type: <class 'float'>\n"
     ]
    },
    {
     "name": "stdout",
     "output_type": "stream",
     "text": [
      "Training accuracy: 0.962837\n"
     ]
    },
    {
     "name": "stderr",
     "output_type": "stream",
     "text": [
      "WARNING:snowflake.snowpark.dataframe_na_functions:Input value type doesn't match the target column data type, this replacement was skipped. Column Name: \"F_CONC\", Type: DecimalType(38, 4), Input Value: 0.38007713567839196, Type: <class 'float'>\n",
      "WARNING:snowflake.snowpark.dataframe_na_functions:Input value type doesn't match the target column data type, this replacement was skipped. Column Name: \"F_CONC1\", Type: DecimalType(38, 4), Input Value: 0.21448265747341358, Type: <class 'float'>\n",
      "WARNING:snowflake.snowpark.dataframe_na_functions:Input value type doesn't match the target column data type, this replacement was skipped. Column Name: \"F_ASYM\", Type: DecimalType(38, 4), Input Value: -4.260104253827276, Type: <class 'float'>\n",
      "WARNING:snowflake.snowpark.dataframe_na_functions:Input value type doesn't match the target column data type, this replacement was skipped. Column Name: \"F_M3_LONG\", Type: DecimalType(38, 4), Input Value: 10.778933469673952, Type: <class 'float'>\n",
      "WARNING:snowflake.snowpark.dataframe_na_functions:Input value type doesn't match the target column data type, this replacement was skipped. Column Name: \"F_M3_TRANS\", Type: DecimalType(38, 4), Input Value: 0.17599073273343466, Type: <class 'float'>\n",
      "WARNING:snowflake.snowpark.dataframe_na_functions:Input value type doesn't match the target column data type, this replacement was skipped. Column Name: \"F_ALPHA\", Type: DecimalType(38, 4), Input Value: 27.58854038214327, Type: <class 'float'>\n",
      "WARNING:snowflake.snowpark.dataframe_na_functions:Input value type doesn't match the target column data type, this replacement was skipped. Column Name: \"F_DIST\", Type: DecimalType(38, 4), Input Value: 193.73927421993687, Type: <class 'float'>\n",
      "WARNING:snowflake.snowpark.session:The version of package 'xgboost' in the local environment is 1.7.6, which does not fit the criteria for the requirement 'xgboost==1.7.3'. Your UDF might not work when the package version is different between the server and your local environment.\n"
     ]
    },
    {
     "name": "stdout",
     "output_type": "stream",
     "text": [
      "Eval accuracy: 0.878279\n"
     ]
    }
   ],
   "source": [
    "from snowflake.ml.modeling.metrics import accuracy_score\n",
    "\n",
    "train_data_pred = model.predict(train_data)\n",
    "training_accuracy = accuracy_score(\n",
    "    df=train_data_pred, \n",
    "    y_true_col_names=[\"LABEL\"], \n",
    "    y_pred_col_names=[\"OUTPUT_LABEL\"])\n",
    "print(f\"Training accuracy: {training_accuracy}\")\n",
    "\n",
    "test_data_pred = model.predict(test_data)\n",
    "eval_accuracy = accuracy_score(\n",
    "    df=test_data_pred, \n",
    "    y_true_col_names=[\"LABEL\"], \n",
    "    y_pred_col_names=[\"OUTPUT_LABEL\"])\n",
    "print(f\"Eval accuracy: {eval_accuracy}\")"
   ]
  }
 ],
 "metadata": {
  "kernelspec": {
   "display_name": "venv",
   "language": "python",
   "name": "python3"
  },
  "language_info": {
   "codemirror_mode": {
    "name": "ipython",
    "version": 3
   },
   "file_extension": ".py",
   "mimetype": "text/x-python",
   "name": "python",
   "nbconvert_exporter": "python",
   "pygments_lexer": "ipython3",
   "version": "3.9.6"
  }
 },
 "nbformat": 4,
 "nbformat_minor": 2
}
