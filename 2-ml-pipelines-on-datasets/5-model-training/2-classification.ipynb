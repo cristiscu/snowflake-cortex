{
 "cells": [
  {
   "cell_type": "code",
   "execution_count": 2,
   "metadata": {},
   "outputs": [
    {
     "data": {
      "text/plain": [
       "(         LENGTH     WIDTH    SIZE    CONC   CONC1      ASYM   M3_LONG  \\\n",
       " 0       28.7967   16.0021  2.6449  0.3918  0.1982   27.7004   22.0110   \n",
       " 1       31.6036   11.7235  2.5185  0.5303  0.3773   26.2722   23.8238   \n",
       " 2      162.0520  136.0310  4.0612  0.0374  0.0187  116.7410  -64.8580   \n",
       " 3       23.8172    9.5728  2.3385  0.6147  0.3922   27.2107   -6.4633   \n",
       " 4       75.1362   30.9205  3.1611  0.3168  0.1832   -5.5277   28.5525   \n",
       " ...         ...       ...     ...     ...     ...       ...       ...   \n",
       " 19015   21.3846   10.9170  2.6161  0.5857  0.3934   15.2618   11.5245   \n",
       " 19016   28.9452    6.7020  2.2672  0.5351  0.2784   37.0816   13.1853   \n",
       " 19017   75.4455   47.5305  3.4483  0.1417  0.0549   -9.3561   41.0562   \n",
       " 19018  120.5135   76.9018  3.9939  0.0944  0.0683    5.8043  -93.5224   \n",
       " 19019  187.1814   53.0014  3.2093  0.2876  0.1539 -167.3125 -168.4558   \n",
       " \n",
       "        M3_TRANS    ALPHA      DIST  \n",
       " 0       -8.2027  40.0920   81.8828  \n",
       " 1       -9.9574   6.3609  205.2610  \n",
       " 2      -45.2160  76.9600  256.7880  \n",
       " 3       -7.1513  10.4490  116.7370  \n",
       " 4       21.8393   4.6480  356.4620  \n",
       " ...         ...      ...       ...  \n",
       " 19015    2.8766   2.4229  106.8258  \n",
       " 19016   -2.9632  86.7975  247.4560  \n",
       " 19017   -9.4662  30.2987  256.5166  \n",
       " 19018  -63.8389  84.6874  408.3166  \n",
       " 19019   31.4755  52.7310  272.3174  \n",
       " \n",
       " [19020 rows x 10 columns],\n",
       " 0         True\n",
       " 1         True\n",
       " 2         True\n",
       " 3         True\n",
       " 4         True\n",
       "          ...  \n",
       " 19015    False\n",
       " 19016    False\n",
       " 19017    False\n",
       " 19018    False\n",
       " 19019    False\n",
       " Name: CLASS, Length: 19020, dtype: bool)"
      ]
     },
     "execution_count": 2,
     "metadata": {},
     "output_type": "execute_result"
    }
   ],
   "source": [
    "import pandas as pd\n",
    "\n",
    "COLS=['LENGTH', 'WIDTH', 'SIZE', 'CONC', 'CONC1',\n",
    "    'ASYM', 'M3_LONG', 'M3_TRANS', 'ALPHA', 'DIST', 'CLASS']\n",
    "X = pd.read_csv(\"..\\..\\.spool\\telescope2.csv\", names=COLS, header=None)\n",
    "\n",
    "y = X['CLASS'] == 'g'\n",
    "X = X.drop(columns=['CLASS'])\n",
    "X, y"
   ]
  },
  {
   "cell_type": "code",
   "execution_count": 3,
   "metadata": {},
   "outputs": [
    {
     "data": {
      "text/plain": [
       "(        LENGTH    WIDTH    SIZE    CONC   CONC1     ASYM  M3_LONG  M3_TRANS  \\\n",
       " 6577   84.5375  31.1777  3.4894  0.1478  0.0744  21.4084  68.4071    4.6755   \n",
       " 11192  37.0734  19.0059  2.9006  0.2313  0.1201   4.5659  22.9140   -9.0980   \n",
       " 11353  46.7704  22.2937  3.2443  0.2450  0.1256  55.6421  40.0464  -18.1843   \n",
       " 6593   86.8639  21.8827  2.6320  0.4597  0.2672 -83.7883  30.8593    2.0393   \n",
       " 8550   24.4071   9.7823  2.4158  0.5067  0.3013  16.9043 -14.8797    4.8608   \n",
       " ...        ...      ...     ...     ...     ...      ...      ...       ...   \n",
       " 9225   34.7527  16.3799  2.6212  0.2703  0.1376  21.9455  23.6607    7.2786   \n",
       " 13123  40.7440  16.0635  2.8145  0.3108  0.1668  15.8622  36.5069   -6.2138   \n",
       " 9845   35.8286  16.8952  2.8802  0.3070  0.1746  38.7674  17.2509   11.3048   \n",
       " 10799  20.0986  12.8671  2.4057  0.4558  0.2417  11.5039   9.7434    7.8750   \n",
       " 2732   27.2726  12.6129  2.7288  0.3978  0.2512 -10.4679 -17.5545   -9.9008   \n",
       " \n",
       "          ALPHA      DIST  \n",
       " 6577    6.7811  239.0400  \n",
       " 11192  20.7994  183.3890  \n",
       " 11353   3.2717  163.5200  \n",
       " 6593    2.0243  257.1210  \n",
       " 8550   15.6776  104.5760  \n",
       " ...        ...       ...  \n",
       " 9225   16.5306  158.1200  \n",
       " 13123  13.3971  284.7751  \n",
       " 9845    0.4720  234.8680  \n",
       " 10799  21.6750  212.0980  \n",
       " 2732    3.7890  185.4310  \n",
       " \n",
       " [17118 rows x 10 columns],\n",
       "         LENGTH    WIDTH    SIZE    CONC   CONC1     ASYM  M3_LONG  M3_TRANS  \\\n",
       " 18152  17.1822  15.8933  2.4093  0.6648  0.3864 -16.4698  -3.1572   -3.9904   \n",
       " 2571   33.7228  18.2951  3.0639  0.2676  0.1394  32.5576  18.3456   -4.4196   \n",
       " 12202  61.3737  21.3660  3.2621  0.1816  0.1053  -2.9857  31.7738  -12.2608   \n",
       " 4508   20.0044  11.0652  2.2788  0.6737  0.4500  13.7202  19.7044   -9.9991   \n",
       " 14903  21.2509  10.8657  2.1847  0.5686  0.2843  14.7015  17.9440    7.8355   \n",
       " ...        ...      ...     ...     ...     ...      ...      ...       ...   \n",
       " 4545   90.3632  29.9861  3.3990  0.1421  0.0732  21.1646  82.8020   21.3961   \n",
       " 11305  92.3969  32.0819  3.6056  0.2118  0.1154  -1.3479 -15.8949  -20.5296   \n",
       " 16613  16.6052  12.8367  2.4523  0.5075  0.2840 -23.7905  -6.9747    9.1413   \n",
       " 1644   27.4308  15.3788  2.6618  0.4423  0.2625   1.7847  -8.6385   -9.8991   \n",
       " 13699  29.1262   0.0000  2.4757  0.6488  0.3328  12.0398  12.6340   -0.0001   \n",
       " \n",
       "          ALPHA      DIST  \n",
       " 18152  66.9122   61.0713  \n",
       " 2571   11.0782   94.1792  \n",
       " 12202   0.9761  236.9240  \n",
       " 4508   59.4730  197.5840  \n",
       " 14903   7.1820  123.8400  \n",
       " ...        ...       ...  \n",
       " 4545    3.8010  259.7330  \n",
       " 11305   2.9756  340.2600  \n",
       " 16613  37.2097  116.5518  \n",
       " 1644    9.3801  218.1190  \n",
       " 13699  70.8840  219.9770  \n",
       " \n",
       " [1902 rows x 10 columns],\n",
       " 6577      True\n",
       " 11192     True\n",
       " 11353     True\n",
       " 6593      True\n",
       " 8550      True\n",
       "          ...  \n",
       " 9225      True\n",
       " 13123    False\n",
       " 9845      True\n",
       " 10799     True\n",
       " 2732      True\n",
       " Name: CLASS, Length: 17118, dtype: bool,\n",
       " 18152    False\n",
       " 2571      True\n",
       " 12202     True\n",
       " 4508      True\n",
       " 14903    False\n",
       "          ...  \n",
       " 4545      True\n",
       " 11305     True\n",
       " 16613    False\n",
       " 1644      True\n",
       " 13699    False\n",
       " Name: CLASS, Length: 1902, dtype: bool)"
      ]
     },
     "execution_count": 3,
     "metadata": {},
     "output_type": "execute_result"
    }
   ],
   "source": [
    "from sklearn.model_selection import train_test_split\n",
    "\n",
    "X_train, X_test, y_train, y_test = train_test_split(X, y, test_size=0.1, random_state=0)\n",
    "X_train, X_test, y_train, y_test"
   ]
  },
  {
   "cell_type": "code",
   "execution_count": 6,
   "metadata": {},
   "outputs": [
    {
     "data": {
      "text/html": [
       "<style>#sk-container-id-2 {color: black;}#sk-container-id-2 pre{padding: 0;}#sk-container-id-2 div.sk-toggleable {background-color: white;}#sk-container-id-2 label.sk-toggleable__label {cursor: pointer;display: block;width: 100%;margin-bottom: 0;padding: 0.3em;box-sizing: border-box;text-align: center;}#sk-container-id-2 label.sk-toggleable__label-arrow:before {content: \"▸\";float: left;margin-right: 0.25em;color: #696969;}#sk-container-id-2 label.sk-toggleable__label-arrow:hover:before {color: black;}#sk-container-id-2 div.sk-estimator:hover label.sk-toggleable__label-arrow:before {color: black;}#sk-container-id-2 div.sk-toggleable__content {max-height: 0;max-width: 0;overflow: hidden;text-align: left;background-color: #f0f8ff;}#sk-container-id-2 div.sk-toggleable__content pre {margin: 0.2em;color: black;border-radius: 0.25em;background-color: #f0f8ff;}#sk-container-id-2 input.sk-toggleable__control:checked~div.sk-toggleable__content {max-height: 200px;max-width: 100%;overflow: auto;}#sk-container-id-2 input.sk-toggleable__control:checked~label.sk-toggleable__label-arrow:before {content: \"▾\";}#sk-container-id-2 div.sk-estimator input.sk-toggleable__control:checked~label.sk-toggleable__label {background-color: #d4ebff;}#sk-container-id-2 div.sk-label input.sk-toggleable__control:checked~label.sk-toggleable__label {background-color: #d4ebff;}#sk-container-id-2 input.sk-hidden--visually {border: 0;clip: rect(1px 1px 1px 1px);clip: rect(1px, 1px, 1px, 1px);height: 1px;margin: -1px;overflow: hidden;padding: 0;position: absolute;width: 1px;}#sk-container-id-2 div.sk-estimator {font-family: monospace;background-color: #f0f8ff;border: 1px dotted black;border-radius: 0.25em;box-sizing: border-box;margin-bottom: 0.5em;}#sk-container-id-2 div.sk-estimator:hover {background-color: #d4ebff;}#sk-container-id-2 div.sk-parallel-item::after {content: \"\";width: 100%;border-bottom: 1px solid gray;flex-grow: 1;}#sk-container-id-2 div.sk-label:hover label.sk-toggleable__label {background-color: #d4ebff;}#sk-container-id-2 div.sk-serial::before {content: \"\";position: absolute;border-left: 1px solid gray;box-sizing: border-box;top: 0;bottom: 0;left: 50%;z-index: 0;}#sk-container-id-2 div.sk-serial {display: flex;flex-direction: column;align-items: center;background-color: white;padding-right: 0.2em;padding-left: 0.2em;position: relative;}#sk-container-id-2 div.sk-item {position: relative;z-index: 1;}#sk-container-id-2 div.sk-parallel {display: flex;align-items: stretch;justify-content: center;background-color: white;position: relative;}#sk-container-id-2 div.sk-item::before, #sk-container-id-2 div.sk-parallel-item::before {content: \"\";position: absolute;border-left: 1px solid gray;box-sizing: border-box;top: 0;bottom: 0;left: 50%;z-index: -1;}#sk-container-id-2 div.sk-parallel-item {display: flex;flex-direction: column;z-index: 1;position: relative;background-color: white;}#sk-container-id-2 div.sk-parallel-item:first-child::after {align-self: flex-end;width: 50%;}#sk-container-id-2 div.sk-parallel-item:last-child::after {align-self: flex-start;width: 50%;}#sk-container-id-2 div.sk-parallel-item:only-child::after {width: 0;}#sk-container-id-2 div.sk-dashed-wrapped {border: 1px dashed gray;margin: 0 0.4em 0.5em 0.4em;box-sizing: border-box;padding-bottom: 0.4em;background-color: white;}#sk-container-id-2 div.sk-label label {font-family: monospace;font-weight: bold;display: inline-block;line-height: 1.2em;}#sk-container-id-2 div.sk-label-container {text-align: center;}#sk-container-id-2 div.sk-container {/* jupyter's `normalize.less` sets `[hidden] { display: none; }` but bootstrap.min.css set `[hidden] { display: none !important; }` so we also need the `!important` here to be able to override the default hidden behavior on the sphinx rendered scikit-learn.org. See: https://github.com/scikit-learn/scikit-learn/issues/21755 */display: inline-block !important;position: relative;}#sk-container-id-2 div.sk-text-repr-fallback {display: none;}</style><div id=\"sk-container-id-2\" class=\"sk-top-container\"><div class=\"sk-text-repr-fallback\"><pre>Pipeline(steps=[(&#x27;imputer&#x27;, SimpleImputer()), (&#x27;scaler&#x27;, StandardScaler()),\n",
       "                (&#x27;clf&#x27;,\n",
       "                 XGBClassifier(base_score=None, booster=None, callbacks=None,\n",
       "                               colsample_bylevel=None, colsample_bynode=None,\n",
       "                               colsample_bytree=None,\n",
       "                               early_stopping_rounds=None,\n",
       "                               enable_categorical=False, eval_metric=None,\n",
       "                               feature_types=None, gamma=None, gpu_id=None,\n",
       "                               grow_policy=None, importance_type=None,\n",
       "                               interaction_constraints=None, learning_rate=None,\n",
       "                               max_bin=None, max_cat_threshold=None,\n",
       "                               max_cat_to_onehot=None, max_delta_step=None,\n",
       "                               max_depth=None, max_leaves=None,\n",
       "                               min_child_weight=None, missing=nan,\n",
       "                               monotone_constraints=None, n_estimators=100,\n",
       "                               n_jobs=None, num_parallel_tree=None,\n",
       "                               predictor=None, random_state=None, ...))])</pre><b>In a Jupyter environment, please rerun this cell to show the HTML representation or trust the notebook. <br />On GitHub, the HTML representation is unable to render, please try loading this page with nbviewer.org.</b></div><div class=\"sk-container\" hidden><div class=\"sk-item sk-dashed-wrapped\"><div class=\"sk-label-container\"><div class=\"sk-label sk-toggleable\"><input class=\"sk-toggleable__control sk-hidden--visually\" id=\"sk-estimator-id-5\" type=\"checkbox\" ><label for=\"sk-estimator-id-5\" class=\"sk-toggleable__label sk-toggleable__label-arrow\">Pipeline</label><div class=\"sk-toggleable__content\"><pre>Pipeline(steps=[(&#x27;imputer&#x27;, SimpleImputer()), (&#x27;scaler&#x27;, StandardScaler()),\n",
       "                (&#x27;clf&#x27;,\n",
       "                 XGBClassifier(base_score=None, booster=None, callbacks=None,\n",
       "                               colsample_bylevel=None, colsample_bynode=None,\n",
       "                               colsample_bytree=None,\n",
       "                               early_stopping_rounds=None,\n",
       "                               enable_categorical=False, eval_metric=None,\n",
       "                               feature_types=None, gamma=None, gpu_id=None,\n",
       "                               grow_policy=None, importance_type=None,\n",
       "                               interaction_constraints=None, learning_rate=None,\n",
       "                               max_bin=None, max_cat_threshold=None,\n",
       "                               max_cat_to_onehot=None, max_delta_step=None,\n",
       "                               max_depth=None, max_leaves=None,\n",
       "                               min_child_weight=None, missing=nan,\n",
       "                               monotone_constraints=None, n_estimators=100,\n",
       "                               n_jobs=None, num_parallel_tree=None,\n",
       "                               predictor=None, random_state=None, ...))])</pre></div></div></div><div class=\"sk-serial\"><div class=\"sk-item\"><div class=\"sk-estimator sk-toggleable\"><input class=\"sk-toggleable__control sk-hidden--visually\" id=\"sk-estimator-id-6\" type=\"checkbox\" ><label for=\"sk-estimator-id-6\" class=\"sk-toggleable__label sk-toggleable__label-arrow\">SimpleImputer</label><div class=\"sk-toggleable__content\"><pre>SimpleImputer()</pre></div></div></div><div class=\"sk-item\"><div class=\"sk-estimator sk-toggleable\"><input class=\"sk-toggleable__control sk-hidden--visually\" id=\"sk-estimator-id-7\" type=\"checkbox\" ><label for=\"sk-estimator-id-7\" class=\"sk-toggleable__label sk-toggleable__label-arrow\">StandardScaler</label><div class=\"sk-toggleable__content\"><pre>StandardScaler()</pre></div></div></div><div class=\"sk-item\"><div class=\"sk-estimator sk-toggleable\"><input class=\"sk-toggleable__control sk-hidden--visually\" id=\"sk-estimator-id-8\" type=\"checkbox\" ><label for=\"sk-estimator-id-8\" class=\"sk-toggleable__label sk-toggleable__label-arrow\">XGBClassifier</label><div class=\"sk-toggleable__content\"><pre>XGBClassifier(base_score=None, booster=None, callbacks=None,\n",
       "              colsample_bylevel=None, colsample_bynode=None,\n",
       "              colsample_bytree=None, early_stopping_rounds=None,\n",
       "              enable_categorical=False, eval_metric=None, feature_types=None,\n",
       "              gamma=None, gpu_id=None, grow_policy=None, importance_type=None,\n",
       "              interaction_constraints=None, learning_rate=None, max_bin=None,\n",
       "              max_cat_threshold=None, max_cat_to_onehot=None,\n",
       "              max_delta_step=None, max_depth=None, max_leaves=None,\n",
       "              min_child_weight=None, missing=nan, monotone_constraints=None,\n",
       "              n_estimators=100, n_jobs=None, num_parallel_tree=None,\n",
       "              predictor=None, random_state=None, ...)</pre></div></div></div></div></div></div></div>"
      ],
      "text/plain": [
       "Pipeline(steps=[('imputer', SimpleImputer()), ('scaler', StandardScaler()),\n",
       "                ('clf',\n",
       "                 XGBClassifier(base_score=None, booster=None, callbacks=None,\n",
       "                               colsample_bylevel=None, colsample_bynode=None,\n",
       "                               colsample_bytree=None,\n",
       "                               early_stopping_rounds=None,\n",
       "                               enable_categorical=False, eval_metric=None,\n",
       "                               feature_types=None, gamma=None, gpu_id=None,\n",
       "                               grow_policy=None, importance_type=None,\n",
       "                               interaction_constraints=None, learning_rate=None,\n",
       "                               max_bin=None, max_cat_threshold=None,\n",
       "                               max_cat_to_onehot=None, max_delta_step=None,\n",
       "                               max_depth=None, max_leaves=None,\n",
       "                               min_child_weight=None, missing=nan,\n",
       "                               monotone_constraints=None, n_estimators=100,\n",
       "                               n_jobs=None, num_parallel_tree=None,\n",
       "                               predictor=None, random_state=None, ...))])"
      ]
     },
     "execution_count": 6,
     "metadata": {},
     "output_type": "execute_result"
    }
   ],
   "source": [
    "from sklearn.impute import SimpleImputer\n",
    "from sklearn.preprocessing import StandardScaler\n",
    "from xgboost import XGBClassifier\n",
    "from sklearn.pipeline import Pipeline\n",
    "\n",
    "model = Pipeline([\n",
    "    (\"imputer\", SimpleImputer()),\n",
    "    (\"scaler\", StandardScaler()),\n",
    "    (\"clf\", XGBClassifier())])\n",
    "model.fit(X_train, y_train)\n",
    "model"
   ]
  },
  {
   "cell_type": "code",
   "execution_count": 10,
   "metadata": {},
   "outputs": [
    {
     "name": "stdout",
     "output_type": "stream",
     "text": [
      "Training accuracy: 0.9628461268839817\n",
      "Eval accuracy: 0.8796004206098843\n"
     ]
    }
   ],
   "source": [
    "training_accuracy = model.score(X_train, y_train)\n",
    "# = accuracy_score(y_train, model.predict(X_train))\n",
    "print(f\"Training accuracy: {training_accuracy}\")\n",
    "\n",
    "eval_accuracy = model.score(X_test, y_test)\n",
    "# accuracy_score(y_test, model.predict(X_test))\n",
    "print(f\"Eval accuracy: {eval_accuracy}\")"
   ]
  }
 ],
 "metadata": {
  "kernelspec": {
   "display_name": "Python 3",
   "language": "python",
   "name": "python3"
  },
  "language_info": {
   "codemirror_mode": {
    "name": "ipython",
    "version": 3
   },
   "file_extension": ".py",
   "mimetype": "text/x-python",
   "name": "python",
   "nbconvert_exporter": "python",
   "pygments_lexer": "ipython3",
   "version": "3.9.6"
  }
 },
 "nbformat": 4,
 "nbformat_minor": 2
}
