{
 "cells": [
  {
   "cell_type": "code",
   "execution_count": 1,
   "metadata": {},
   "outputs": [],
   "source": [
    "import pandas as pd\n",
    "from sklearn.datasets import make_classification\n",
    "from sklearn.model_selection import GridSearchCV, RandomizedSearchCV\n",
    "from xgboost import XGBClassifier"
   ]
  },
  {
   "cell_type": "markdown",
   "metadata": {},
   "source": [
    "Make 20K random samples for classification"
   ]
  },
  {
   "cell_type": "code",
   "execution_count": 2,
   "metadata": {},
   "outputs": [
    {
     "data": {
      "text/plain": [
       "(             X1        X2        X3        X4        X5        X6\n",
       " 0      0.294746  1.495717  1.302720 -1.345010  0.479917  0.439403\n",
       " 1      1.215171  1.581750 -0.812745  1.747872 -1.253870  0.278178\n",
       " 2      2.142549 -0.408630 -0.837329 -0.625856 -0.525033 -1.399407\n",
       " 3     -1.235311 -0.496558  1.366129 -0.082971 -0.916224 -0.135516\n",
       " 4     -0.512206 -0.585146 -1.043216 -1.024099 -1.571402  0.817799\n",
       " ...         ...       ...       ...       ...       ...       ...\n",
       " 19995 -1.129966 -1.196311 -0.465549  2.006302  0.055211  0.360194\n",
       " 19996 -1.988456  2.431868 -0.704884 -0.051441  0.284882  0.425476\n",
       " 19997  0.648715 -3.079677 -0.349184  1.059276 -1.451799  2.245202\n",
       " 19998  0.489563 -1.222035 -0.700792  0.019612 -1.817856 -0.440240\n",
       " 19999  0.457218  0.751796 -0.446726 -1.092428 -0.331496  1.092609\n",
       " \n",
       " [20000 rows x 6 columns],\n",
       "        Y\n",
       " 0      1\n",
       " 1      1\n",
       " 2      0\n",
       " 3      0\n",
       " 4      1\n",
       " ...   ..\n",
       " 19995  1\n",
       " 19996  1\n",
       " 19997  0\n",
       " 19998  0\n",
       " 19999  1\n",
       " \n",
       " [20000 rows x 1 columns])"
      ]
     },
     "execution_count": 2,
     "metadata": {},
     "output_type": "execute_result"
    }
   ],
   "source": [
    "X, y = make_classification(n_samples=20000, n_features=6,\n",
    "    n_informative=2, n_redundant=0, random_state=0, shuffle=True)\n",
    "X = pd.DataFrame(X, columns=[\"X1\", \"X2\", \"X3\", \"X4\", \"X5\", \"X6\"])\n",
    "y = pd.DataFrame(y, columns=[\"Y\"])\n",
    "X, y"
   ]
  },
  {
   "cell_type": "markdown",
   "metadata": {},
   "source": [
    "With Grid Search + XGB Classifier"
   ]
  },
  {
   "cell_type": "code",
   "execution_count": 3,
   "metadata": {},
   "outputs": [
    {
     "name": "stdout",
     "output_type": "stream",
     "text": [
      "Fitting 3 folds for each of 6 candidates, totalling 18 fits\n",
      "[CV 1/3; 1/6] START learning_rate=0.01, n_estimators=10.........................\n",
      "[CV 1/3; 1/6] END learning_rate=0.01, n_estimators=10;, score=0.876 total time=   0.3s\n",
      "[CV 2/3; 1/6] START learning_rate=0.01, n_estimators=10.........................\n",
      "[CV 2/3; 1/6] END learning_rate=0.01, n_estimators=10;, score=0.876 total time=   0.3s\n",
      "[CV 3/3; 1/6] START learning_rate=0.01, n_estimators=10.........................\n",
      "[CV 3/3; 1/6] END learning_rate=0.01, n_estimators=10;, score=0.877 total time=   0.4s\n",
      "[CV 1/3; 2/6] START learning_rate=0.01, n_estimators=50.........................\n",
      "[CV 1/3; 2/6] END learning_rate=0.01, n_estimators=50;, score=0.883 total time=   2.5s\n",
      "[CV 2/3; 2/6] START learning_rate=0.01, n_estimators=50.........................\n",
      "[CV 2/3; 2/6] END learning_rate=0.01, n_estimators=50;, score=0.880 total time=   2.9s\n",
      "[CV 3/3; 2/6] START learning_rate=0.01, n_estimators=50.........................\n",
      "[CV 3/3; 2/6] END learning_rate=0.01, n_estimators=50;, score=0.887 total time=   1.8s\n",
      "[CV 1/3; 3/6] START learning_rate=0.1, n_estimators=10..........................\n",
      "[CV 1/3; 3/6] END learning_rate=0.1, n_estimators=10;, score=0.885 total time=   0.3s\n",
      "[CV 2/3; 3/6] START learning_rate=0.1, n_estimators=10..........................\n",
      "[CV 2/3; 3/6] END learning_rate=0.1, n_estimators=10;, score=0.883 total time=   0.4s\n",
      "[CV 3/3; 3/6] START learning_rate=0.1, n_estimators=10..........................\n",
      "[CV 3/3; 3/6] END learning_rate=0.1, n_estimators=10;, score=0.890 total time=   0.1s\n",
      "[CV 1/3; 4/6] START learning_rate=0.1, n_estimators=50..........................\n",
      "[CV 1/3; 4/6] END learning_rate=0.1, n_estimators=50;, score=0.894 total time=   1.3s\n",
      "[CV 2/3; 4/6] START learning_rate=0.1, n_estimators=50..........................\n",
      "[CV 2/3; 4/6] END learning_rate=0.1, n_estimators=50;, score=0.888 total time=   1.3s\n",
      "[CV 3/3; 4/6] START learning_rate=0.1, n_estimators=50..........................\n",
      "[CV 3/3; 4/6] END learning_rate=0.1, n_estimators=50;, score=0.891 total time=   1.3s\n",
      "[CV 1/3; 5/6] START learning_rate=0.2, n_estimators=10..........................\n",
      "[CV 1/3; 5/6] END learning_rate=0.2, n_estimators=10;, score=0.889 total time=   0.2s\n",
      "[CV 2/3; 5/6] START learning_rate=0.2, n_estimators=10..........................\n",
      "[CV 2/3; 5/6] END learning_rate=0.2, n_estimators=10;, score=0.887 total time=   0.2s\n",
      "[CV 3/3; 5/6] START learning_rate=0.2, n_estimators=10..........................\n",
      "[CV 3/3; 5/6] END learning_rate=0.2, n_estimators=10;, score=0.892 total time=   0.3s\n",
      "[CV 1/3; 6/6] START learning_rate=0.2, n_estimators=50..........................\n",
      "[CV 1/3; 6/6] END learning_rate=0.2, n_estimators=50;, score=0.890 total time=   1.1s\n",
      "[CV 2/3; 6/6] START learning_rate=0.2, n_estimators=50..........................\n",
      "[CV 2/3; 6/6] END learning_rate=0.2, n_estimators=50;, score=0.888 total time=   1.5s\n",
      "[CV 3/3; 6/6] START learning_rate=0.2, n_estimators=50..........................\n",
      "[CV 3/3; 6/6] END learning_rate=0.2, n_estimators=50;, score=0.892 total time=   1.3s\n",
      "Best params: {'learning_rate': 0.1, 'n_estimators': 50}\n",
      "Best score: 0.8907499944534726\n"
     ]
    }
   ],
   "source": [
    "# 4 x 3 x 3 x 3 x 3 (cv) = 324 combinations\n",
    "clf = GridSearchCV(\n",
    "    estimator=XGBClassifier(),\n",
    "    param_grid=dict(\n",
    "        n_estimators=[10, 50],\n",
    "        learning_rate=[0.01, 0.1, 0.2]),\n",
    "    cv=3,\n",
    "    verbose=10)\n",
    "clf.fit(X, y)\n",
    "\n",
    "print(\"Best params:\", clf.best_params_)\n",
    "print(\"Best score:\", clf.best_score_)"
   ]
  },
  {
   "cell_type": "markdown",
   "metadata": {},
   "source": [
    "With Random Search + XGB Classifier"
   ]
  },
  {
   "cell_type": "code",
   "execution_count": 4,
   "metadata": {},
   "outputs": [
    {
     "name": "stdout",
     "output_type": "stream",
     "text": [
      "Fitting 3 folds for each of 10 candidates, totalling 30 fits\n",
      "[CV 1/3; 1/10] START colsample_bytree=0.4, gamma=0.1, learning_rate=0.05, max_depth=5, min_child_weight=3\n",
      "[CV 1/3; 1/10] END colsample_bytree=0.4, gamma=0.1, learning_rate=0.05, max_depth=5, min_child_weight=3;, score=0.870 total time=   1.3s\n",
      "[CV 2/3; 1/10] START colsample_bytree=0.4, gamma=0.1, learning_rate=0.05, max_depth=5, min_child_weight=3\n",
      "[CV 2/3; 1/10] END colsample_bytree=0.4, gamma=0.1, learning_rate=0.05, max_depth=5, min_child_weight=3;, score=0.863 total time=   1.3s\n",
      "[CV 3/3; 1/10] START colsample_bytree=0.4, gamma=0.1, learning_rate=0.05, max_depth=5, min_child_weight=3\n",
      "[CV 3/3; 1/10] END colsample_bytree=0.4, gamma=0.1, learning_rate=0.05, max_depth=5, min_child_weight=3;, score=0.866 total time=   1.1s\n",
      "[CV 1/3; 2/10] START colsample_bytree=0.3, gamma=0.4, learning_rate=0.1, max_depth=3, min_child_weight=7\n",
      "[CV 1/3; 2/10] END colsample_bytree=0.3, gamma=0.4, learning_rate=0.1, max_depth=3, min_child_weight=7;, score=0.856 total time=   0.6s\n",
      "[CV 2/3; 2/10] START colsample_bytree=0.3, gamma=0.4, learning_rate=0.1, max_depth=3, min_child_weight=7\n",
      "[CV 2/3; 2/10] END colsample_bytree=0.3, gamma=0.4, learning_rate=0.1, max_depth=3, min_child_weight=7;, score=0.843 total time=   0.7s\n",
      "[CV 3/3; 2/10] START colsample_bytree=0.3, gamma=0.4, learning_rate=0.1, max_depth=3, min_child_weight=7\n",
      "[CV 3/3; 2/10] END colsample_bytree=0.3, gamma=0.4, learning_rate=0.1, max_depth=3, min_child_weight=7;, score=0.845 total time=   0.6s\n",
      "[CV 1/3; 3/10] START colsample_bytree=0.3, gamma=0.4, learning_rate=0.05, max_depth=6, min_child_weight=3\n",
      "[CV 1/3; 3/10] END colsample_bytree=0.3, gamma=0.4, learning_rate=0.05, max_depth=6, min_child_weight=3;, score=0.850 total time=   1.2s\n",
      "[CV 2/3; 3/10] START colsample_bytree=0.3, gamma=0.4, learning_rate=0.05, max_depth=6, min_child_weight=3\n",
      "[CV 2/3; 3/10] END colsample_bytree=0.3, gamma=0.4, learning_rate=0.05, max_depth=6, min_child_weight=3;, score=0.843 total time=   1.1s\n",
      "[CV 3/3; 3/10] START colsample_bytree=0.3, gamma=0.4, learning_rate=0.05, max_depth=6, min_child_weight=3\n",
      "[CV 3/3; 3/10] END colsample_bytree=0.3, gamma=0.4, learning_rate=0.05, max_depth=6, min_child_weight=3;, score=0.843 total time=   1.4s\n",
      "[CV 1/3; 4/10] START colsample_bytree=0.7, gamma=0.3, learning_rate=0.05, max_depth=8, min_child_weight=1\n",
      "[CV 1/3; 4/10] END colsample_bytree=0.7, gamma=0.3, learning_rate=0.05, max_depth=8, min_child_weight=1;, score=0.887 total time=   2.4s\n",
      "[CV 2/3; 4/10] START colsample_bytree=0.7, gamma=0.3, learning_rate=0.05, max_depth=8, min_child_weight=1\n",
      "[CV 2/3; 4/10] END colsample_bytree=0.7, gamma=0.3, learning_rate=0.05, max_depth=8, min_child_weight=1;, score=0.887 total time=   2.7s\n",
      "[CV 3/3; 4/10] START colsample_bytree=0.7, gamma=0.3, learning_rate=0.05, max_depth=8, min_child_weight=1\n",
      "[CV 3/3; 4/10] END colsample_bytree=0.7, gamma=0.3, learning_rate=0.05, max_depth=8, min_child_weight=1;, score=0.887 total time=   2.5s\n",
      "[CV 1/3; 5/10] START colsample_bytree=0.5, gamma=0.2, learning_rate=0.1, max_depth=10, min_child_weight=3\n",
      "[CV 1/3; 5/10] END colsample_bytree=0.5, gamma=0.2, learning_rate=0.1, max_depth=10, min_child_weight=3;, score=0.884 total time=   3.2s\n",
      "[CV 2/3; 5/10] START colsample_bytree=0.5, gamma=0.2, learning_rate=0.1, max_depth=10, min_child_weight=3\n",
      "[CV 2/3; 5/10] END colsample_bytree=0.5, gamma=0.2, learning_rate=0.1, max_depth=10, min_child_weight=3;, score=0.881 total time=   2.9s\n",
      "[CV 3/3; 5/10] START colsample_bytree=0.5, gamma=0.2, learning_rate=0.1, max_depth=10, min_child_weight=3\n",
      "[CV 3/3; 5/10] END colsample_bytree=0.5, gamma=0.2, learning_rate=0.1, max_depth=10, min_child_weight=3;, score=0.885 total time=   2.7s\n",
      "[CV 1/3; 6/10] START colsample_bytree=0.7, gamma=0.2, learning_rate=0.15, max_depth=4, min_child_weight=7\n",
      "[CV 1/3; 6/10] END colsample_bytree=0.7, gamma=0.2, learning_rate=0.15, max_depth=4, min_child_weight=7;, score=0.891 total time=   1.1s\n",
      "[CV 2/3; 6/10] START colsample_bytree=0.7, gamma=0.2, learning_rate=0.15, max_depth=4, min_child_weight=7\n",
      "[CV 2/3; 6/10] END colsample_bytree=0.7, gamma=0.2, learning_rate=0.15, max_depth=4, min_child_weight=7;, score=0.888 total time=   1.1s\n",
      "[CV 3/3; 6/10] START colsample_bytree=0.7, gamma=0.2, learning_rate=0.15, max_depth=4, min_child_weight=7\n",
      "[CV 3/3; 6/10] END colsample_bytree=0.7, gamma=0.2, learning_rate=0.15, max_depth=4, min_child_weight=7;, score=0.890 total time=   1.2s\n",
      "[CV 1/3; 7/10] START colsample_bytree=0.5, gamma=0.4, learning_rate=0.25, max_depth=5, min_child_weight=1\n",
      "[CV 1/3; 7/10] END colsample_bytree=0.5, gamma=0.4, learning_rate=0.25, max_depth=5, min_child_weight=1;, score=0.888 total time=   1.6s\n",
      "[CV 2/3; 7/10] START colsample_bytree=0.5, gamma=0.4, learning_rate=0.25, max_depth=5, min_child_weight=1\n",
      "[CV 2/3; 7/10] END colsample_bytree=0.5, gamma=0.4, learning_rate=0.25, max_depth=5, min_child_weight=1;, score=0.882 total time=   1.5s\n",
      "[CV 3/3; 7/10] START colsample_bytree=0.5, gamma=0.4, learning_rate=0.25, max_depth=5, min_child_weight=1\n",
      "[CV 3/3; 7/10] END colsample_bytree=0.5, gamma=0.4, learning_rate=0.25, max_depth=5, min_child_weight=1;, score=0.889 total time=   1.5s\n",
      "[CV 1/3; 8/10] START colsample_bytree=0.7, gamma=0.2, learning_rate=0.2, max_depth=3, min_child_weight=5\n",
      "[CV 1/3; 8/10] END colsample_bytree=0.7, gamma=0.2, learning_rate=0.2, max_depth=3, min_child_weight=5;, score=0.890 total time=   0.9s\n",
      "[CV 2/3; 8/10] START colsample_bytree=0.7, gamma=0.2, learning_rate=0.2, max_depth=3, min_child_weight=5\n",
      "[CV 2/3; 8/10] END colsample_bytree=0.7, gamma=0.2, learning_rate=0.2, max_depth=3, min_child_weight=5;, score=0.886 total time=   0.8s\n",
      "[CV 3/3; 8/10] START colsample_bytree=0.7, gamma=0.2, learning_rate=0.2, max_depth=3, min_child_weight=5\n",
      "[CV 3/3; 8/10] END colsample_bytree=0.7, gamma=0.2, learning_rate=0.2, max_depth=3, min_child_weight=5;, score=0.889 total time=   0.9s\n",
      "[CV 1/3; 9/10] START colsample_bytree=0.5, gamma=0.1, learning_rate=0.1, max_depth=6, min_child_weight=7\n",
      "[CV 1/3; 9/10] END colsample_bytree=0.5, gamma=0.1, learning_rate=0.1, max_depth=6, min_child_weight=7;, score=0.891 total time=   1.8s\n",
      "[CV 2/3; 9/10] START colsample_bytree=0.5, gamma=0.1, learning_rate=0.1, max_depth=6, min_child_weight=7\n",
      "[CV 2/3; 9/10] END colsample_bytree=0.5, gamma=0.1, learning_rate=0.1, max_depth=6, min_child_weight=7;, score=0.885 total time=   1.9s\n",
      "[CV 3/3; 9/10] START colsample_bytree=0.5, gamma=0.1, learning_rate=0.1, max_depth=6, min_child_weight=7\n",
      "[CV 3/3; 9/10] END colsample_bytree=0.5, gamma=0.1, learning_rate=0.1, max_depth=6, min_child_weight=7;, score=0.890 total time=   2.5s\n",
      "[CV 1/3; 10/10] START colsample_bytree=0.7, gamma=0.0, learning_rate=0.3, max_depth=3, min_child_weight=7\n",
      "[CV 1/3; 10/10] END colsample_bytree=0.7, gamma=0.0, learning_rate=0.3, max_depth=3, min_child_weight=7;, score=0.888 total time=   0.9s\n",
      "[CV 2/3; 10/10] START colsample_bytree=0.7, gamma=0.0, learning_rate=0.3, max_depth=3, min_child_weight=7\n",
      "[CV 2/3; 10/10] END colsample_bytree=0.7, gamma=0.0, learning_rate=0.3, max_depth=3, min_child_weight=7;, score=0.882 total time=   0.7s\n",
      "[CV 3/3; 10/10] START colsample_bytree=0.7, gamma=0.0, learning_rate=0.3, max_depth=3, min_child_weight=7\n",
      "[CV 3/3; 10/10] END colsample_bytree=0.7, gamma=0.0, learning_rate=0.3, max_depth=3, min_child_weight=7;, score=0.887 total time=   1.3s\n",
      "Best params: {'min_child_weight': 7, 'max_depth': 4, 'learning_rate': 0.15, 'gamma': 0.2, 'colsample_bytree': 0.7}\n",
      "Best score: 0.8897000169493475\n"
     ]
    }
   ],
   "source": [
    "# 6 x 8 x 4 x 5 x 4 x 3 (cv) = 11,520 max combinations\n",
    "clf = RandomizedSearchCV(\n",
    "    estimator=XGBClassifier(),\n",
    "    param_distributions=dict(\n",
    "        learning_rate=[0.05, 0.10, 0.15, 0.20, 0.25, 0.30],\n",
    "        max_depth=[3, 4, 5, 6, 8, 10, 12, 15],\n",
    "        min_child_weight=[1, 3, 5, 7],\n",
    "        gamma=[0.0, 0.1, 0.2 , 0.3, 0.4],\n",
    "        colsample_bytree=[0.3, 0.4, 0.5 , 0.7]),\n",
    "    cv=3,\n",
    "    verbose=10)\n",
    "clf.fit(X, y)\n",
    "\n",
    "print(\"Best params:\", clf.best_params_)\n",
    "print(\"Best score:\", clf.best_score_)"
   ]
  }
 ],
 "metadata": {
  "kernelspec": {
   "display_name": "venv",
   "language": "python",
   "name": "python3"
  },
  "language_info": {
   "codemirror_mode": {
    "name": "ipython",
    "version": 3
   },
   "file_extension": ".py",
   "mimetype": "text/x-python",
   "name": "python",
   "nbconvert_exporter": "python",
   "pygments_lexer": "ipython3",
   "version": "3.9.6"
  }
 },
 "nbformat": 4,
 "nbformat_minor": 2
}
