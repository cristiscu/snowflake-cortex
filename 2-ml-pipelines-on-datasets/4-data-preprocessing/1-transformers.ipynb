{
 "cells": [
  {
   "cell_type": "markdown",
   "metadata": {},
   "source": [
    "Connect to Snowflake w/ the Python Connector and SNOWSQL config file data"
   ]
  },
  {
   "cell_type": "code",
   "execution_count": 1,
   "metadata": {},
   "outputs": [
    {
     "name": "stdout",
     "output_type": "stream",
     "text": [
      "[Row(CURRENT_WAREHOUSE()='COMPUTE_WH', CURRENT_DATABASE()='TEST', CURRENT_SCHEMA()='PUBLIC')]\n"
     ]
    }
   ],
   "source": [
    "# see https://github.com/Snowflake-Labs/sfguide-snowpark-scikit-learn/blob/main/3_snowpark_end_to_end_ml.ipynb\n",
    "import os, configparser\n",
    "parser = configparser.ConfigParser()\n",
    "parser.read(os.path.join(os.path.expanduser('~'), \".snowsql/config\"))\n",
    "section = \"connections.test_conn\"\n",
    "pars = {\n",
    "    \"account\": parser.get(section, \"accountname\"),\n",
    "    \"user\": parser.get(section, \"username\"),\n",
    "    \"password\": parser.get(section, \"password\"),\n",
    "    \"database\": parser.get(section, \"database\"),\n",
    "    \"schema\": parser.get(section, \"schema\")}\n",
    "\n",
    "from snowflake.snowpark import Session\n",
    "session = Session.builder.configs(pars).create()\n",
    "print(session.sql('select current_warehouse(), current_database(), current_schema()').collect())"
   ]
  },
  {
   "cell_type": "markdown",
   "metadata": {},
   "source": [
    "Get 10% sample data from the HOUSING table, and separate MEDIAN_HOWSE_VALUE"
   ]
  },
  {
   "cell_type": "code",
   "execution_count": 36,
   "metadata": {},
   "outputs": [
    {
     "data": {
      "text/html": [
       "<div>\n",
       "<style scoped>\n",
       "    .dataframe tbody tr th:only-of-type {\n",
       "        vertical-align: middle;\n",
       "    }\n",
       "\n",
       "    .dataframe tbody tr th {\n",
       "        vertical-align: top;\n",
       "    }\n",
       "\n",
       "    .dataframe thead th {\n",
       "        text-align: right;\n",
       "    }\n",
       "</style>\n",
       "<table border=\"1\" class=\"dataframe\">\n",
       "  <thead>\n",
       "    <tr style=\"text-align: right;\">\n",
       "      <th></th>\n",
       "      <th>LONGITUDE</th>\n",
       "      <th>LATITUDE</th>\n",
       "      <th>HOUSING_MEDIAN_AGE</th>\n",
       "      <th>TOTAL_ROOMS</th>\n",
       "      <th>TOTAL_BEDROOMS</th>\n",
       "      <th>POPULATION</th>\n",
       "      <th>HOUSEHOLDS</th>\n",
       "      <th>MEDIAN_INCOME</th>\n",
       "      <th>OCEAN_PROXIMITY</th>\n",
       "    </tr>\n",
       "  </thead>\n",
       "  <tbody>\n",
       "    <tr>\n",
       "      <th>0</th>\n",
       "      <td>-122.25</td>\n",
       "      <td>37.85</td>\n",
       "      <td>52.0</td>\n",
       "      <td>919.0</td>\n",
       "      <td>213.0</td>\n",
       "      <td>413.0</td>\n",
       "      <td>193.0</td>\n",
       "      <td>4.0368</td>\n",
       "      <td>NEAR BAY</td>\n",
       "    </tr>\n",
       "    <tr>\n",
       "      <th>1</th>\n",
       "      <td>-122.28</td>\n",
       "      <td>37.84</td>\n",
       "      <td>52.0</td>\n",
       "      <td>2153.0</td>\n",
       "      <td>481.0</td>\n",
       "      <td>1168.0</td>\n",
       "      <td>441.0</td>\n",
       "      <td>1.9615</td>\n",
       "      <td>NEAR BAY</td>\n",
       "    </tr>\n",
       "    <tr>\n",
       "      <th>2</th>\n",
       "      <td>-122.29</td>\n",
       "      <td>37.81</td>\n",
       "      <td>50.0</td>\n",
       "      <td>760.0</td>\n",
       "      <td>190.0</td>\n",
       "      <td>377.0</td>\n",
       "      <td>122.0</td>\n",
       "      <td>0.9011</td>\n",
       "      <td>NEAR BAY</td>\n",
       "    </tr>\n",
       "    <tr>\n",
       "      <th>3</th>\n",
       "      <td>-122.29</td>\n",
       "      <td>37.81</td>\n",
       "      <td>46.0</td>\n",
       "      <td>935.0</td>\n",
       "      <td>297.0</td>\n",
       "      <td>582.0</td>\n",
       "      <td>277.0</td>\n",
       "      <td>0.7286</td>\n",
       "      <td>NEAR BAY</td>\n",
       "    </tr>\n",
       "    <tr>\n",
       "      <th>4</th>\n",
       "      <td>-122.29</td>\n",
       "      <td>37.81</td>\n",
       "      <td>46.0</td>\n",
       "      <td>12.0</td>\n",
       "      <td>4.0</td>\n",
       "      <td>18.0</td>\n",
       "      <td>7.0</td>\n",
       "      <td>0.4999</td>\n",
       "      <td>NEAR BAY</td>\n",
       "    </tr>\n",
       "    <tr>\n",
       "      <th>...</th>\n",
       "      <td>...</td>\n",
       "      <td>...</td>\n",
       "      <td>...</td>\n",
       "      <td>...</td>\n",
       "      <td>...</td>\n",
       "      <td>...</td>\n",
       "      <td>...</td>\n",
       "      <td>...</td>\n",
       "      <td>...</td>\n",
       "    </tr>\n",
       "    <tr>\n",
       "      <th>2035</th>\n",
       "      <td>-121.76</td>\n",
       "      <td>38.68</td>\n",
       "      <td>38.0</td>\n",
       "      <td>674.0</td>\n",
       "      <td>178.0</td>\n",
       "      <td>701.0</td>\n",
       "      <td>189.0</td>\n",
       "      <td>1.3942</td>\n",
       "      <td>INLAND</td>\n",
       "    </tr>\n",
       "    <tr>\n",
       "      <th>2036</th>\n",
       "      <td>-121.78</td>\n",
       "      <td>38.66</td>\n",
       "      <td>18.0</td>\n",
       "      <td>4224.0</td>\n",
       "      <td>632.0</td>\n",
       "      <td>1907.0</td>\n",
       "      <td>641.0</td>\n",
       "      <td>4.8226</td>\n",
       "      <td>INLAND</td>\n",
       "    </tr>\n",
       "    <tr>\n",
       "      <th>2037</th>\n",
       "      <td>-121.58</td>\n",
       "      <td>39.16</td>\n",
       "      <td>36.0</td>\n",
       "      <td>1206.0</td>\n",
       "      <td>197.0</td>\n",
       "      <td>537.0</td>\n",
       "      <td>204.0</td>\n",
       "      <td>3.3611</td>\n",
       "      <td>INLAND</td>\n",
       "    </tr>\n",
       "    <tr>\n",
       "      <th>2038</th>\n",
       "      <td>-121.48</td>\n",
       "      <td>39.10</td>\n",
       "      <td>19.0</td>\n",
       "      <td>2043.0</td>\n",
       "      <td>421.0</td>\n",
       "      <td>1018.0</td>\n",
       "      <td>390.0</td>\n",
       "      <td>2.5952</td>\n",
       "      <td>INLAND</td>\n",
       "    </tr>\n",
       "    <tr>\n",
       "      <th>2039</th>\n",
       "      <td>-121.24</td>\n",
       "      <td>39.37</td>\n",
       "      <td>16.0</td>\n",
       "      <td>2785.0</td>\n",
       "      <td>616.0</td>\n",
       "      <td>1387.0</td>\n",
       "      <td>530.0</td>\n",
       "      <td>2.3886</td>\n",
       "      <td>INLAND</td>\n",
       "    </tr>\n",
       "  </tbody>\n",
       "</table>\n",
       "<p>2040 rows × 9 columns</p>\n",
       "</div>"
      ],
      "text/plain": [
       "      LONGITUDE  LATITUDE  HOUSING_MEDIAN_AGE  TOTAL_ROOMS  TOTAL_BEDROOMS  \\\n",
       "0       -122.25     37.85                52.0        919.0           213.0   \n",
       "1       -122.28     37.84                52.0       2153.0           481.0   \n",
       "2       -122.29     37.81                50.0        760.0           190.0   \n",
       "3       -122.29     37.81                46.0        935.0           297.0   \n",
       "4       -122.29     37.81                46.0         12.0             4.0   \n",
       "...         ...       ...                 ...          ...             ...   \n",
       "2035    -121.76     38.68                38.0        674.0           178.0   \n",
       "2036    -121.78     38.66                18.0       4224.0           632.0   \n",
       "2037    -121.58     39.16                36.0       1206.0           197.0   \n",
       "2038    -121.48     39.10                19.0       2043.0           421.0   \n",
       "2039    -121.24     39.37                16.0       2785.0           616.0   \n",
       "\n",
       "      POPULATION  HOUSEHOLDS  MEDIAN_INCOME OCEAN_PROXIMITY  \n",
       "0          413.0       193.0         4.0368        NEAR BAY  \n",
       "1         1168.0       441.0         1.9615        NEAR BAY  \n",
       "2          377.0       122.0         0.9011        NEAR BAY  \n",
       "3          582.0       277.0         0.7286        NEAR BAY  \n",
       "4           18.0         7.0         0.4999        NEAR BAY  \n",
       "...          ...         ...            ...             ...  \n",
       "2035       701.0       189.0         1.3942          INLAND  \n",
       "2036      1907.0       641.0         4.8226          INLAND  \n",
       "2037       537.0       204.0         3.3611          INLAND  \n",
       "2038      1018.0       390.0         2.5952          INLAND  \n",
       "2039      1387.0       530.0         2.3886          INLAND  \n",
       "\n",
       "[2040 rows x 9 columns]"
      ]
     },
     "execution_count": 36,
     "metadata": {},
     "output_type": "execute_result"
    }
   ],
   "source": [
    "df = session.table(\"HOUSING\").sample(frac=0.10).to_pandas()\n",
    "df.shape\n",
    "\n",
    "X = df.loc[:, df.columns != 'MEDIAN_HOUSE_VALUE']\n",
    "X"
   ]
  },
  {
   "cell_type": "markdown",
   "metadata": {},
   "source": [
    "Perform data preprocessing in a transformation pipeline"
   ]
  },
  {
   "cell_type": "code",
   "execution_count": 37,
   "metadata": {},
   "outputs": [
    {
     "data": {
      "text/plain": [
       "(2040, 8)"
      ]
     },
     "execution_count": 37,
     "metadata": {},
     "output_type": "execute_result"
    }
   ],
   "source": [
    "from sklearn.impute import SimpleImputer\n",
    "from sklearn.preprocessing import StandardScaler, OneHotEncoder\n",
    "\n",
    "COL_NAMES = ['LONGITUDE', 'LATITUDE', 'HOUSING_MEDIAN_AGE', 'TOTAL_ROOMS',\n",
    "    'TOTAL_BEDROOMS', 'POPULATION', 'HOUSEHOLDS', 'MEDIAN_INCOME']\n",
    "\n",
    "imputer_num = SimpleImputer(strategy=\"median\")\n",
    "X_imputer_num = imputer_num.fit_transform(X[COL_NAMES])\n",
    "X_imputer_num.shape"
   ]
  },
  {
   "cell_type": "code",
   "execution_count": 38,
   "metadata": {},
   "outputs": [
    {
     "data": {
      "text/plain": [
       "array([[-1.33422451,  1.05178717,  1.82765258, ..., -0.93925166,\n",
       "        -0.82368334,  0.13942165],\n",
       "       [-1.34899017,  1.04712781,  1.82765258, ..., -0.22762737,\n",
       "        -0.145585  , -0.98853856],\n",
       "       [-1.35391206,  1.03314972,  1.67002305, ..., -0.97318341,\n",
       "        -1.01781633, -1.56488367],\n",
       "       ...,\n",
       "       [-1.00445811,  1.66216368,  0.56661634, ..., -0.82237561,\n",
       "        -0.7936064 , -0.22783258],\n",
       "       [-0.95523925,  1.6342075 , -0.77323466, ..., -0.36900968,\n",
       "        -0.28503264, -0.64411203],\n",
       "       [-0.83711397,  1.76001029, -1.00967895, ..., -0.02120919,\n",
       "         0.09776481, -0.75640258]])"
      ]
     },
     "execution_count": 38,
     "metadata": {},
     "output_type": "execute_result"
    }
   ],
   "source": [
    "scaler_num = StandardScaler()\n",
    "X_scaler_num = scaler_num.fit_transform(X_imputer_num)\n",
    "X_scaler_num.shape\n",
    "X_scaler_num"
   ]
  },
  {
   "cell_type": "code",
   "execution_count": 39,
   "metadata": {},
   "outputs": [
    {
     "data": {
      "text/plain": [
       "array([['NEAR BAY'],\n",
       "       ['NEAR BAY'],\n",
       "       ['NEAR BAY'],\n",
       "       ...,\n",
       "       ['INLAND'],\n",
       "       ['INLAND'],\n",
       "       ['INLAND']], dtype=object)"
      ]
     },
     "execution_count": 39,
     "metadata": {},
     "output_type": "execute_result"
    }
   ],
   "source": [
    "imputer_cat = SimpleImputer(strategy='most_frequent')\n",
    "X_imputer_cat = imputer_cat.fit_transform(X[['OCEAN_PROXIMITY']])\n",
    "X_imputer_cat.shape\n",
    "X_imputer_cat"
   ]
  },
  {
   "cell_type": "code",
   "execution_count": 44,
   "metadata": {},
   "outputs": [
    {
     "data": {
      "text/plain": [
       "(2040, 5)"
      ]
     },
     "execution_count": 44,
     "metadata": {},
     "output_type": "execute_result"
    }
   ],
   "source": [
    "onehot_cat = OneHotEncoder(handle_unknown='ignore')\n",
    "X_onehot_cat = onehot_cat.fit_transform(X_imputer_cat)\n",
    "X_onehot_cat.shape"
   ]
  },
  {
   "cell_type": "code",
   "execution_count": 43,
   "metadata": {},
   "outputs": [
    {
     "ename": "ValueError",
     "evalue": "all the input arrays must have same number of dimensions, but the array at index 0 has 2 dimension(s) and the array at index 1 has 0 dimension(s)",
     "output_type": "error",
     "traceback": [
      "\u001b[1;31m---------------------------------------------------------------------------\u001b[0m",
      "\u001b[1;31mValueError\u001b[0m                                Traceback (most recent call last)",
      "Input \u001b[1;32mIn [43]\u001b[0m, in \u001b[0;36m<cell line: 2>\u001b[1;34m()\u001b[0m\n\u001b[0;32m      1\u001b[0m \u001b[38;5;28;01mimport\u001b[39;00m \u001b[38;5;21;01mnumpy\u001b[39;00m \u001b[38;5;28;01mas\u001b[39;00m \u001b[38;5;21;01mnp\u001b[39;00m\n\u001b[1;32m----> 2\u001b[0m model \u001b[38;5;241m=\u001b[39m \u001b[43mnp\u001b[49m\u001b[38;5;241;43m.\u001b[39;49m\u001b[43mconcatenate\u001b[49m\u001b[43m(\u001b[49m\u001b[43m(\u001b[49m\u001b[43mX_scaler_num\u001b[49m\u001b[43m,\u001b[49m\u001b[43m \u001b[49m\u001b[43mX_onehot_cat\u001b[49m\u001b[43m)\u001b[49m\u001b[43m,\u001b[49m\u001b[43m \u001b[49m\u001b[43maxis\u001b[49m\u001b[38;5;241;43m=\u001b[39;49m\u001b[38;5;241;43m0\u001b[39;49m\u001b[43m)\u001b[49m\n\u001b[0;32m      3\u001b[0m model\n",
      "File \u001b[1;32m<__array_function__ internals>:180\u001b[0m, in \u001b[0;36mconcatenate\u001b[1;34m(*args, **kwargs)\u001b[0m\n",
      "\u001b[1;31mValueError\u001b[0m: all the input arrays must have same number of dimensions, but the array at index 0 has 2 dimension(s) and the array at index 1 has 0 dimension(s)"
     ]
    }
   ],
   "source": [
    "import numpy as np\n",
    "model = np.concatenate((X_scaler_num, X_onehot_cat), axis=0)\n",
    "model"
   ]
  },
  {
   "cell_type": "markdown",
   "metadata": {},
   "source": [
    "Check changes on numeric features"
   ]
  },
  {
   "cell_type": "code",
   "execution_count": 13,
   "metadata": {},
   "outputs": [
    {
     "data": {
      "text/html": [
       "<div>\n",
       "<style scoped>\n",
       "    .dataframe tbody tr th:only-of-type {\n",
       "        vertical-align: middle;\n",
       "    }\n",
       "\n",
       "    .dataframe tbody tr th {\n",
       "        vertical-align: top;\n",
       "    }\n",
       "\n",
       "    .dataframe thead th {\n",
       "        text-align: right;\n",
       "    }\n",
       "</style>\n",
       "<table border=\"1\" class=\"dataframe\">\n",
       "  <thead>\n",
       "    <tr style=\"text-align: right;\">\n",
       "      <th></th>\n",
       "      <th>LONGITUDE</th>\n",
       "      <th>LATITUDE</th>\n",
       "      <th>HOUSING_MEDIAN_AGE</th>\n",
       "      <th>TOTAL_ROOMS</th>\n",
       "      <th>TOTAL_BEDROOMS</th>\n",
       "      <th>POPULATION</th>\n",
       "      <th>HOUSEHOLDS</th>\n",
       "      <th>MEDIAN_INCOME</th>\n",
       "    </tr>\n",
       "  </thead>\n",
       "  <tbody>\n",
       "    <tr>\n",
       "      <th>0</th>\n",
       "      <td>-1.317692</td>\n",
       "      <td>1.011817</td>\n",
       "      <td>1.798864</td>\n",
       "      <td>-0.484724</td>\n",
       "      <td>-0.804421</td>\n",
       "      <td>-0.808493</td>\n",
       "      <td>-0.821501</td>\n",
       "      <td>1.848730</td>\n",
       "    </tr>\n",
       "    <tr>\n",
       "      <th>1</th>\n",
       "      <td>-1.322613</td>\n",
       "      <td>1.007248</td>\n",
       "      <td>1.798864</td>\n",
       "      <td>0.246963</td>\n",
       "      <td>0.409874</td>\n",
       "      <td>-0.191496</td>\n",
       "      <td>0.447295</td>\n",
       "      <td>-0.392533</td>\n",
       "    </tr>\n",
       "    <tr>\n",
       "      <th>2</th>\n",
       "      <td>-1.332455</td>\n",
       "      <td>1.011817</td>\n",
       "      <td>1.798864</td>\n",
       "      <td>-0.591550</td>\n",
       "      <td>-0.552767</td>\n",
       "      <td>-0.666612</td>\n",
       "      <td>-0.481356</td>\n",
       "      <td>-0.934133</td>\n",
       "    </tr>\n",
       "    <tr>\n",
       "      <th>3</th>\n",
       "      <td>-1.332455</td>\n",
       "      <td>1.007248</td>\n",
       "      <td>1.798864</td>\n",
       "      <td>-0.051612</td>\n",
       "      <td>0.053159</td>\n",
       "      <td>-0.324043</td>\n",
       "      <td>-0.008932</td>\n",
       "      <td>-1.148216</td>\n",
       "    </tr>\n",
       "    <tr>\n",
       "      <th>4</th>\n",
       "      <td>-1.337376</td>\n",
       "      <td>1.007248</td>\n",
       "      <td>1.642366</td>\n",
       "      <td>-0.209839</td>\n",
       "      <td>-0.066560</td>\n",
       "      <td>-0.215765</td>\n",
       "      <td>-0.022430</td>\n",
       "      <td>-1.192961</td>\n",
       "    </tr>\n",
       "    <tr>\n",
       "      <th>5</th>\n",
       "      <td>-1.337376</td>\n",
       "      <td>1.007248</td>\n",
       "      <td>1.564118</td>\n",
       "      <td>-0.284035</td>\n",
       "      <td>-0.176506</td>\n",
       "      <td>-0.465924</td>\n",
       "      <td>-0.278888</td>\n",
       "      <td>-1.038574</td>\n",
       "    </tr>\n",
       "    <tr>\n",
       "      <th>6</th>\n",
       "      <td>-1.342297</td>\n",
       "      <td>0.993540</td>\n",
       "      <td>-0.235603</td>\n",
       "      <td>-0.797155</td>\n",
       "      <td>-0.897265</td>\n",
       "      <td>-0.905570</td>\n",
       "      <td>-0.956480</td>\n",
       "      <td>-1.122810</td>\n",
       "    </tr>\n",
       "    <tr>\n",
       "      <th>7</th>\n",
       "      <td>-1.337376</td>\n",
       "      <td>0.993540</td>\n",
       "      <td>0.546884</td>\n",
       "      <td>0.162039</td>\n",
       "      <td>0.104468</td>\n",
       "      <td>-0.117755</td>\n",
       "      <td>0.074755</td>\n",
       "      <td>-0.757427</td>\n",
       "    </tr>\n",
       "    <tr>\n",
       "      <th>8</th>\n",
       "      <td>-1.337376</td>\n",
       "      <td>0.993540</td>\n",
       "      <td>-0.939842</td>\n",
       "      <td>-0.727428</td>\n",
       "      <td>-0.562540</td>\n",
       "      <td>-0.703016</td>\n",
       "      <td>-0.519150</td>\n",
       "      <td>-1.270100</td>\n",
       "    </tr>\n",
       "    <tr>\n",
       "      <th>9</th>\n",
       "      <td>-1.337376</td>\n",
       "      <td>0.993540</td>\n",
       "      <td>1.798864</td>\n",
       "      <td>-0.988458</td>\n",
       "      <td>-1.031643</td>\n",
       "      <td>-1.084789</td>\n",
       "      <td>-1.064462</td>\n",
       "      <td>-1.258832</td>\n",
       "    </tr>\n",
       "  </tbody>\n",
       "</table>\n",
       "</div>"
      ],
      "text/plain": [
       "   LONGITUDE  LATITUDE  HOUSING_MEDIAN_AGE  TOTAL_ROOMS  TOTAL_BEDROOMS  \\\n",
       "0  -1.317692  1.011817            1.798864    -0.484724       -0.804421   \n",
       "1  -1.322613  1.007248            1.798864     0.246963        0.409874   \n",
       "2  -1.332455  1.011817            1.798864    -0.591550       -0.552767   \n",
       "3  -1.332455  1.007248            1.798864    -0.051612        0.053159   \n",
       "4  -1.337376  1.007248            1.642366    -0.209839       -0.066560   \n",
       "5  -1.337376  1.007248            1.564118    -0.284035       -0.176506   \n",
       "6  -1.342297  0.993540           -0.235603    -0.797155       -0.897265   \n",
       "7  -1.337376  0.993540            0.546884     0.162039        0.104468   \n",
       "8  -1.337376  0.993540           -0.939842    -0.727428       -0.562540   \n",
       "9  -1.337376  0.993540            1.798864    -0.988458       -1.031643   \n",
       "\n",
       "   POPULATION  HOUSEHOLDS  MEDIAN_INCOME  \n",
       "0   -0.808493   -0.821501       1.848730  \n",
       "1   -0.191496    0.447295      -0.392533  \n",
       "2   -0.666612   -0.481356      -0.934133  \n",
       "3   -0.324043   -0.008932      -1.148216  \n",
       "4   -0.215765   -0.022430      -1.192961  \n",
       "5   -0.465924   -0.278888      -1.038574  \n",
       "6   -0.905570   -0.956480      -1.122810  \n",
       "7   -0.117755    0.074755      -0.757427  \n",
       "8   -0.703016   -0.519150      -1.270100  \n",
       "9   -1.084789   -1.064462      -1.258832  "
      ]
     },
     "execution_count": 13,
     "metadata": {},
     "output_type": "execute_result"
    }
   ],
   "source": [
    "import pandas as pd\n",
    "df_out = pd.DataFrame(model, index=df.index, columns=COL_NAMES[1:])\n",
    "df_out.head(10)"
   ]
  }
 ],
 "metadata": {
  "kernelspec": {
   "display_name": "Python 3",
   "language": "python",
   "name": "python3"
  },
  "language_info": {
   "codemirror_mode": {
    "name": "ipython",
    "version": 3
   },
   "file_extension": ".py",
   "mimetype": "text/x-python",
   "name": "python",
   "nbconvert_exporter": "python",
   "pygments_lexer": "ipython3",
   "version": "3.9.6"
  }
 },
 "nbformat": 4,
 "nbformat_minor": 2
}
