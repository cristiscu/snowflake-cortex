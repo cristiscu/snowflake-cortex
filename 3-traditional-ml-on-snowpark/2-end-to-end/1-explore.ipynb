{
 "cells": [
  {
   "cell_type": "markdown",
   "metadata": {},
   "source": [
    "Connect to Snowflake w/ the Python Connector and SNOWSQL config file data"
   ]
  },
  {
   "cell_type": "code",
   "execution_count": 13,
   "metadata": {},
   "outputs": [
    {
     "name": "stdout",
     "output_type": "stream",
     "text": [
      "[Row(CURRENT_WAREHOUSE()='COMPUTE_WH', CURRENT_DATABASE()='TEST', CURRENT_SCHEMA()='PUBLIC')]\n"
     ]
    }
   ],
   "source": [
    "# see https://github.com/Snowflake-Labs/sfguide-snowpark-scikit-learn/blob/main/2_data_exploration_transformation.ipynb\n",
    "import os, sys, configparser\n",
    "import numpy as np\n",
    "import snowflake.snowpark.functions as F\n",
    "from snowflake.snowpark import Session\n",
    "\n",
    "parser = configparser.ConfigParser()\n",
    "parser.read(os.path.join(os.path.expanduser('~'), \".snowsql/config\"))\n",
    "section = \"connections.test_conn\"\n",
    "pars = {\n",
    "    \"account\": parser.get(section, \"accountname\"),\n",
    "    \"user\": parser.get(section, \"username\"),\n",
    "    \"password\": parser.get(section, \"password\"),\n",
    "    \"database\": parser.get(section, \"database\"),\n",
    "    \"schema\": parser.get(section, \"schema\")}\n",
    "\n",
    "session = Session.builder.configs(pars).create()\n",
    "print(session.sql('select current_warehouse(), current_database(), current_schema()').collect())"
   ]
  },
  {
   "cell_type": "markdown",
   "metadata": {},
   "source": [
    "Connect to the HOUSING table (but nothing loaded!)"
   ]
  },
  {
   "cell_type": "code",
   "execution_count": 14,
   "metadata": {},
   "outputs": [
    {
     "name": "stdout",
     "output_type": "stream",
     "text": [
      "Memory: 0.0 MB\n",
      "---------------------------------------------------------------------------------------------------------------------------------------------------------------------------------\n",
      "|\"LONGITUDE\"  |\"LATITUDE\"  |\"HOUSING_MEDIAN_AGE\"  |\"TOTAL_ROOMS\"  |\"TOTAL_BEDROOMS\"  |\"POPULATION\"  |\"HOUSEHOLDS\"  |\"MEDIAN_INCOME\"  |\"MEDIAN_HOUSE_VALUE\"  |\"OCEAN_PROXIMITY\"  |\n",
      "---------------------------------------------------------------------------------------------------------------------------------------------------------------------------------\n",
      "|-122.23      |37.88       |41.0                  |880.0          |129.0             |322.0         |126.0         |8.3252           |452600.0              |NEAR BAY           |\n",
      "|-122.22      |37.86       |21.0                  |7099.0         |1106.0            |2401.0        |1138.0        |8.3014           |358500.0              |NEAR BAY           |\n",
      "|-122.24      |37.85       |52.0                  |1467.0         |190.0             |496.0         |177.0         |7.2574           |352100.0              |NEAR BAY           |\n",
      "|-122.25      |37.85       |52.0                  |1274.0         |235.0             |558.0         |219.0         |5.6431           |341300.0              |NEAR BAY           |\n",
      "|-122.25      |37.85       |52.0                  |1627.0         |280.0             |565.0         |259.0         |3.8462           |342200.0              |NEAR BAY           |\n",
      "|-122.25      |37.85       |52.0                  |919.0          |213.0             |413.0         |193.0         |4.0368           |269700.0              |NEAR BAY           |\n",
      "|-122.25      |37.84       |52.0                  |2535.0         |489.0             |1094.0        |514.0         |3.6591           |299200.0              |NEAR BAY           |\n",
      "|-122.25      |37.84       |52.0                  |3104.0         |687.0             |1157.0        |647.0         |3.1200           |241400.0              |NEAR BAY           |\n",
      "|-122.26      |37.84       |42.0                  |2555.0         |665.0             |1206.0        |595.0         |2.0804           |226700.0              |NEAR BAY           |\n",
      "|-122.25      |37.84       |52.0                  |3549.0         |707.0             |1551.0        |714.0         |3.6912           |261100.0              |NEAR BAY           |\n",
      "---------------------------------------------------------------------------------------------------------------------------------------------------------------------------------\n",
      "\n"
     ]
    },
    {
     "data": {
      "text/plain": [
       "{'queries': ['SELECT  *  FROM (HOUSING)'], 'post_actions': []}"
      ]
     },
     "execution_count": 14,
     "metadata": {},
     "output_type": "execute_result"
    }
   ],
   "source": [
    "df = session.table('HOUSING')\n",
    "size = np.round(sys.getsizeof(df) / (1024.0**2), 2)\n",
    "print(f'Memory: {size} MB')\n",
    "df.show()\n",
    "df.queries"
   ]
  },
  {
   "cell_type": "markdown",
   "metadata": {},
   "source": [
    "Add calculated column and select some columns"
   ]
  },
  {
   "cell_type": "code",
   "execution_count": 15,
   "metadata": {},
   "outputs": [
    {
     "name": "stdout",
     "output_type": "stream",
     "text": [
      "----------------------------------------------------------------------------------------------------------------\n",
      "|\"HOUSING_MEDIAN_AGE\"  |\"TOTAL_ROOMS\"  |\"TOTAL_BEDROOMS\"  |\"HOUSEHOLDS\"  |\"OCEAN_PROXIMITY\"  |\"BEDROOM_RATIO\"  |\n",
      "----------------------------------------------------------------------------------------------------------------\n",
      "|41.0                  |880.0          |129.0             |126.0         |NEAR BAY           |0.1465909        |\n",
      "|21.0                  |7099.0         |1106.0            |1138.0        |NEAR BAY           |0.1557966        |\n",
      "|52.0                  |1467.0         |190.0             |177.0         |NEAR BAY           |0.1295160        |\n",
      "|52.0                  |1274.0         |235.0             |219.0         |NEAR BAY           |0.1844584        |\n",
      "|52.0                  |1627.0         |280.0             |259.0         |NEAR BAY           |0.1720959        |\n",
      "|52.0                  |919.0          |213.0             |193.0         |NEAR BAY           |0.2317737        |\n",
      "|52.0                  |2535.0         |489.0             |514.0         |NEAR BAY           |0.1928994        |\n",
      "|52.0                  |3104.0         |687.0             |647.0         |NEAR BAY           |0.2213273        |\n",
      "|42.0                  |2555.0         |665.0             |595.0         |NEAR BAY           |0.2602740        |\n",
      "|52.0                  |3549.0         |707.0             |714.0         |NEAR BAY           |0.1992110        |\n",
      "----------------------------------------------------------------------------------------------------------------\n",
      "\n"
     ]
    }
   ],
   "source": [
    "df = df.with_column('BEDROOM_RATIO', F.col('TOTAL_BEDROOMS') / F.col('TOTAL_ROOMS'))\n",
    "df = df.select('HOUSING_MEDIAN_AGE','TOTAL_ROOMS','TOTAL_BEDROOMS','HOUSEHOLDS','OCEAN_PROXIMITY', 'BEDROOM_RATIO')\n",
    "df.show()"
   ]
  },
  {
   "cell_type": "markdown",
   "metadata": {},
   "source": [
    "Drop calculated column"
   ]
  },
  {
   "cell_type": "code",
   "execution_count": 16,
   "metadata": {},
   "outputs": [
    {
     "name": "stdout",
     "output_type": "stream",
     "text": [
      "----------------------------------------------------------------------------------------------\n",
      "|\"HOUSING_MEDIAN_AGE\"  |\"TOTAL_ROOMS\"  |\"TOTAL_BEDROOMS\"  |\"HOUSEHOLDS\"  |\"OCEAN_PROXIMITY\"  |\n",
      "----------------------------------------------------------------------------------------------\n",
      "|41.0                  |880.0          |129.0             |126.0         |NEAR BAY           |\n",
      "|21.0                  |7099.0         |1106.0            |1138.0        |NEAR BAY           |\n",
      "|52.0                  |1467.0         |190.0             |177.0         |NEAR BAY           |\n",
      "|52.0                  |1274.0         |235.0             |219.0         |NEAR BAY           |\n",
      "|52.0                  |1627.0         |280.0             |259.0         |NEAR BAY           |\n",
      "|52.0                  |919.0          |213.0             |193.0         |NEAR BAY           |\n",
      "|52.0                  |2535.0         |489.0             |514.0         |NEAR BAY           |\n",
      "|52.0                  |3104.0         |687.0             |647.0         |NEAR BAY           |\n",
      "|42.0                  |2555.0         |665.0             |595.0         |NEAR BAY           |\n",
      "|52.0                  |3549.0         |707.0             |714.0         |NEAR BAY           |\n",
      "----------------------------------------------------------------------------------------------\n",
      "\n"
     ]
    }
   ],
   "source": [
    "df = df.drop('BEDROOM_RATIO')\n",
    "df.show()"
   ]
  },
  {
   "cell_type": "markdown",
   "metadata": {},
   "source": [
    "Filter data"
   ]
  },
  {
   "cell_type": "code",
   "execution_count": 17,
   "metadata": {},
   "outputs": [
    {
     "name": "stdout",
     "output_type": "stream",
     "text": [
      "----------------------------------------------------------------------------------------------\n",
      "|\"HOUSING_MEDIAN_AGE\"  |\"TOTAL_ROOMS\"  |\"TOTAL_BEDROOMS\"  |\"HOUSEHOLDS\"  |\"OCEAN_PROXIMITY\"  |\n",
      "----------------------------------------------------------------------------------------------\n",
      "|41.0                  |880.0          |129.0             |126.0         |NEAR BAY           |\n",
      "|21.0                  |7099.0         |1106.0            |1138.0        |NEAR BAY           |\n",
      "|52.0                  |1467.0         |190.0             |177.0         |NEAR BAY           |\n",
      "|52.0                  |1274.0         |235.0             |219.0         |NEAR BAY           |\n",
      "|52.0                  |1627.0         |280.0             |259.0         |NEAR BAY           |\n",
      "|52.0                  |919.0          |213.0             |193.0         |NEAR BAY           |\n",
      "|52.0                  |2535.0         |489.0             |514.0         |NEAR BAY           |\n",
      "|52.0                  |3104.0         |687.0             |647.0         |NEAR BAY           |\n",
      "|42.0                  |2555.0         |665.0             |595.0         |NEAR BAY           |\n",
      "|52.0                  |3549.0         |707.0             |714.0         |NEAR BAY           |\n",
      "----------------------------------------------------------------------------------------------\n",
      "\n"
     ]
    },
    {
     "data": {
      "text/plain": [
       "{'queries': ['SELECT \"HOUSING_MEDIAN_AGE\", \"TOTAL_ROOMS\", \"TOTAL_BEDROOMS\", \"HOUSEHOLDS\", \"OCEAN_PROXIMITY\" FROM HOUSING WHERE \"OCEAN_PROXIMITY\" IN (\\'INLAND\\', \\'ISLAND\\', \\'NEAR BAY\\')'],\n",
       " 'post_actions': []}"
      ]
     },
     "execution_count": 17,
     "metadata": {},
     "output_type": "execute_result"
    }
   ],
   "source": [
    "df = df.filter(F.col('OCEAN_PROXIMITY').in_(['INLAND','ISLAND', 'NEAR BAY']))\n",
    "df.show()\n",
    "df.queries"
   ]
  },
  {
   "cell_type": "markdown",
   "metadata": {},
   "source": [
    "Aggregate & sort data"
   ]
  },
  {
   "cell_type": "code",
   "execution_count": 18,
   "metadata": {},
   "outputs": [
    {
     "name": "stdout",
     "output_type": "stream",
     "text": [
      "----------------------------------------\n",
      "|\"OCEAN_PROXIMITY\"  |\"AVG_HOUSEHOLDS\"  |\n",
      "----------------------------------------\n",
      "|ISLAND             |276.6000000       |\n",
      "|INLAND             |477.4475653       |\n",
      "|NEAR BAY           |488.6161572       |\n",
      "----------------------------------------\n",
      "\n"
     ]
    }
   ],
   "source": [
    "df = df.group_by(['OCEAN_PROXIMITY']).agg([F.avg('HOUSEHOLDS').as_('AVG_HOUSEHOLDS')])\n",
    "df = df.sort(F.col('AVG_HOUSEHOLDS').asc())\n",
    "df.show()"
   ]
  },
  {
   "cell_type": "markdown",
   "metadata": {},
   "source": [
    "Save Snowpark DataFrame into a table + as a pandas DataFrame"
   ]
  },
  {
   "cell_type": "code",
   "execution_count": 22,
   "metadata": {},
   "outputs": [
    {
     "data": {
      "text/html": [
       "<div>\n",
       "<style scoped>\n",
       "    .dataframe tbody tr th:only-of-type {\n",
       "        vertical-align: middle;\n",
       "    }\n",
       "\n",
       "    .dataframe tbody tr th {\n",
       "        vertical-align: top;\n",
       "    }\n",
       "\n",
       "    .dataframe thead th {\n",
       "        text-align: right;\n",
       "    }\n",
       "</style>\n",
       "<table border=\"1\" class=\"dataframe\">\n",
       "  <thead>\n",
       "    <tr style=\"text-align: right;\">\n",
       "      <th></th>\n",
       "      <th>OCEAN_PROXIMITY</th>\n",
       "      <th>AVG_HOUSEHOLDS</th>\n",
       "    </tr>\n",
       "  </thead>\n",
       "  <tbody>\n",
       "    <tr>\n",
       "      <th>0</th>\n",
       "      <td>ISLAND</td>\n",
       "      <td>276.6000000</td>\n",
       "    </tr>\n",
       "    <tr>\n",
       "      <th>1</th>\n",
       "      <td>INLAND</td>\n",
       "      <td>477.4475653</td>\n",
       "    </tr>\n",
       "    <tr>\n",
       "      <th>2</th>\n",
       "      <td>NEAR BAY</td>\n",
       "      <td>488.6161572</td>\n",
       "    </tr>\n",
       "  </tbody>\n",
       "</table>\n",
       "</div>"
      ],
      "text/plain": [
       "  OCEAN_PROXIMITY AVG_HOUSEHOLDS\n",
       "0          ISLAND    276.6000000\n",
       "1          INLAND    477.4475653\n",
       "2        NEAR BAY    488.6161572"
      ]
     },
     "metadata": {},
     "output_type": "display_data"
    }
   ],
   "source": [
    "df.write.mode(\"overwrite\").save_as_table(\"HOUSING_SNOWPARK\")\n",
    "dfp = df.to_pandas()\n",
    "\n",
    "from IPython.display import display\n",
    "display(dfp)"
   ]
  }
 ],
 "metadata": {
  "kernelspec": {
   "display_name": "Python 3",
   "language": "python",
   "name": "python3"
  },
  "language_info": {
   "codemirror_mode": {
    "name": "ipython",
    "version": 3
   },
   "file_extension": ".py",
   "mimetype": "text/x-python",
   "name": "python",
   "nbconvert_exporter": "python",
   "pygments_lexer": "ipython3",
   "version": "3.9.6"
  }
 },
 "nbformat": 4,
 "nbformat_minor": 2
}
